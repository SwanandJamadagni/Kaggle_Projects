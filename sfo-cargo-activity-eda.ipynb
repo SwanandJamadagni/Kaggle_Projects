{
 "cells": [
  {
   "cell_type": "code",
   "execution_count": 1,
   "id": "831f6fc5",
   "metadata": {
    "_cell_guid": "b1076dfc-b9ad-4769-8c92-a6c4dae69d19",
    "_uuid": "8f2839f25d086af736a60e9eeb907d3b93b6e0e5",
    "execution": {
     "iopub.execute_input": "2022-02-21T20:44:19.250577Z",
     "iopub.status.busy": "2022-02-21T20:44:19.249502Z",
     "iopub.status.idle": "2022-02-21T20:44:19.266831Z",
     "shell.execute_reply": "2022-02-21T20:44:19.267651Z",
     "shell.execute_reply.started": "2022-02-21T20:35:06.711601Z"
    },
    "papermill": {
     "duration": 0.050605,
     "end_time": "2022-02-21T20:44:19.268115",
     "exception": false,
     "start_time": "2022-02-21T20:44:19.217510",
     "status": "completed"
    },
    "tags": []
   },
   "outputs": [
    {
     "name": "stdout",
     "output_type": "stream",
     "text": [
      "/kaggle/input/sfo-cargo-activity/SFO_Cargo_Activity_AA_DA_UA.csv\n"
     ]
    }
   ],
   "source": [
    "# This Python 3 environment comes with many helpful analytics libraries installed\n",
    "# It is defined by the kaggle/python Docker image: https://github.com/kaggle/docker-python\n",
    "# For example, here's several helpful packages to load\n",
    "\n",
    "import numpy as np # linear algebra\n",
    "import pandas as pd # data processing, CSV file I/O (e.g. pd.read_csv)\n",
    "import matplotlib.pyplot as plt\n",
    "\n",
    "# Input data files are available in the read-only \"../input/\" directory\n",
    "# For example, running this (by clicking run or pressing Shift+Enter) will list all files under the input directory\n",
    "\n",
    "import os\n",
    "for dirname, _, filenames in os.walk('/kaggle/input'):\n",
    "    for filename in filenames:\n",
    "        print(os.path.join(dirname, filename))\n",
    "\n",
    "# You can write up to 20GB to the current directory (/kaggle/working/) that gets preserved as output when you create a version using \"Save & Run All\" \n",
    "# You can also write temporary files to /kaggle/temp/, but they won't be saved outside of the current session"
   ]
  },
  {
   "cell_type": "code",
   "execution_count": 2,
   "id": "ade98321",
   "metadata": {
    "execution": {
     "iopub.execute_input": "2022-02-21T20:44:19.313952Z",
     "iopub.status.busy": "2022-02-21T20:44:19.313261Z",
     "iopub.status.idle": "2022-02-21T20:44:19.361440Z",
     "shell.execute_reply": "2022-02-21T20:44:19.362041Z",
     "shell.execute_reply.started": "2022-02-21T20:35:06.739429Z"
    },
    "papermill": {
     "duration": 0.071833,
     "end_time": "2022-02-21T20:44:19.362247",
     "exception": false,
     "start_time": "2022-02-21T20:44:19.290414",
     "status": "completed"
    },
    "tags": []
   },
   "outputs": [
    {
     "data": {
      "text/html": [
       "<div>\n",
       "<style scoped>\n",
       "    .dataframe tbody tr th:only-of-type {\n",
       "        vertical-align: middle;\n",
       "    }\n",
       "\n",
       "    .dataframe tbody tr th {\n",
       "        vertical-align: top;\n",
       "    }\n",
       "\n",
       "    .dataframe thead th {\n",
       "        text-align: right;\n",
       "    }\n",
       "</style>\n",
       "<table border=\"1\" class=\"dataframe\">\n",
       "  <thead>\n",
       "    <tr style=\"text-align: right;\">\n",
       "      <th></th>\n",
       "      <th>Activity Period</th>\n",
       "      <th>Operating Airline</th>\n",
       "      <th>Operating Airline IATA Code</th>\n",
       "      <th>GEO Summary</th>\n",
       "      <th>GEO Region</th>\n",
       "      <th>Cargo Type Code</th>\n",
       "      <th>Cargo Aircraft Type</th>\n",
       "      <th>Cargo Weight LBS</th>\n",
       "    </tr>\n",
       "  </thead>\n",
       "  <tbody>\n",
       "    <tr>\n",
       "      <th>0</th>\n",
       "      <td>200507</td>\n",
       "      <td>American Airlines</td>\n",
       "      <td>AA</td>\n",
       "      <td>Domestic</td>\n",
       "      <td>US</td>\n",
       "      <td>Cargo</td>\n",
       "      <td>Passenger</td>\n",
       "      <td>1745713</td>\n",
       "    </tr>\n",
       "    <tr>\n",
       "      <th>1</th>\n",
       "      <td>200507</td>\n",
       "      <td>American Airlines</td>\n",
       "      <td>AA</td>\n",
       "      <td>Domestic</td>\n",
       "      <td>US</td>\n",
       "      <td>Mail</td>\n",
       "      <td>Passenger</td>\n",
       "      <td>394829</td>\n",
       "    </tr>\n",
       "    <tr>\n",
       "      <th>2</th>\n",
       "      <td>200507</td>\n",
       "      <td>American Airlines</td>\n",
       "      <td>AA</td>\n",
       "      <td>Domestic</td>\n",
       "      <td>US</td>\n",
       "      <td>Cargo</td>\n",
       "      <td>Passenger</td>\n",
       "      <td>2610403</td>\n",
       "    </tr>\n",
       "    <tr>\n",
       "      <th>3</th>\n",
       "      <td>200507</td>\n",
       "      <td>American Airlines</td>\n",
       "      <td>AA</td>\n",
       "      <td>Domestic</td>\n",
       "      <td>US</td>\n",
       "      <td>Mail</td>\n",
       "      <td>Passenger</td>\n",
       "      <td>867692</td>\n",
       "    </tr>\n",
       "    <tr>\n",
       "      <th>4</th>\n",
       "      <td>200507</td>\n",
       "      <td>Delta Air Lines</td>\n",
       "      <td>DL</td>\n",
       "      <td>Domestic</td>\n",
       "      <td>US</td>\n",
       "      <td>Cargo</td>\n",
       "      <td>Passenger</td>\n",
       "      <td>722328</td>\n",
       "    </tr>\n",
       "    <tr>\n",
       "      <th>5</th>\n",
       "      <td>200507</td>\n",
       "      <td>Delta Air Lines</td>\n",
       "      <td>DL</td>\n",
       "      <td>Domestic</td>\n",
       "      <td>US</td>\n",
       "      <td>Express</td>\n",
       "      <td>Passenger</td>\n",
       "      <td>531960</td>\n",
       "    </tr>\n",
       "    <tr>\n",
       "      <th>6</th>\n",
       "      <td>200507</td>\n",
       "      <td>Delta Air Lines</td>\n",
       "      <td>DL</td>\n",
       "      <td>Domestic</td>\n",
       "      <td>US</td>\n",
       "      <td>Mail</td>\n",
       "      <td>Passenger</td>\n",
       "      <td>160118</td>\n",
       "    </tr>\n",
       "    <tr>\n",
       "      <th>7</th>\n",
       "      <td>200507</td>\n",
       "      <td>Delta Air Lines</td>\n",
       "      <td>DL</td>\n",
       "      <td>Domestic</td>\n",
       "      <td>US</td>\n",
       "      <td>Cargo</td>\n",
       "      <td>Passenger</td>\n",
       "      <td>64769</td>\n",
       "    </tr>\n",
       "    <tr>\n",
       "      <th>8</th>\n",
       "      <td>200507</td>\n",
       "      <td>Delta Air Lines</td>\n",
       "      <td>DL</td>\n",
       "      <td>Domestic</td>\n",
       "      <td>US</td>\n",
       "      <td>Express</td>\n",
       "      <td>Passenger</td>\n",
       "      <td>1481410</td>\n",
       "    </tr>\n",
       "    <tr>\n",
       "      <th>9</th>\n",
       "      <td>200507</td>\n",
       "      <td>Delta Air Lines</td>\n",
       "      <td>DL</td>\n",
       "      <td>Domestic</td>\n",
       "      <td>US</td>\n",
       "      <td>Mail</td>\n",
       "      <td>Passenger</td>\n",
       "      <td>213104</td>\n",
       "    </tr>\n",
       "  </tbody>\n",
       "</table>\n",
       "</div>"
      ],
      "text/plain": [
       "   Activity Period  Operating Airline Operating Airline IATA Code GEO Summary  \\\n",
       "0           200507  American Airlines                          AA    Domestic   \n",
       "1           200507  American Airlines                          AA    Domestic   \n",
       "2           200507  American Airlines                          AA    Domestic   \n",
       "3           200507  American Airlines                          AA    Domestic   \n",
       "4           200507    Delta Air Lines                          DL    Domestic   \n",
       "5           200507    Delta Air Lines                          DL    Domestic   \n",
       "6           200507    Delta Air Lines                          DL    Domestic   \n",
       "7           200507    Delta Air Lines                          DL    Domestic   \n",
       "8           200507    Delta Air Lines                          DL    Domestic   \n",
       "9           200507    Delta Air Lines                          DL    Domestic   \n",
       "\n",
       "  GEO Region Cargo Type Code Cargo Aircraft Type  Cargo Weight LBS  \n",
       "0         US           Cargo           Passenger           1745713  \n",
       "1         US            Mail           Passenger            394829  \n",
       "2         US           Cargo           Passenger           2610403  \n",
       "3         US            Mail           Passenger            867692  \n",
       "4         US           Cargo           Passenger            722328  \n",
       "5         US         Express           Passenger            531960  \n",
       "6         US            Mail           Passenger            160118  \n",
       "7         US           Cargo           Passenger             64769  \n",
       "8         US         Express           Passenger           1481410  \n",
       "9         US            Mail           Passenger            213104  "
      ]
     },
     "execution_count": 2,
     "metadata": {},
     "output_type": "execute_result"
    }
   ],
   "source": [
    "sfo_cargo_activity_df = pd.read_csv(\"/kaggle/input/sfo-cargo-activity/SFO_Cargo_Activity_AA_DA_UA.csv\")\n",
    "sfo_cargo_activity_df.head(10)"
   ]
  },
  {
   "cell_type": "code",
   "execution_count": 3,
   "id": "5e89f5bf",
   "metadata": {
    "execution": {
     "iopub.execute_input": "2022-02-21T20:44:19.408222Z",
     "iopub.status.busy": "2022-02-21T20:44:19.407520Z",
     "iopub.status.idle": "2022-02-21T20:44:19.417945Z",
     "shell.execute_reply": "2022-02-21T20:44:19.418863Z",
     "shell.execute_reply.started": "2022-02-21T20:35:06.805980Z"
    },
    "papermill": {
     "duration": 0.035891,
     "end_time": "2022-02-21T20:44:19.419063",
     "exception": false,
     "start_time": "2022-02-21T20:44:19.383172",
     "status": "completed"
    },
    "tags": []
   },
   "outputs": [
    {
     "name": "stdout",
     "output_type": "stream",
     "text": [
      "['American Airlines', 'Delta Air Lines', 'United Airlines']\n"
     ]
    }
   ],
   "source": [
    "airlines = sfo_cargo_activity_df.loc[:,'Operating Airline']\n",
    "airlines.drop_duplicates(keep='first',inplace=True)\n",
    "airlines = list(airlines)\n",
    "print(airlines)"
   ]
  },
  {
   "cell_type": "code",
   "execution_count": 4,
   "id": "ca6344ea",
   "metadata": {
    "execution": {
     "iopub.execute_input": "2022-02-21T20:44:19.475869Z",
     "iopub.status.busy": "2022-02-21T20:44:19.474719Z",
     "iopub.status.idle": "2022-02-21T20:44:19.494732Z",
     "shell.execute_reply": "2022-02-21T20:44:19.495253Z",
     "shell.execute_reply.started": "2022-02-21T20:35:06.820913Z"
    },
    "papermill": {
     "duration": 0.048694,
     "end_time": "2022-02-21T20:44:19.495443",
     "exception": false,
     "start_time": "2022-02-21T20:44:19.446749",
     "status": "completed"
    },
    "tags": []
   },
   "outputs": [
    {
     "data": {
      "text/html": [
       "<div>\n",
       "<style scoped>\n",
       "    .dataframe tbody tr th:only-of-type {\n",
       "        vertical-align: middle;\n",
       "    }\n",
       "\n",
       "    .dataframe tbody tr th {\n",
       "        vertical-align: top;\n",
       "    }\n",
       "\n",
       "    .dataframe thead th {\n",
       "        text-align: right;\n",
       "    }\n",
       "</style>\n",
       "<table border=\"1\" class=\"dataframe\">\n",
       "  <thead>\n",
       "    <tr style=\"text-align: right;\">\n",
       "      <th></th>\n",
       "      <th>Activity Period</th>\n",
       "      <th>Operating Airline</th>\n",
       "      <th>Operating Airline IATA Code</th>\n",
       "      <th>GEO Summary</th>\n",
       "      <th>GEO Region</th>\n",
       "      <th>Cargo Type Code</th>\n",
       "      <th>Cargo Aircraft Type</th>\n",
       "      <th>Cargo Weight LBS</th>\n",
       "    </tr>\n",
       "  </thead>\n",
       "  <tbody>\n",
       "    <tr>\n",
       "      <th>0</th>\n",
       "      <td>200507</td>\n",
       "      <td>American Airlines</td>\n",
       "      <td>AA</td>\n",
       "      <td>Domestic</td>\n",
       "      <td>US</td>\n",
       "      <td>Cargo</td>\n",
       "      <td>Passenger</td>\n",
       "      <td>1745713</td>\n",
       "    </tr>\n",
       "    <tr>\n",
       "      <th>1</th>\n",
       "      <td>200507</td>\n",
       "      <td>American Airlines</td>\n",
       "      <td>AA</td>\n",
       "      <td>Domestic</td>\n",
       "      <td>US</td>\n",
       "      <td>Mail</td>\n",
       "      <td>Passenger</td>\n",
       "      <td>394829</td>\n",
       "    </tr>\n",
       "    <tr>\n",
       "      <th>2</th>\n",
       "      <td>200507</td>\n",
       "      <td>American Airlines</td>\n",
       "      <td>AA</td>\n",
       "      <td>Domestic</td>\n",
       "      <td>US</td>\n",
       "      <td>Cargo</td>\n",
       "      <td>Passenger</td>\n",
       "      <td>2610403</td>\n",
       "    </tr>\n",
       "    <tr>\n",
       "      <th>3</th>\n",
       "      <td>200507</td>\n",
       "      <td>American Airlines</td>\n",
       "      <td>AA</td>\n",
       "      <td>Domestic</td>\n",
       "      <td>US</td>\n",
       "      <td>Mail</td>\n",
       "      <td>Passenger</td>\n",
       "      <td>867692</td>\n",
       "    </tr>\n",
       "    <tr>\n",
       "      <th>14</th>\n",
       "      <td>200508</td>\n",
       "      <td>American Airlines</td>\n",
       "      <td>AA</td>\n",
       "      <td>Domestic</td>\n",
       "      <td>US</td>\n",
       "      <td>Cargo</td>\n",
       "      <td>Passenger</td>\n",
       "      <td>2055952</td>\n",
       "    </tr>\n",
       "    <tr>\n",
       "      <th>15</th>\n",
       "      <td>200508</td>\n",
       "      <td>American Airlines</td>\n",
       "      <td>AA</td>\n",
       "      <td>Domestic</td>\n",
       "      <td>US</td>\n",
       "      <td>Mail</td>\n",
       "      <td>Passenger</td>\n",
       "      <td>361009</td>\n",
       "    </tr>\n",
       "    <tr>\n",
       "      <th>16</th>\n",
       "      <td>200508</td>\n",
       "      <td>American Airlines</td>\n",
       "      <td>AA</td>\n",
       "      <td>Domestic</td>\n",
       "      <td>US</td>\n",
       "      <td>Cargo</td>\n",
       "      <td>Passenger</td>\n",
       "      <td>2694082</td>\n",
       "    </tr>\n",
       "    <tr>\n",
       "      <th>17</th>\n",
       "      <td>200508</td>\n",
       "      <td>American Airlines</td>\n",
       "      <td>AA</td>\n",
       "      <td>Domestic</td>\n",
       "      <td>US</td>\n",
       "      <td>Mail</td>\n",
       "      <td>Passenger</td>\n",
       "      <td>903002</td>\n",
       "    </tr>\n",
       "    <tr>\n",
       "      <th>28</th>\n",
       "      <td>200509</td>\n",
       "      <td>American Airlines</td>\n",
       "      <td>AA</td>\n",
       "      <td>Domestic</td>\n",
       "      <td>US</td>\n",
       "      <td>Cargo</td>\n",
       "      <td>Passenger</td>\n",
       "      <td>2534009</td>\n",
       "    </tr>\n",
       "    <tr>\n",
       "      <th>29</th>\n",
       "      <td>200509</td>\n",
       "      <td>American Airlines</td>\n",
       "      <td>AA</td>\n",
       "      <td>Domestic</td>\n",
       "      <td>US</td>\n",
       "      <td>Mail</td>\n",
       "      <td>Passenger</td>\n",
       "      <td>319027</td>\n",
       "    </tr>\n",
       "  </tbody>\n",
       "</table>\n",
       "</div>"
      ],
      "text/plain": [
       "    Activity Period  Operating Airline Operating Airline IATA Code  \\\n",
       "0            200507  American Airlines                          AA   \n",
       "1            200507  American Airlines                          AA   \n",
       "2            200507  American Airlines                          AA   \n",
       "3            200507  American Airlines                          AA   \n",
       "14           200508  American Airlines                          AA   \n",
       "15           200508  American Airlines                          AA   \n",
       "16           200508  American Airlines                          AA   \n",
       "17           200508  American Airlines                          AA   \n",
       "28           200509  American Airlines                          AA   \n",
       "29           200509  American Airlines                          AA   \n",
       "\n",
       "   GEO Summary GEO Region Cargo Type Code Cargo Aircraft Type  \\\n",
       "0     Domestic         US           Cargo           Passenger   \n",
       "1     Domestic         US            Mail           Passenger   \n",
       "2     Domestic         US           Cargo           Passenger   \n",
       "3     Domestic         US            Mail           Passenger   \n",
       "14    Domestic         US           Cargo           Passenger   \n",
       "15    Domestic         US            Mail           Passenger   \n",
       "16    Domestic         US           Cargo           Passenger   \n",
       "17    Domestic         US            Mail           Passenger   \n",
       "28    Domestic         US           Cargo           Passenger   \n",
       "29    Domestic         US            Mail           Passenger   \n",
       "\n",
       "    Cargo Weight LBS  \n",
       "0            1745713  \n",
       "1             394829  \n",
       "2            2610403  \n",
       "3             867692  \n",
       "14           2055952  \n",
       "15            361009  \n",
       "16           2694082  \n",
       "17            903002  \n",
       "28           2534009  \n",
       "29            319027  "
      ]
     },
     "execution_count": 4,
     "metadata": {},
     "output_type": "execute_result"
    }
   ],
   "source": [
    "american_airlines_df = sfo_cargo_activity_df.loc[sfo_cargo_activity_df['Operating Airline'] == 'American Airlines',:]\n",
    "american_airlines_df.head(10)"
   ]
  },
  {
   "cell_type": "code",
   "execution_count": 5,
   "id": "a37118d4",
   "metadata": {
    "execution": {
     "iopub.execute_input": "2022-02-21T20:44:19.550503Z",
     "iopub.status.busy": "2022-02-21T20:44:19.549800Z",
     "iopub.status.idle": "2022-02-21T20:44:19.562559Z",
     "shell.execute_reply": "2022-02-21T20:44:19.563210Z",
     "shell.execute_reply.started": "2022-02-21T20:35:06.855177Z"
    },
    "papermill": {
     "duration": 0.044091,
     "end_time": "2022-02-21T20:44:19.563385",
     "exception": false,
     "start_time": "2022-02-21T20:44:19.519294",
     "status": "completed"
    },
    "tags": []
   },
   "outputs": [
    {
     "data": {
      "text/html": [
       "<div>\n",
       "<style scoped>\n",
       "    .dataframe tbody tr th:only-of-type {\n",
       "        vertical-align: middle;\n",
       "    }\n",
       "\n",
       "    .dataframe tbody tr th {\n",
       "        vertical-align: top;\n",
       "    }\n",
       "\n",
       "    .dataframe thead th {\n",
       "        text-align: right;\n",
       "    }\n",
       "</style>\n",
       "<table border=\"1\" class=\"dataframe\">\n",
       "  <thead>\n",
       "    <tr style=\"text-align: right;\">\n",
       "      <th></th>\n",
       "      <th>Activity Period</th>\n",
       "      <th>Operating Airline</th>\n",
       "      <th>Operating Airline IATA Code</th>\n",
       "      <th>GEO Summary</th>\n",
       "      <th>GEO Region</th>\n",
       "      <th>Cargo Type Code</th>\n",
       "      <th>Cargo Aircraft Type</th>\n",
       "      <th>Cargo Weight LBS</th>\n",
       "    </tr>\n",
       "  </thead>\n",
       "  <tbody>\n",
       "    <tr>\n",
       "      <th>4</th>\n",
       "      <td>200507</td>\n",
       "      <td>Delta Air Lines</td>\n",
       "      <td>DL</td>\n",
       "      <td>Domestic</td>\n",
       "      <td>US</td>\n",
       "      <td>Cargo</td>\n",
       "      <td>Passenger</td>\n",
       "      <td>722328</td>\n",
       "    </tr>\n",
       "    <tr>\n",
       "      <th>5</th>\n",
       "      <td>200507</td>\n",
       "      <td>Delta Air Lines</td>\n",
       "      <td>DL</td>\n",
       "      <td>Domestic</td>\n",
       "      <td>US</td>\n",
       "      <td>Express</td>\n",
       "      <td>Passenger</td>\n",
       "      <td>531960</td>\n",
       "    </tr>\n",
       "    <tr>\n",
       "      <th>6</th>\n",
       "      <td>200507</td>\n",
       "      <td>Delta Air Lines</td>\n",
       "      <td>DL</td>\n",
       "      <td>Domestic</td>\n",
       "      <td>US</td>\n",
       "      <td>Mail</td>\n",
       "      <td>Passenger</td>\n",
       "      <td>160118</td>\n",
       "    </tr>\n",
       "    <tr>\n",
       "      <th>7</th>\n",
       "      <td>200507</td>\n",
       "      <td>Delta Air Lines</td>\n",
       "      <td>DL</td>\n",
       "      <td>Domestic</td>\n",
       "      <td>US</td>\n",
       "      <td>Cargo</td>\n",
       "      <td>Passenger</td>\n",
       "      <td>64769</td>\n",
       "    </tr>\n",
       "    <tr>\n",
       "      <th>8</th>\n",
       "      <td>200507</td>\n",
       "      <td>Delta Air Lines</td>\n",
       "      <td>DL</td>\n",
       "      <td>Domestic</td>\n",
       "      <td>US</td>\n",
       "      <td>Express</td>\n",
       "      <td>Passenger</td>\n",
       "      <td>1481410</td>\n",
       "    </tr>\n",
       "    <tr>\n",
       "      <th>9</th>\n",
       "      <td>200507</td>\n",
       "      <td>Delta Air Lines</td>\n",
       "      <td>DL</td>\n",
       "      <td>Domestic</td>\n",
       "      <td>US</td>\n",
       "      <td>Mail</td>\n",
       "      <td>Passenger</td>\n",
       "      <td>213104</td>\n",
       "    </tr>\n",
       "    <tr>\n",
       "      <th>18</th>\n",
       "      <td>200508</td>\n",
       "      <td>Delta Air Lines</td>\n",
       "      <td>DL</td>\n",
       "      <td>Domestic</td>\n",
       "      <td>US</td>\n",
       "      <td>Cargo</td>\n",
       "      <td>Passenger</td>\n",
       "      <td>808305</td>\n",
       "    </tr>\n",
       "    <tr>\n",
       "      <th>19</th>\n",
       "      <td>200508</td>\n",
       "      <td>Delta Air Lines</td>\n",
       "      <td>DL</td>\n",
       "      <td>Domestic</td>\n",
       "      <td>US</td>\n",
       "      <td>Express</td>\n",
       "      <td>Passenger</td>\n",
       "      <td>531371</td>\n",
       "    </tr>\n",
       "    <tr>\n",
       "      <th>20</th>\n",
       "      <td>200508</td>\n",
       "      <td>Delta Air Lines</td>\n",
       "      <td>DL</td>\n",
       "      <td>Domestic</td>\n",
       "      <td>US</td>\n",
       "      <td>Mail</td>\n",
       "      <td>Passenger</td>\n",
       "      <td>142789</td>\n",
       "    </tr>\n",
       "    <tr>\n",
       "      <th>21</th>\n",
       "      <td>200508</td>\n",
       "      <td>Delta Air Lines</td>\n",
       "      <td>DL</td>\n",
       "      <td>Domestic</td>\n",
       "      <td>US</td>\n",
       "      <td>Cargo</td>\n",
       "      <td>Passenger</td>\n",
       "      <td>72393</td>\n",
       "    </tr>\n",
       "  </tbody>\n",
       "</table>\n",
       "</div>"
      ],
      "text/plain": [
       "    Activity Period Operating Airline Operating Airline IATA Code GEO Summary  \\\n",
       "4            200507   Delta Air Lines                          DL    Domestic   \n",
       "5            200507   Delta Air Lines                          DL    Domestic   \n",
       "6            200507   Delta Air Lines                          DL    Domestic   \n",
       "7            200507   Delta Air Lines                          DL    Domestic   \n",
       "8            200507   Delta Air Lines                          DL    Domestic   \n",
       "9            200507   Delta Air Lines                          DL    Domestic   \n",
       "18           200508   Delta Air Lines                          DL    Domestic   \n",
       "19           200508   Delta Air Lines                          DL    Domestic   \n",
       "20           200508   Delta Air Lines                          DL    Domestic   \n",
       "21           200508   Delta Air Lines                          DL    Domestic   \n",
       "\n",
       "   GEO Region Cargo Type Code Cargo Aircraft Type  Cargo Weight LBS  \n",
       "4          US           Cargo           Passenger            722328  \n",
       "5          US         Express           Passenger            531960  \n",
       "6          US            Mail           Passenger            160118  \n",
       "7          US           Cargo           Passenger             64769  \n",
       "8          US         Express           Passenger           1481410  \n",
       "9          US            Mail           Passenger            213104  \n",
       "18         US           Cargo           Passenger            808305  \n",
       "19         US         Express           Passenger            531371  \n",
       "20         US            Mail           Passenger            142789  \n",
       "21         US           Cargo           Passenger             72393  "
      ]
     },
     "execution_count": 5,
     "metadata": {},
     "output_type": "execute_result"
    }
   ],
   "source": [
    "da_df = sfo_cargo_activity_df.loc[sfo_cargo_activity_df['Operating Airline'] == 'Delta Air Lines',:]\n",
    "da_df.head(10)"
   ]
  },
  {
   "cell_type": "code",
   "execution_count": 6,
   "id": "636d0ab5",
   "metadata": {
    "execution": {
     "iopub.execute_input": "2022-02-21T20:44:19.612853Z",
     "iopub.status.busy": "2022-02-21T20:44:19.612150Z",
     "iopub.status.idle": "2022-02-21T20:44:19.627814Z",
     "shell.execute_reply": "2022-02-21T20:44:19.628478Z",
     "shell.execute_reply.started": "2022-02-21T20:35:06.881163Z"
    },
    "papermill": {
     "duration": 0.04193,
     "end_time": "2022-02-21T20:44:19.628655",
     "exception": false,
     "start_time": "2022-02-21T20:44:19.586725",
     "status": "completed"
    },
    "tags": []
   },
   "outputs": [
    {
     "data": {
      "text/html": [
       "<div>\n",
       "<style scoped>\n",
       "    .dataframe tbody tr th:only-of-type {\n",
       "        vertical-align: middle;\n",
       "    }\n",
       "\n",
       "    .dataframe tbody tr th {\n",
       "        vertical-align: top;\n",
       "    }\n",
       "\n",
       "    .dataframe thead th {\n",
       "        text-align: right;\n",
       "    }\n",
       "</style>\n",
       "<table border=\"1\" class=\"dataframe\">\n",
       "  <thead>\n",
       "    <tr style=\"text-align: right;\">\n",
       "      <th></th>\n",
       "      <th>Activity Period</th>\n",
       "      <th>Operating Airline</th>\n",
       "      <th>Operating Airline IATA Code</th>\n",
       "      <th>GEO Summary</th>\n",
       "      <th>GEO Region</th>\n",
       "      <th>Cargo Type Code</th>\n",
       "      <th>Cargo Aircraft Type</th>\n",
       "      <th>Cargo Weight LBS</th>\n",
       "    </tr>\n",
       "  </thead>\n",
       "  <tbody>\n",
       "    <tr>\n",
       "      <th>10</th>\n",
       "      <td>200507</td>\n",
       "      <td>United Airlines</td>\n",
       "      <td>UA</td>\n",
       "      <td>Domestic</td>\n",
       "      <td>US</td>\n",
       "      <td>Cargo</td>\n",
       "      <td>Passenger</td>\n",
       "      <td>210339</td>\n",
       "    </tr>\n",
       "    <tr>\n",
       "      <th>11</th>\n",
       "      <td>200507</td>\n",
       "      <td>United Airlines</td>\n",
       "      <td>UA</td>\n",
       "      <td>Domestic</td>\n",
       "      <td>US</td>\n",
       "      <td>Mail</td>\n",
       "      <td>Passenger</td>\n",
       "      <td>176740</td>\n",
       "    </tr>\n",
       "    <tr>\n",
       "      <th>12</th>\n",
       "      <td>200507</td>\n",
       "      <td>United Airlines</td>\n",
       "      <td>UA</td>\n",
       "      <td>Domestic</td>\n",
       "      <td>US</td>\n",
       "      <td>Cargo</td>\n",
       "      <td>Passenger</td>\n",
       "      <td>290324</td>\n",
       "    </tr>\n",
       "    <tr>\n",
       "      <th>13</th>\n",
       "      <td>200507</td>\n",
       "      <td>United Airlines</td>\n",
       "      <td>UA</td>\n",
       "      <td>Domestic</td>\n",
       "      <td>US</td>\n",
       "      <td>Mail</td>\n",
       "      <td>Passenger</td>\n",
       "      <td>569459</td>\n",
       "    </tr>\n",
       "    <tr>\n",
       "      <th>24</th>\n",
       "      <td>200508</td>\n",
       "      <td>United Airlines</td>\n",
       "      <td>UA</td>\n",
       "      <td>Domestic</td>\n",
       "      <td>US</td>\n",
       "      <td>Cargo</td>\n",
       "      <td>Passenger</td>\n",
       "      <td>189511</td>\n",
       "    </tr>\n",
       "    <tr>\n",
       "      <th>25</th>\n",
       "      <td>200508</td>\n",
       "      <td>United Airlines</td>\n",
       "      <td>UA</td>\n",
       "      <td>Domestic</td>\n",
       "      <td>US</td>\n",
       "      <td>Mail</td>\n",
       "      <td>Passenger</td>\n",
       "      <td>177084</td>\n",
       "    </tr>\n",
       "    <tr>\n",
       "      <th>26</th>\n",
       "      <td>200508</td>\n",
       "      <td>United Airlines</td>\n",
       "      <td>UA</td>\n",
       "      <td>Domestic</td>\n",
       "      <td>US</td>\n",
       "      <td>Cargo</td>\n",
       "      <td>Passenger</td>\n",
       "      <td>308986</td>\n",
       "    </tr>\n",
       "    <tr>\n",
       "      <th>27</th>\n",
       "      <td>200508</td>\n",
       "      <td>United Airlines</td>\n",
       "      <td>UA</td>\n",
       "      <td>Domestic</td>\n",
       "      <td>US</td>\n",
       "      <td>Mail</td>\n",
       "      <td>Passenger</td>\n",
       "      <td>578003</td>\n",
       "    </tr>\n",
       "    <tr>\n",
       "      <th>38</th>\n",
       "      <td>200509</td>\n",
       "      <td>United Airlines</td>\n",
       "      <td>UA</td>\n",
       "      <td>Domestic</td>\n",
       "      <td>US</td>\n",
       "      <td>Cargo</td>\n",
       "      <td>Passenger</td>\n",
       "      <td>213548</td>\n",
       "    </tr>\n",
       "    <tr>\n",
       "      <th>39</th>\n",
       "      <td>200509</td>\n",
       "      <td>United Airlines</td>\n",
       "      <td>UA</td>\n",
       "      <td>Domestic</td>\n",
       "      <td>US</td>\n",
       "      <td>Mail</td>\n",
       "      <td>Passenger</td>\n",
       "      <td>163635</td>\n",
       "    </tr>\n",
       "  </tbody>\n",
       "</table>\n",
       "</div>"
      ],
      "text/plain": [
       "    Activity Period Operating Airline Operating Airline IATA Code GEO Summary  \\\n",
       "10           200507   United Airlines                          UA    Domestic   \n",
       "11           200507   United Airlines                          UA    Domestic   \n",
       "12           200507   United Airlines                          UA    Domestic   \n",
       "13           200507   United Airlines                          UA    Domestic   \n",
       "24           200508   United Airlines                          UA    Domestic   \n",
       "25           200508   United Airlines                          UA    Domestic   \n",
       "26           200508   United Airlines                          UA    Domestic   \n",
       "27           200508   United Airlines                          UA    Domestic   \n",
       "38           200509   United Airlines                          UA    Domestic   \n",
       "39           200509   United Airlines                          UA    Domestic   \n",
       "\n",
       "   GEO Region Cargo Type Code Cargo Aircraft Type  Cargo Weight LBS  \n",
       "10         US           Cargo           Passenger            210339  \n",
       "11         US            Mail           Passenger            176740  \n",
       "12         US           Cargo           Passenger            290324  \n",
       "13         US            Mail           Passenger            569459  \n",
       "24         US           Cargo           Passenger            189511  \n",
       "25         US            Mail           Passenger            177084  \n",
       "26         US           Cargo           Passenger            308986  \n",
       "27         US            Mail           Passenger            578003  \n",
       "38         US           Cargo           Passenger            213548  \n",
       "39         US            Mail           Passenger            163635  "
      ]
     },
     "execution_count": 6,
     "metadata": {},
     "output_type": "execute_result"
    }
   ],
   "source": [
    "united_airlines_df = sfo_cargo_activity_df.loc[sfo_cargo_activity_df['Operating Airline'] == 'United Airlines',:]\n",
    "united_airlines_df.head(10)"
   ]
  },
  {
   "cell_type": "code",
   "execution_count": 7,
   "id": "665a30a8",
   "metadata": {
    "execution": {
     "iopub.execute_input": "2022-02-21T20:44:19.678408Z",
     "iopub.status.busy": "2022-02-21T20:44:19.677705Z",
     "iopub.status.idle": "2022-02-21T20:44:19.681509Z",
     "shell.execute_reply": "2022-02-21T20:44:19.682140Z",
     "shell.execute_reply.started": "2022-02-21T20:35:06.906811Z"
    },
    "papermill": {
     "duration": 0.030169,
     "end_time": "2022-02-21T20:44:19.682314",
     "exception": false,
     "start_time": "2022-02-21T20:44:19.652145",
     "status": "completed"
    },
    "tags": []
   },
   "outputs": [],
   "source": [
    "summary = {'Stats':['Count','Mean','Standard Deviation','Min','25th Quartile','Median','75th Quartile','Max']}\n"
   ]
  },
  {
   "cell_type": "code",
   "execution_count": 8,
   "id": "f42ece78",
   "metadata": {
    "execution": {
     "iopub.execute_input": "2022-02-21T20:44:19.731897Z",
     "iopub.status.busy": "2022-02-21T20:44:19.731208Z",
     "iopub.status.idle": "2022-02-21T20:44:19.746246Z",
     "shell.execute_reply": "2022-02-21T20:44:19.746852Z",
     "shell.execute_reply.started": "2022-02-21T20:35:06.917967Z"
    },
    "papermill": {
     "duration": 0.041372,
     "end_time": "2022-02-21T20:44:19.747033",
     "exception": false,
     "start_time": "2022-02-21T20:44:19.705661",
     "status": "completed"
    },
    "tags": []
   },
   "outputs": [],
   "source": [
    "aa = list(american_airlines_df[['Cargo Weight LBS']].describe().iloc[:,0])\n",
    "aa = [ '%.2f' % i for i in aa ]\n",
    "summary['American Airlines'] = aa"
   ]
  },
  {
   "cell_type": "code",
   "execution_count": 9,
   "id": "d097911e",
   "metadata": {
    "execution": {
     "iopub.execute_input": "2022-02-21T20:44:19.797366Z",
     "iopub.status.busy": "2022-02-21T20:44:19.796673Z",
     "iopub.status.idle": "2022-02-21T20:44:19.806191Z",
     "shell.execute_reply": "2022-02-21T20:44:19.806792Z",
     "shell.execute_reply.started": "2022-02-21T20:35:06.952621Z"
    },
    "papermill": {
     "duration": 0.036342,
     "end_time": "2022-02-21T20:44:19.806965",
     "exception": false,
     "start_time": "2022-02-21T20:44:19.770623",
     "status": "completed"
    },
    "tags": []
   },
   "outputs": [],
   "source": [
    "da = list(da_df[['Cargo Weight LBS']].describe().iloc[:,0])\n",
    "da = [ '%.2f' % i for i in da ]\n",
    "summary['Delta Air Lines'] = da"
   ]
  },
  {
   "cell_type": "code",
   "execution_count": 10,
   "id": "5ae4ce0f",
   "metadata": {
    "execution": {
     "iopub.execute_input": "2022-02-21T20:44:19.856749Z",
     "iopub.status.busy": "2022-02-21T20:44:19.856085Z",
     "iopub.status.idle": "2022-02-21T20:44:19.868064Z",
     "shell.execute_reply": "2022-02-21T20:44:19.866900Z",
     "shell.execute_reply.started": "2022-02-21T20:35:06.968533Z"
    },
    "papermill": {
     "duration": 0.03787,
     "end_time": "2022-02-21T20:44:19.868324",
     "exception": false,
     "start_time": "2022-02-21T20:44:19.830454",
     "status": "completed"
    },
    "tags": []
   },
   "outputs": [],
   "source": [
    "ua = list(united_airlines_df[['Cargo Weight LBS']].describe().iloc[:,0])\n",
    "ua = [ '%.2f' % i for i in ua ]\n",
    "summary['United Airlines'] = ua"
   ]
  },
  {
   "cell_type": "code",
   "execution_count": 11,
   "id": "21f66f25",
   "metadata": {
    "execution": {
     "iopub.execute_input": "2022-02-21T20:44:19.939603Z",
     "iopub.status.busy": "2022-02-21T20:44:19.938460Z",
     "iopub.status.idle": "2022-02-21T20:44:19.947997Z",
     "shell.execute_reply": "2022-02-21T20:44:19.949615Z",
     "shell.execute_reply.started": "2022-02-21T20:35:06.983153Z"
    },
    "papermill": {
     "duration": 0.054336,
     "end_time": "2022-02-21T20:44:19.950011",
     "exception": false,
     "start_time": "2022-02-21T20:44:19.895675",
     "status": "completed"
    },
    "tags": []
   },
   "outputs": [
    {
     "name": "stdout",
     "output_type": "stream",
     "text": [
      "                Stats American Airlines Delta Air Lines United Airlines\n",
      "0               Count            767.00          980.00         3539.00\n",
      "1                Mean         737782.18       494950.51       766725.95\n",
      "2  Standard Deviation         653534.67       362554.06      1517685.36\n",
      "3                 Min              5.00            1.00            1.00\n",
      "4       25th Quartile         241964.00       187204.50         4445.00\n",
      "5              Median         470553.00       476634.00       106727.00\n",
      "6       75th Quartile        1149492.50       736607.25       710544.50\n",
      "7                 Max        3519263.00      1747119.00     10785758.00\n"
     ]
    }
   ],
   "source": [
    "summary_stats_df = pd.DataFrame(summary)\n",
    "summary_stats_df.round(3)\n",
    "print(summary_stats_df)"
   ]
  },
  {
   "cell_type": "code",
   "execution_count": 12,
   "id": "83fd311e",
   "metadata": {
    "execution": {
     "iopub.execute_input": "2022-02-21T20:44:20.013215Z",
     "iopub.status.busy": "2022-02-21T20:44:20.012179Z",
     "iopub.status.idle": "2022-02-21T20:44:20.018247Z",
     "shell.execute_reply": "2022-02-21T20:44:20.017619Z",
     "shell.execute_reply.started": "2022-02-21T20:35:06.999165Z"
    },
    "papermill": {
     "duration": 0.035487,
     "end_time": "2022-02-21T20:44:20.018394",
     "exception": false,
     "start_time": "2022-02-21T20:44:19.982907",
     "status": "completed"
    },
    "tags": []
   },
   "outputs": [],
   "source": [
    "summary_stats_df.set_index('Stats',inplace=True)"
   ]
  },
  {
   "cell_type": "code",
   "execution_count": 13,
   "id": "ce8b3984",
   "metadata": {
    "execution": {
     "iopub.execute_input": "2022-02-21T20:44:20.072878Z",
     "iopub.status.busy": "2022-02-21T20:44:20.071843Z",
     "iopub.status.idle": "2022-02-21T20:44:20.076974Z",
     "shell.execute_reply": "2022-02-21T20:44:20.077507Z",
     "shell.execute_reply.started": "2022-02-21T20:35:07.008674Z"
    },
    "papermill": {
     "duration": 0.033335,
     "end_time": "2022-02-21T20:44:20.077681",
     "exception": false,
     "start_time": "2022-02-21T20:44:20.044346",
     "status": "completed"
    },
    "tags": []
   },
   "outputs": [],
   "source": [
    "no_of_shipments = []\n",
    "for i in summary_stats_df.loc['Count',:]:\n",
    "    no_of_shipments.append(float(i))"
   ]
  },
  {
   "cell_type": "code",
   "execution_count": 14,
   "id": "59278d86",
   "metadata": {
    "execution": {
     "iopub.execute_input": "2022-02-21T20:44:20.135597Z",
     "iopub.status.busy": "2022-02-21T20:44:20.134936Z",
     "iopub.status.idle": "2022-02-21T20:44:20.354500Z",
     "shell.execute_reply": "2022-02-21T20:44:20.353888Z",
     "shell.execute_reply.started": "2022-02-21T20:35:07.024531Z"
    },
    "papermill": {
     "duration": 0.25349,
     "end_time": "2022-02-21T20:44:20.354648",
     "exception": false,
     "start_time": "2022-02-21T20:44:20.101158",
     "status": "completed"
    },
    "tags": []
   },
   "outputs": [
    {
     "data": {
      "image/png": "[encoded data removed]",
      "text/plain": [
       "<Figure size 432x288 with 1 Axes>"
      ]
     },
     "metadata": {
      "needs_background": "light"
     },
     "output_type": "display_data"
    }
   ],
   "source": [
    "fig = plt.figure()\n",
    "fig.add_subplot(111)\n",
    "plt.bar(airlines,no_of_shipments,color='blue')\n",
    "plt.ylabel('Cargo Shipments')\n",
    "plt.xlabel('Airlines')\n",
    "plt.title('Cargo Shipments per Airlines')\n",
    "plt.show(fig)\n",
    "plt.show(fig)"
   ]
  },
  {
   "cell_type": "code",
   "execution_count": 15,
   "id": "7c31e866",
   "metadata": {
    "execution": {
     "iopub.execute_input": "2022-02-21T20:44:20.531430Z",
     "iopub.status.busy": "2022-02-21T20:44:20.530302Z",
     "iopub.status.idle": "2022-02-21T20:44:20.746855Z",
     "shell.execute_reply": "2022-02-21T20:44:20.746220Z",
     "shell.execute_reply.started": "2022-02-21T20:36:26.353868Z"
    },
    "papermill": {
     "duration": 0.36596,
     "end_time": "2022-02-21T20:44:20.747008",
     "exception": false,
     "start_time": "2022-02-21T20:44:20.381048",
     "status": "completed"
    },
    "tags": []
   },
   "outputs": [
    {
     "data": {
      "image/png": "[encoded data removed]",
      "text/plain": [
       "<Figure size 432x288 with 1 Axes>"
      ]
     },
     "metadata": {
      "needs_background": "light"
     },
     "output_type": "display_data"
    }
   ],
   "source": [
    "fig = plt.figure()\n",
    "fig.add_subplot(111)\n",
    "plt.hist(american_airlines_df.loc[:,'Cargo Weight LBS'],density=True,bins=7)\n",
    "plt.ylabel('Cargo Weight')\n",
    "plt.xlabel('Data')\n",
    "plt.title('Cargo Weight Distribution for American Airlines')\n",
    "plt.show(fig)"
   ]
  },
  {
   "cell_type": "code",
   "execution_count": 16,
   "id": "1c6f96dd",
   "metadata": {
    "execution": {
     "iopub.execute_input": "2022-02-21T20:44:20.824792Z",
     "iopub.status.busy": "2022-02-21T20:44:20.824048Z",
     "iopub.status.idle": "2022-02-21T20:44:21.058982Z",
     "shell.execute_reply": "2022-02-21T20:44:21.059548Z",
     "shell.execute_reply.started": "2022-02-21T20:35:07.700532Z"
    },
    "papermill": {
     "duration": 0.287228,
     "end_time": "2022-02-21T20:44:21.059733",
     "exception": false,
     "start_time": "2022-02-21T20:44:20.772505",
     "status": "completed"
    },
    "tags": []
   },
   "outputs": [
    {
     "data": {
      "image/png": "[encoded data removed]",
      "text/plain": [
       "<Figure size 432x288 with 1 Axes>"
      ]
     },
     "metadata": {
      "needs_background": "light"
     },
     "output_type": "display_data"
    }
   ],
   "source": [
    "fig = plt.figure()\n",
    "fig.add_subplot(111)\n",
    "plt.hist(da_df.loc[:,'Cargo Weight LBS'],density=True,bins=7)\n",
    "plt.ylabel('Cargo Weight')\n",
    "plt.xlabel('Data')\n",
    "plt.title('Cargo Weight Distribution for Delta Airlines')\n",
    "plt.show(fig)"
   ]
  },
  {
   "cell_type": "code",
   "execution_count": 17,
   "id": "b4a064cb",
   "metadata": {
    "execution": {
     "iopub.execute_input": "2022-02-21T20:44:21.142134Z",
     "iopub.status.busy": "2022-02-21T20:44:21.135783Z",
     "iopub.status.idle": "2022-02-21T20:44:21.350123Z",
     "shell.execute_reply": "2022-02-21T20:44:21.350656Z",
     "shell.execute_reply.started": "2022-02-21T20:35:07.928322Z"
    },
    "papermill": {
     "duration": 0.264351,
     "end_time": "2022-02-21T20:44:21.350869",
     "exception": false,
     "start_time": "2022-02-21T20:44:21.086518",
     "status": "completed"
    },
    "tags": []
   },
   "outputs": [
    {
     "data": {
      "image/png": "[encoded data removed]",
      "text/plain": [
       "<Figure size 432x288 with 1 Axes>"
      ]
     },
     "metadata": {
      "needs_background": "light"
     },
     "output_type": "display_data"
    }
   ],
   "source": [
    "fig = plt.figure()\n",
    "fig.add_subplot(111)\n",
    "plt.hist(united_airlines_df.loc[:,'Cargo Weight LBS'],density=True,bins=7)\n",
    "plt.ylabel('Cargo Weight')\n",
    "plt.xlabel('Data')\n",
    "plt.title('Cargo Weight Distribution for United Airlines')\n",
    "plt.show(fig)"
   ]
  }
 ],
 "metadata": {
  "kernelspec": {
   "display_name": "Python 3",
   "language": "python",
   "name": "python3"
  },
  "language_info": {
   "codemirror_mode": {
    "name": "ipython",
    "version": 3
   },
   "file_extension": ".py",
   "mimetype": "text/x-python",
   "name": "python",
   "nbconvert_exporter": "python",
   "pygments_lexer": "ipython3",
   "version": "3.7.12"
  },
  "papermill": {
   "default_parameters": {},
   "duration": 12.159776,
   "end_time": "2022-02-21T20:44:21.989614",
   "environment_variables": {},
   "exception": null,
   "input_path": "__notebook__.ipynb",
   "output_path": "__notebook__.ipynb",
   "parameters": {},
   "start_time": "2022-02-21T20:44:09.829838",
   "version": "2.3.3"
  }
 },
 "nbformat": 4,
 "nbformat_minor": 5
}
