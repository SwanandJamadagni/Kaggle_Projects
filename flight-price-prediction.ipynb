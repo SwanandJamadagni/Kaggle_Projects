{
 "cells": [
  {
   "cell_type": "code",
   "execution_count": 1,
   "id": "b70bcb13",
   "metadata": {
    "_cell_guid": "b1076dfc-b9ad-4769-8c92-a6c4dae69d19",
    "_uuid": "8f2839f25d086af736a60e9eeb907d3b93b6e0e5",
    "execution": {
     "iopub.execute_input": "2022-03-20T23:57:47.304197Z",
     "iopub.status.busy": "2022-03-20T23:57:47.299722Z",
     "iopub.status.idle": "2022-03-20T23:57:47.323348Z",
     "shell.execute_reply": "2022-03-20T23:57:47.324037Z",
     "shell.execute_reply.started": "2022-03-20T23:52:59.944908Z"
    },
    "papermill": {
     "duration": 0.066073,
     "end_time": "2022-03-20T23:57:47.324344",
     "exception": false,
     "start_time": "2022-03-20T23:57:47.258271",
     "status": "completed"
    },
    "tags": []
   },
   "outputs": [
    {
     "name": "stdout",
     "output_type": "stream",
     "text": [
      "/kaggle/input/flight-price-prediction/business.csv\n",
      "/kaggle/input/flight-price-prediction/economy.csv\n",
      "/kaggle/input/flight-price-prediction/Clean_Dataset.csv\n"
     ]
    }
   ],
   "source": [
    "# This Python 3 environment comes with many helpful analytics libraries installed\n",
    "# It is defined by the kaggle/python Docker image: https://github.com/kaggle/docker-python\n",
    "# For example, here's several helpful packages to load\n",
    "\n",
    "import numpy as np # linear algebra\n",
    "import pandas as pd # data processing, CSV file I/O (e.g. pd.read_csv)\n",
    "import matplotlib.pyplot as plt # data visualization\n",
    "\n",
    "# Input data files are available in the read-only \"../input/\" directory\n",
    "# For example, running this (by clicking run or pressing Shift+Enter) will list all files under the input directory\n",
    "\n",
    "import os\n",
    "for dirname, _, filenames in os.walk('/kaggle/input'):\n",
    "    for filename in filenames:\n",
    "        print(os.path.join(dirname, filename))\n",
    "\n",
    "# You can write up to 20GB to the current directory (/kaggle/working/) that gets preserved as output when you create a version using \"Save & Run All\" \n",
    "# You can also write temporary files to /kaggle/temp/, but they won't be saved outside of the current session"
   ]
  },
  {
   "cell_type": "markdown",
   "id": "10384716",
   "metadata": {
    "papermill": {
     "duration": 0.043746,
     "end_time": "2022-03-20T23:57:47.401994",
     "exception": false,
     "start_time": "2022-03-20T23:57:47.358248",
     "status": "completed"
    },
    "tags": []
   },
   "source": [
    "Importing the Dataset."
   ]
  },
  {
   "cell_type": "code",
   "execution_count": 2,
   "id": "4ddec4e3",
   "metadata": {
    "execution": {
     "iopub.execute_input": "2022-03-20T23:57:47.468895Z",
     "iopub.status.busy": "2022-03-20T23:57:47.468155Z",
     "iopub.status.idle": "2022-03-20T23:57:48.149315Z",
     "shell.execute_reply": "2022-03-20T23:57:48.148767Z",
     "shell.execute_reply.started": "2022-03-20T23:53:09.210808Z"
    },
    "papermill": {
     "duration": 0.71588,
     "end_time": "2022-03-20T23:57:48.149453",
     "exception": false,
     "start_time": "2022-03-20T23:57:47.433573",
     "status": "completed"
    },
    "tags": []
   },
   "outputs": [],
   "source": [
    "dataset = pd.read_csv('/kaggle/input/flight-price-prediction/Clean_Dataset.csv')"
   ]
  },
  {
   "cell_type": "code",
   "execution_count": 3,
   "id": "5cee19c9",
   "metadata": {
    "execution": {
     "iopub.execute_input": "2022-03-20T23:57:48.209709Z",
     "iopub.status.busy": "2022-03-20T23:57:48.209101Z",
     "iopub.status.idle": "2022-03-20T23:57:48.227067Z",
     "shell.execute_reply": "2022-03-20T23:57:48.227540Z",
     "shell.execute_reply.started": "2022-03-20T23:53:12.800941Z"
    },
    "papermill": {
     "duration": 0.052118,
     "end_time": "2022-03-20T23:57:48.227708",
     "exception": false,
     "start_time": "2022-03-20T23:57:48.175590",
     "status": "completed"
    },
    "tags": []
   },
   "outputs": [
    {
     "data": {
      "text/html": [
       "<div>\n",
       "<style scoped>\n",
       "    .dataframe tbody tr th:only-of-type {\n",
       "        vertical-align: middle;\n",
       "    }\n",
       "\n",
       "    .dataframe tbody tr th {\n",
       "        vertical-align: top;\n",
       "    }\n",
       "\n",
       "    .dataframe thead th {\n",
       "        text-align: right;\n",
       "    }\n",
       "</style>\n",
       "<table border=\"1\" class=\"dataframe\">\n",
       "  <thead>\n",
       "    <tr style=\"text-align: right;\">\n",
       "      <th></th>\n",
       "      <th>Unnamed: 0</th>\n",
       "      <th>airline</th>\n",
       "      <th>flight</th>\n",
       "      <th>source_city</th>\n",
       "      <th>departure_time</th>\n",
       "      <th>stops</th>\n",
       "      <th>arrival_time</th>\n",
       "      <th>destination_city</th>\n",
       "      <th>class</th>\n",
       "      <th>duration</th>\n",
       "      <th>days_left</th>\n",
       "      <th>price</th>\n",
       "    </tr>\n",
       "  </thead>\n",
       "  <tbody>\n",
       "    <tr>\n",
       "      <th>0</th>\n",
       "      <td>0</td>\n",
       "      <td>SpiceJet</td>\n",
       "      <td>SG-8709</td>\n",
       "      <td>Delhi</td>\n",
       "      <td>Evening</td>\n",
       "      <td>zero</td>\n",
       "      <td>Night</td>\n",
       "      <td>Mumbai</td>\n",
       "      <td>Economy</td>\n",
       "      <td>2.17</td>\n",
       "      <td>1</td>\n",
       "      <td>5953</td>\n",
       "    </tr>\n",
       "    <tr>\n",
       "      <th>1</th>\n",
       "      <td>1</td>\n",
       "      <td>SpiceJet</td>\n",
       "      <td>SG-8157</td>\n",
       "      <td>Delhi</td>\n",
       "      <td>Early_Morning</td>\n",
       "      <td>zero</td>\n",
       "      <td>Morning</td>\n",
       "      <td>Mumbai</td>\n",
       "      <td>Economy</td>\n",
       "      <td>2.33</td>\n",
       "      <td>1</td>\n",
       "      <td>5953</td>\n",
       "    </tr>\n",
       "    <tr>\n",
       "      <th>2</th>\n",
       "      <td>2</td>\n",
       "      <td>AirAsia</td>\n",
       "      <td>I5-764</td>\n",
       "      <td>Delhi</td>\n",
       "      <td>Early_Morning</td>\n",
       "      <td>zero</td>\n",
       "      <td>Early_Morning</td>\n",
       "      <td>Mumbai</td>\n",
       "      <td>Economy</td>\n",
       "      <td>2.17</td>\n",
       "      <td>1</td>\n",
       "      <td>5956</td>\n",
       "    </tr>\n",
       "    <tr>\n",
       "      <th>3</th>\n",
       "      <td>3</td>\n",
       "      <td>Vistara</td>\n",
       "      <td>UK-995</td>\n",
       "      <td>Delhi</td>\n",
       "      <td>Morning</td>\n",
       "      <td>zero</td>\n",
       "      <td>Afternoon</td>\n",
       "      <td>Mumbai</td>\n",
       "      <td>Economy</td>\n",
       "      <td>2.25</td>\n",
       "      <td>1</td>\n",
       "      <td>5955</td>\n",
       "    </tr>\n",
       "    <tr>\n",
       "      <th>4</th>\n",
       "      <td>4</td>\n",
       "      <td>Vistara</td>\n",
       "      <td>UK-963</td>\n",
       "      <td>Delhi</td>\n",
       "      <td>Morning</td>\n",
       "      <td>zero</td>\n",
       "      <td>Morning</td>\n",
       "      <td>Mumbai</td>\n",
       "      <td>Economy</td>\n",
       "      <td>2.33</td>\n",
       "      <td>1</td>\n",
       "      <td>5955</td>\n",
       "    </tr>\n",
       "    <tr>\n",
       "      <th>5</th>\n",
       "      <td>5</td>\n",
       "      <td>Vistara</td>\n",
       "      <td>UK-945</td>\n",
       "      <td>Delhi</td>\n",
       "      <td>Morning</td>\n",
       "      <td>zero</td>\n",
       "      <td>Afternoon</td>\n",
       "      <td>Mumbai</td>\n",
       "      <td>Economy</td>\n",
       "      <td>2.33</td>\n",
       "      <td>1</td>\n",
       "      <td>5955</td>\n",
       "    </tr>\n",
       "    <tr>\n",
       "      <th>6</th>\n",
       "      <td>6</td>\n",
       "      <td>Vistara</td>\n",
       "      <td>UK-927</td>\n",
       "      <td>Delhi</td>\n",
       "      <td>Morning</td>\n",
       "      <td>zero</td>\n",
       "      <td>Morning</td>\n",
       "      <td>Mumbai</td>\n",
       "      <td>Economy</td>\n",
       "      <td>2.08</td>\n",
       "      <td>1</td>\n",
       "      <td>6060</td>\n",
       "    </tr>\n",
       "    <tr>\n",
       "      <th>7</th>\n",
       "      <td>7</td>\n",
       "      <td>Vistara</td>\n",
       "      <td>UK-951</td>\n",
       "      <td>Delhi</td>\n",
       "      <td>Afternoon</td>\n",
       "      <td>zero</td>\n",
       "      <td>Evening</td>\n",
       "      <td>Mumbai</td>\n",
       "      <td>Economy</td>\n",
       "      <td>2.17</td>\n",
       "      <td>1</td>\n",
       "      <td>6060</td>\n",
       "    </tr>\n",
       "    <tr>\n",
       "      <th>8</th>\n",
       "      <td>8</td>\n",
       "      <td>GO_FIRST</td>\n",
       "      <td>G8-334</td>\n",
       "      <td>Delhi</td>\n",
       "      <td>Early_Morning</td>\n",
       "      <td>zero</td>\n",
       "      <td>Morning</td>\n",
       "      <td>Mumbai</td>\n",
       "      <td>Economy</td>\n",
       "      <td>2.17</td>\n",
       "      <td>1</td>\n",
       "      <td>5954</td>\n",
       "    </tr>\n",
       "    <tr>\n",
       "      <th>9</th>\n",
       "      <td>9</td>\n",
       "      <td>GO_FIRST</td>\n",
       "      <td>G8-336</td>\n",
       "      <td>Delhi</td>\n",
       "      <td>Afternoon</td>\n",
       "      <td>zero</td>\n",
       "      <td>Evening</td>\n",
       "      <td>Mumbai</td>\n",
       "      <td>Economy</td>\n",
       "      <td>2.25</td>\n",
       "      <td>1</td>\n",
       "      <td>5954</td>\n",
       "    </tr>\n",
       "  </tbody>\n",
       "</table>\n",
       "</div>"
      ],
      "text/plain": [
       "   Unnamed: 0   airline   flight source_city departure_time stops  \\\n",
       "0           0  SpiceJet  SG-8709       Delhi        Evening  zero   \n",
       "1           1  SpiceJet  SG-8157       Delhi  Early_Morning  zero   \n",
       "2           2   AirAsia   I5-764       Delhi  Early_Morning  zero   \n",
       "3           3   Vistara   UK-995       Delhi        Morning  zero   \n",
       "4           4   Vistara   UK-963       Delhi        Morning  zero   \n",
       "5           5   Vistara   UK-945       Delhi        Morning  zero   \n",
       "6           6   Vistara   UK-927       Delhi        Morning  zero   \n",
       "7           7   Vistara   UK-951       Delhi      Afternoon  zero   \n",
       "8           8  GO_FIRST   G8-334       Delhi  Early_Morning  zero   \n",
       "9           9  GO_FIRST   G8-336       Delhi      Afternoon  zero   \n",
       "\n",
       "    arrival_time destination_city    class  duration  days_left  price  \n",
       "0          Night           Mumbai  Economy      2.17          1   5953  \n",
       "1        Morning           Mumbai  Economy      2.33          1   5953  \n",
       "2  Early_Morning           Mumbai  Economy      2.17          1   5956  \n",
       "3      Afternoon           Mumbai  Economy      2.25          1   5955  \n",
       "4        Morning           Mumbai  Economy      2.33          1   5955  \n",
       "5      Afternoon           Mumbai  Economy      2.33          1   5955  \n",
       "6        Morning           Mumbai  Economy      2.08          1   6060  \n",
       "7        Evening           Mumbai  Economy      2.17          1   6060  \n",
       "8        Morning           Mumbai  Economy      2.17          1   5954  \n",
       "9        Evening           Mumbai  Economy      2.25          1   5954  "
      ]
     },
     "execution_count": 3,
     "metadata": {},
     "output_type": "execute_result"
    }
   ],
   "source": [
    "dataset.head(10)"
   ]
  },
  {
   "cell_type": "markdown",
   "id": "de3b22d0",
   "metadata": {
    "papermill": {
     "duration": 0.026408,
     "end_time": "2022-03-20T23:57:48.282679",
     "exception": false,
     "start_time": "2022-03-20T23:57:48.256271",
     "status": "completed"
    },
    "tags": []
   },
   "source": [
    "Cleaning up the dataset"
   ]
  },
  {
   "cell_type": "code",
   "execution_count": 4,
   "id": "b2fee6dc",
   "metadata": {
    "execution": {
     "iopub.execute_input": "2022-03-20T23:57:48.362178Z",
     "iopub.status.busy": "2022-03-20T23:57:48.361188Z",
     "iopub.status.idle": "2022-03-20T23:57:48.393024Z",
     "shell.execute_reply": "2022-03-20T23:57:48.392124Z",
     "shell.execute_reply.started": "2022-03-20T23:53:17.467928Z"
    },
    "papermill": {
     "duration": 0.081159,
     "end_time": "2022-03-20T23:57:48.393284",
     "exception": false,
     "start_time": "2022-03-20T23:57:48.312125",
     "status": "completed"
    },
    "tags": []
   },
   "outputs": [],
   "source": [
    "dataset.rename(columns={'class':'ticket_class'},inplace=True)\n",
    "dataset.drop(dataset.columns[[0,2]],axis=1,inplace=True)"
   ]
  },
  {
   "cell_type": "markdown",
   "id": "6fabe100",
   "metadata": {
    "papermill": {
     "duration": 0.026511,
     "end_time": "2022-03-20T23:57:48.455155",
     "exception": false,
     "start_time": "2022-03-20T23:57:48.428644",
     "status": "completed"
    },
    "tags": []
   },
   "source": [
    "Making sure the data-type for categorical columns in 'Category'"
   ]
  },
  {
   "cell_type": "code",
   "execution_count": 5,
   "id": "eb9e3d3b",
   "metadata": {
    "execution": {
     "iopub.execute_input": "2022-03-20T23:57:48.515629Z",
     "iopub.status.busy": "2022-03-20T23:57:48.514895Z",
     "iopub.status.idle": "2022-03-20T23:57:48.517917Z",
     "shell.execute_reply": "2022-03-20T23:57:48.518370Z",
     "shell.execute_reply.started": "2022-03-20T23:53:21.391545Z"
    },
    "papermill": {
     "duration": 0.036523,
     "end_time": "2022-03-20T23:57:48.518528",
     "exception": false,
     "start_time": "2022-03-20T23:57:48.482005",
     "status": "completed"
    },
    "tags": []
   },
   "outputs": [
    {
     "data": {
      "text/plain": [
       "airline              object\n",
       "source_city          object\n",
       "departure_time       object\n",
       "stops                object\n",
       "arrival_time         object\n",
       "destination_city     object\n",
       "ticket_class         object\n",
       "duration            float64\n",
       "days_left             int64\n",
       "price                 int64\n",
       "dtype: object"
      ]
     },
     "execution_count": 5,
     "metadata": {},
     "output_type": "execute_result"
    }
   ],
   "source": [
    "dataset.dtypes"
   ]
  },
  {
   "cell_type": "code",
   "execution_count": 6,
   "id": "91138f83",
   "metadata": {
    "execution": {
     "iopub.execute_input": "2022-03-20T23:57:48.575658Z",
     "iopub.status.busy": "2022-03-20T23:57:48.574753Z",
     "iopub.status.idle": "2022-03-20T23:57:48.784227Z",
     "shell.execute_reply": "2022-03-20T23:57:48.783694Z",
     "shell.execute_reply.started": "2022-03-20T23:53:24.739233Z"
    },
    "papermill": {
     "duration": 0.239111,
     "end_time": "2022-03-20T23:57:48.784383",
     "exception": false,
     "start_time": "2022-03-20T23:57:48.545272",
     "status": "completed"
    },
    "tags": []
   },
   "outputs": [
    {
     "data": {
      "text/plain": [
       "airline             category\n",
       "source_city         category\n",
       "departure_time      category\n",
       "stops               category\n",
       "arrival_time        category\n",
       "destination_city    category\n",
       "ticket_class        category\n",
       "duration             float64\n",
       "days_left              int64\n",
       "price                  int64\n",
       "dtype: object"
      ]
     },
     "execution_count": 6,
     "metadata": {},
     "output_type": "execute_result"
    }
   ],
   "source": [
    "dataset.airline = dataset.airline.astype('category')\n",
    "dataset.source_city = dataset.source_city.astype('category')\n",
    "dataset.departure_time = dataset.departure_time.astype('category')\n",
    "dataset.stops = dataset.stops.astype('category')\n",
    "dataset.arrival_time = dataset.arrival_time.astype('category')\n",
    "dataset.destination_city = dataset.destination_city.astype('category')\n",
    "dataset.ticket_class = dataset.ticket_class.astype('category')\n",
    "dataset.dtypes"
   ]
  },
  {
   "cell_type": "markdown",
   "id": "fdf1d947",
   "metadata": {
    "papermill": {
     "duration": 0.026555,
     "end_time": "2022-03-20T23:57:48.838254",
     "exception": false,
     "start_time": "2022-03-20T23:57:48.811699",
     "status": "completed"
    },
    "tags": []
   },
   "source": [
    "Converting the categorical variables into dummy binary variables"
   ]
  },
  {
   "cell_type": "code",
   "execution_count": 7,
   "id": "321203f9",
   "metadata": {
    "execution": {
     "iopub.execute_input": "2022-03-20T23:57:48.895898Z",
     "iopub.status.busy": "2022-03-20T23:57:48.895280Z",
     "iopub.status.idle": "2022-03-20T23:57:48.981867Z",
     "shell.execute_reply": "2022-03-20T23:57:48.981326Z",
     "shell.execute_reply.started": "2022-03-20T23:53:29.700945Z"
    },
    "papermill": {
     "duration": 0.116475,
     "end_time": "2022-03-20T23:57:48.982034",
     "exception": false,
     "start_time": "2022-03-20T23:57:48.865559",
     "status": "completed"
    },
    "tags": []
   },
   "outputs": [],
   "source": [
    "dataset = pd.get_dummies(dataset,prefix_sep='_',drop_first=True)"
   ]
  },
  {
   "cell_type": "code",
   "execution_count": 8,
   "id": "cf836a34",
   "metadata": {
    "execution": {
     "iopub.execute_input": "2022-03-20T23:57:49.056935Z",
     "iopub.status.busy": "2022-03-20T23:57:49.041511Z",
     "iopub.status.idle": "2022-03-20T23:57:49.060100Z",
     "shell.execute_reply": "2022-03-20T23:57:49.060679Z",
     "shell.execute_reply.started": "2022-03-20T23:53:34.413065Z"
    },
    "papermill": {
     "duration": 0.051319,
     "end_time": "2022-03-20T23:57:49.060849",
     "exception": false,
     "start_time": "2022-03-20T23:57:49.009530",
     "status": "completed"
    },
    "tags": []
   },
   "outputs": [
    {
     "data": {
      "text/html": [
       "<div>\n",
       "<style scoped>\n",
       "    .dataframe tbody tr th:only-of-type {\n",
       "        vertical-align: middle;\n",
       "    }\n",
       "\n",
       "    .dataframe tbody tr th {\n",
       "        vertical-align: top;\n",
       "    }\n",
       "\n",
       "    .dataframe thead th {\n",
       "        text-align: right;\n",
       "    }\n",
       "</style>\n",
       "<table border=\"1\" class=\"dataframe\">\n",
       "  <thead>\n",
       "    <tr style=\"text-align: right;\">\n",
       "      <th></th>\n",
       "      <th>duration</th>\n",
       "      <th>days_left</th>\n",
       "      <th>price</th>\n",
       "      <th>airline_Air_India</th>\n",
       "      <th>airline_GO_FIRST</th>\n",
       "      <th>airline_Indigo</th>\n",
       "      <th>airline_SpiceJet</th>\n",
       "      <th>airline_Vistara</th>\n",
       "      <th>source_city_Chennai</th>\n",
       "      <th>source_city_Delhi</th>\n",
       "      <th>...</th>\n",
       "      <th>arrival_time_Evening</th>\n",
       "      <th>arrival_time_Late_Night</th>\n",
       "      <th>arrival_time_Morning</th>\n",
       "      <th>arrival_time_Night</th>\n",
       "      <th>destination_city_Chennai</th>\n",
       "      <th>destination_city_Delhi</th>\n",
       "      <th>destination_city_Hyderabad</th>\n",
       "      <th>destination_city_Kolkata</th>\n",
       "      <th>destination_city_Mumbai</th>\n",
       "      <th>ticket_class_Economy</th>\n",
       "    </tr>\n",
       "  </thead>\n",
       "  <tbody>\n",
       "    <tr>\n",
       "      <th>0</th>\n",
       "      <td>2.17</td>\n",
       "      <td>1</td>\n",
       "      <td>5953</td>\n",
       "      <td>0</td>\n",
       "      <td>0</td>\n",
       "      <td>0</td>\n",
       "      <td>1</td>\n",
       "      <td>0</td>\n",
       "      <td>0</td>\n",
       "      <td>1</td>\n",
       "      <td>...</td>\n",
       "      <td>0</td>\n",
       "      <td>0</td>\n",
       "      <td>0</td>\n",
       "      <td>1</td>\n",
       "      <td>0</td>\n",
       "      <td>0</td>\n",
       "      <td>0</td>\n",
       "      <td>0</td>\n",
       "      <td>1</td>\n",
       "      <td>1</td>\n",
       "    </tr>\n",
       "    <tr>\n",
       "      <th>1</th>\n",
       "      <td>2.33</td>\n",
       "      <td>1</td>\n",
       "      <td>5953</td>\n",
       "      <td>0</td>\n",
       "      <td>0</td>\n",
       "      <td>0</td>\n",
       "      <td>1</td>\n",
       "      <td>0</td>\n",
       "      <td>0</td>\n",
       "      <td>1</td>\n",
       "      <td>...</td>\n",
       "      <td>0</td>\n",
       "      <td>0</td>\n",
       "      <td>1</td>\n",
       "      <td>0</td>\n",
       "      <td>0</td>\n",
       "      <td>0</td>\n",
       "      <td>0</td>\n",
       "      <td>0</td>\n",
       "      <td>1</td>\n",
       "      <td>1</td>\n",
       "    </tr>\n",
       "    <tr>\n",
       "      <th>2</th>\n",
       "      <td>2.17</td>\n",
       "      <td>1</td>\n",
       "      <td>5956</td>\n",
       "      <td>0</td>\n",
       "      <td>0</td>\n",
       "      <td>0</td>\n",
       "      <td>0</td>\n",
       "      <td>0</td>\n",
       "      <td>0</td>\n",
       "      <td>1</td>\n",
       "      <td>...</td>\n",
       "      <td>0</td>\n",
       "      <td>0</td>\n",
       "      <td>0</td>\n",
       "      <td>0</td>\n",
       "      <td>0</td>\n",
       "      <td>0</td>\n",
       "      <td>0</td>\n",
       "      <td>0</td>\n",
       "      <td>1</td>\n",
       "      <td>1</td>\n",
       "    </tr>\n",
       "    <tr>\n",
       "      <th>3</th>\n",
       "      <td>2.25</td>\n",
       "      <td>1</td>\n",
       "      <td>5955</td>\n",
       "      <td>0</td>\n",
       "      <td>0</td>\n",
       "      <td>0</td>\n",
       "      <td>0</td>\n",
       "      <td>1</td>\n",
       "      <td>0</td>\n",
       "      <td>1</td>\n",
       "      <td>...</td>\n",
       "      <td>0</td>\n",
       "      <td>0</td>\n",
       "      <td>0</td>\n",
       "      <td>0</td>\n",
       "      <td>0</td>\n",
       "      <td>0</td>\n",
       "      <td>0</td>\n",
       "      <td>0</td>\n",
       "      <td>1</td>\n",
       "      <td>1</td>\n",
       "    </tr>\n",
       "    <tr>\n",
       "      <th>4</th>\n",
       "      <td>2.33</td>\n",
       "      <td>1</td>\n",
       "      <td>5955</td>\n",
       "      <td>0</td>\n",
       "      <td>0</td>\n",
       "      <td>0</td>\n",
       "      <td>0</td>\n",
       "      <td>1</td>\n",
       "      <td>0</td>\n",
       "      <td>1</td>\n",
       "      <td>...</td>\n",
       "      <td>0</td>\n",
       "      <td>0</td>\n",
       "      <td>1</td>\n",
       "      <td>0</td>\n",
       "      <td>0</td>\n",
       "      <td>0</td>\n",
       "      <td>0</td>\n",
       "      <td>0</td>\n",
       "      <td>1</td>\n",
       "      <td>1</td>\n",
       "    </tr>\n",
       "    <tr>\n",
       "      <th>5</th>\n",
       "      <td>2.33</td>\n",
       "      <td>1</td>\n",
       "      <td>5955</td>\n",
       "      <td>0</td>\n",
       "      <td>0</td>\n",
       "      <td>0</td>\n",
       "      <td>0</td>\n",
       "      <td>1</td>\n",
       "      <td>0</td>\n",
       "      <td>1</td>\n",
       "      <td>...</td>\n",
       "      <td>0</td>\n",
       "      <td>0</td>\n",
       "      <td>0</td>\n",
       "      <td>0</td>\n",
       "      <td>0</td>\n",
       "      <td>0</td>\n",
       "      <td>0</td>\n",
       "      <td>0</td>\n",
       "      <td>1</td>\n",
       "      <td>1</td>\n",
       "    </tr>\n",
       "    <tr>\n",
       "      <th>6</th>\n",
       "      <td>2.08</td>\n",
       "      <td>1</td>\n",
       "      <td>6060</td>\n",
       "      <td>0</td>\n",
       "      <td>0</td>\n",
       "      <td>0</td>\n",
       "      <td>0</td>\n",
       "      <td>1</td>\n",
       "      <td>0</td>\n",
       "      <td>1</td>\n",
       "      <td>...</td>\n",
       "      <td>0</td>\n",
       "      <td>0</td>\n",
       "      <td>1</td>\n",
       "      <td>0</td>\n",
       "      <td>0</td>\n",
       "      <td>0</td>\n",
       "      <td>0</td>\n",
       "      <td>0</td>\n",
       "      <td>1</td>\n",
       "      <td>1</td>\n",
       "    </tr>\n",
       "    <tr>\n",
       "      <th>7</th>\n",
       "      <td>2.17</td>\n",
       "      <td>1</td>\n",
       "      <td>6060</td>\n",
       "      <td>0</td>\n",
       "      <td>0</td>\n",
       "      <td>0</td>\n",
       "      <td>0</td>\n",
       "      <td>1</td>\n",
       "      <td>0</td>\n",
       "      <td>1</td>\n",
       "      <td>...</td>\n",
       "      <td>1</td>\n",
       "      <td>0</td>\n",
       "      <td>0</td>\n",
       "      <td>0</td>\n",
       "      <td>0</td>\n",
       "      <td>0</td>\n",
       "      <td>0</td>\n",
       "      <td>0</td>\n",
       "      <td>1</td>\n",
       "      <td>1</td>\n",
       "    </tr>\n",
       "    <tr>\n",
       "      <th>8</th>\n",
       "      <td>2.17</td>\n",
       "      <td>1</td>\n",
       "      <td>5954</td>\n",
       "      <td>0</td>\n",
       "      <td>1</td>\n",
       "      <td>0</td>\n",
       "      <td>0</td>\n",
       "      <td>0</td>\n",
       "      <td>0</td>\n",
       "      <td>1</td>\n",
       "      <td>...</td>\n",
       "      <td>0</td>\n",
       "      <td>0</td>\n",
       "      <td>1</td>\n",
       "      <td>0</td>\n",
       "      <td>0</td>\n",
       "      <td>0</td>\n",
       "      <td>0</td>\n",
       "      <td>0</td>\n",
       "      <td>1</td>\n",
       "      <td>1</td>\n",
       "    </tr>\n",
       "    <tr>\n",
       "      <th>9</th>\n",
       "      <td>2.25</td>\n",
       "      <td>1</td>\n",
       "      <td>5954</td>\n",
       "      <td>0</td>\n",
       "      <td>1</td>\n",
       "      <td>0</td>\n",
       "      <td>0</td>\n",
       "      <td>0</td>\n",
       "      <td>0</td>\n",
       "      <td>1</td>\n",
       "      <td>...</td>\n",
       "      <td>1</td>\n",
       "      <td>0</td>\n",
       "      <td>0</td>\n",
       "      <td>0</td>\n",
       "      <td>0</td>\n",
       "      <td>0</td>\n",
       "      <td>0</td>\n",
       "      <td>0</td>\n",
       "      <td>1</td>\n",
       "      <td>1</td>\n",
       "    </tr>\n",
       "  </tbody>\n",
       "</table>\n",
       "<p>10 rows × 31 columns</p>\n",
       "</div>"
      ],
      "text/plain": [
       "   duration  days_left  price  airline_Air_India  airline_GO_FIRST  \\\n",
       "0      2.17          1   5953                  0                 0   \n",
       "1      2.33          1   5953                  0                 0   \n",
       "2      2.17          1   5956                  0                 0   \n",
       "3      2.25          1   5955                  0                 0   \n",
       "4      2.33          1   5955                  0                 0   \n",
       "5      2.33          1   5955                  0                 0   \n",
       "6      2.08          1   6060                  0                 0   \n",
       "7      2.17          1   6060                  0                 0   \n",
       "8      2.17          1   5954                  0                 1   \n",
       "9      2.25          1   5954                  0                 1   \n",
       "\n",
       "   airline_Indigo  airline_SpiceJet  airline_Vistara  source_city_Chennai  \\\n",
       "0               0                 1                0                    0   \n",
       "1               0                 1                0                    0   \n",
       "2               0                 0                0                    0   \n",
       "3               0                 0                1                    0   \n",
       "4               0                 0                1                    0   \n",
       "5               0                 0                1                    0   \n",
       "6               0                 0                1                    0   \n",
       "7               0                 0                1                    0   \n",
       "8               0                 0                0                    0   \n",
       "9               0                 0                0                    0   \n",
       "\n",
       "   source_city_Delhi  ...  arrival_time_Evening  arrival_time_Late_Night  \\\n",
       "0                  1  ...                     0                        0   \n",
       "1                  1  ...                     0                        0   \n",
       "2                  1  ...                     0                        0   \n",
       "3                  1  ...                     0                        0   \n",
       "4                  1  ...                     0                        0   \n",
       "5                  1  ...                     0                        0   \n",
       "6                  1  ...                     0                        0   \n",
       "7                  1  ...                     1                        0   \n",
       "8                  1  ...                     0                        0   \n",
       "9                  1  ...                     1                        0   \n",
       "\n",
       "   arrival_time_Morning  arrival_time_Night  destination_city_Chennai  \\\n",
       "0                     0                   1                         0   \n",
       "1                     1                   0                         0   \n",
       "2                     0                   0                         0   \n",
       "3                     0                   0                         0   \n",
       "4                     1                   0                         0   \n",
       "5                     0                   0                         0   \n",
       "6                     1                   0                         0   \n",
       "7                     0                   0                         0   \n",
       "8                     1                   0                         0   \n",
       "9                     0                   0                         0   \n",
       "\n",
       "   destination_city_Delhi  destination_city_Hyderabad  \\\n",
       "0                       0                           0   \n",
       "1                       0                           0   \n",
       "2                       0                           0   \n",
       "3                       0                           0   \n",
       "4                       0                           0   \n",
       "5                       0                           0   \n",
       "6                       0                           0   \n",
       "7                       0                           0   \n",
       "8                       0                           0   \n",
       "9                       0                           0   \n",
       "\n",
       "   destination_city_Kolkata  destination_city_Mumbai  ticket_class_Economy  \n",
       "0                         0                        1                     1  \n",
       "1                         0                        1                     1  \n",
       "2                         0                        1                     1  \n",
       "3                         0                        1                     1  \n",
       "4                         0                        1                     1  \n",
       "5                         0                        1                     1  \n",
       "6                         0                        1                     1  \n",
       "7                         0                        1                     1  \n",
       "8                         0                        1                     1  \n",
       "9                         0                        1                     1  \n",
       "\n",
       "[10 rows x 31 columns]"
      ]
     },
     "execution_count": 8,
     "metadata": {},
     "output_type": "execute_result"
    }
   ],
   "source": [
    "dataset.head(10)"
   ]
  },
  {
   "cell_type": "markdown",
   "id": "7f33386d",
   "metadata": {
    "papermill": {
     "duration": 0.028759,
     "end_time": "2022-03-20T23:57:49.118127",
     "exception": false,
     "start_time": "2022-03-20T23:57:49.089368",
     "status": "completed"
    },
    "tags": []
   },
   "source": [
    "Creating the features matrix"
   ]
  },
  {
   "cell_type": "code",
   "execution_count": 9,
   "id": "0b1e0306",
   "metadata": {
    "execution": {
     "iopub.execute_input": "2022-03-20T23:57:49.178454Z",
     "iopub.status.busy": "2022-03-20T23:57:49.177537Z",
     "iopub.status.idle": "2022-03-20T23:57:49.183614Z",
     "shell.execute_reply": "2022-03-20T23:57:49.183092Z",
     "shell.execute_reply.started": "2022-03-20T23:53:40.269022Z"
    },
    "papermill": {
     "duration": 0.037107,
     "end_time": "2022-03-20T23:57:49.183767",
     "exception": false,
     "start_time": "2022-03-20T23:57:49.146660",
     "status": "completed"
    },
    "tags": []
   },
   "outputs": [
    {
     "name": "stdout",
     "output_type": "stream",
     "text": [
      "['duration', 'days_left', 'airline_Air_India', 'airline_GO_FIRST', 'airline_Indigo', 'airline_SpiceJet', 'airline_Vistara', 'source_city_Chennai', 'source_city_Delhi', 'source_city_Hyderabad', 'source_city_Kolkata', 'source_city_Mumbai', 'departure_time_Early_Morning', 'departure_time_Evening', 'departure_time_Late_Night', 'departure_time_Morning', 'departure_time_Night', 'stops_two_or_more', 'stops_zero', 'arrival_time_Early_Morning', 'arrival_time_Evening', 'arrival_time_Late_Night', 'arrival_time_Morning', 'arrival_time_Night', 'destination_city_Chennai', 'destination_city_Delhi', 'destination_city_Hyderabad', 'destination_city_Kolkata', 'destination_city_Mumbai', 'ticket_class_Economy']\n"
     ]
    }
   ],
   "source": [
    "Predictors = list(dataset.columns)\n",
    "Predictors.remove('price')\n",
    "print(Predictors)"
   ]
  },
  {
   "cell_type": "code",
   "execution_count": 10,
   "id": "6af784bf",
   "metadata": {
    "execution": {
     "iopub.execute_input": "2022-03-20T23:57:49.244038Z",
     "iopub.status.busy": "2022-03-20T23:57:49.243447Z",
     "iopub.status.idle": "2022-03-20T23:57:49.289739Z",
     "shell.execute_reply": "2022-03-20T23:57:49.289144Z",
     "shell.execute_reply.started": "2022-03-20T23:53:44.449486Z"
    },
    "papermill": {
     "duration": 0.07763,
     "end_time": "2022-03-20T23:57:49.289874",
     "exception": false,
     "start_time": "2022-03-20T23:57:49.212244",
     "status": "completed"
    },
    "tags": []
   },
   "outputs": [],
   "source": [
    "x = dataset.drop('price',axis=1,inplace=False).values"
   ]
  },
  {
   "cell_type": "code",
   "execution_count": 11,
   "id": "bf61d3a8",
   "metadata": {
    "execution": {
     "iopub.execute_input": "2022-03-20T23:57:49.353855Z",
     "iopub.status.busy": "2022-03-20T23:57:49.353253Z",
     "iopub.status.idle": "2022-03-20T23:57:49.356723Z",
     "shell.execute_reply": "2022-03-20T23:57:49.357197Z",
     "shell.execute_reply.started": "2022-03-20T23:53:53.107543Z"
    },
    "papermill": {
     "duration": 0.038381,
     "end_time": "2022-03-20T23:57:49.357384",
     "exception": false,
     "start_time": "2022-03-20T23:57:49.319003",
     "status": "completed"
    },
    "tags": []
   },
   "outputs": [
    {
     "name": "stdout",
     "output_type": "stream",
     "text": [
      "[[ 2.17  1.    0.   ...  0.    1.    1.  ]\n",
      " [ 2.33  1.    0.   ...  0.    1.    1.  ]\n",
      " [ 2.17  1.    0.   ...  0.    1.    1.  ]\n",
      " ...\n",
      " [13.83 49.    0.   ...  0.    0.    0.  ]\n",
      " [10.   49.    0.   ...  0.    0.    0.  ]\n",
      " [10.08 49.    0.   ...  0.    0.    0.  ]]\n"
     ]
    }
   ],
   "source": [
    "print(x)"
   ]
  },
  {
   "cell_type": "markdown",
   "id": "537087ca",
   "metadata": {
    "papermill": {
     "duration": 0.028781,
     "end_time": "2022-03-20T23:57:49.415236",
     "exception": false,
     "start_time": "2022-03-20T23:57:49.386455",
     "status": "completed"
    },
    "tags": []
   },
   "source": [
    "Creating the dependent variable vector"
   ]
  },
  {
   "cell_type": "code",
   "execution_count": 12,
   "id": "e00154c0",
   "metadata": {
    "execution": {
     "iopub.execute_input": "2022-03-20T23:57:49.476186Z",
     "iopub.status.busy": "2022-03-20T23:57:49.475582Z",
     "iopub.status.idle": "2022-03-20T23:57:49.479994Z",
     "shell.execute_reply": "2022-03-20T23:57:49.479438Z",
     "shell.execute_reply.started": "2022-03-20T23:53:57.124258Z"
    },
    "papermill": {
     "duration": 0.036112,
     "end_time": "2022-03-20T23:57:49.480159",
     "exception": false,
     "start_time": "2022-03-20T23:57:49.444047",
     "status": "completed"
    },
    "tags": []
   },
   "outputs": [],
   "source": [
    "y = dataset.iloc[:,2].values"
   ]
  },
  {
   "cell_type": "code",
   "execution_count": 13,
   "id": "6f5b3ac5",
   "metadata": {
    "execution": {
     "iopub.execute_input": "2022-03-20T23:57:49.541523Z",
     "iopub.status.busy": "2022-03-20T23:57:49.540928Z",
     "iopub.status.idle": "2022-03-20T23:57:49.545487Z",
     "shell.execute_reply": "2022-03-20T23:57:49.545885Z",
     "shell.execute_reply.started": "2022-03-20T23:54:00.195461Z"
    },
    "papermill": {
     "duration": 0.036889,
     "end_time": "2022-03-20T23:57:49.546081",
     "exception": false,
     "start_time": "2022-03-20T23:57:49.509192",
     "status": "completed"
    },
    "tags": []
   },
   "outputs": [
    {
     "name": "stdout",
     "output_type": "stream",
     "text": [
      "[ 5953  5953  5956 ... 79099 81585 81585]\n"
     ]
    }
   ],
   "source": [
    "print(y)"
   ]
  },
  {
   "cell_type": "markdown",
   "id": "954d46ed",
   "metadata": {
    "papermill": {
     "duration": 0.028672,
     "end_time": "2022-03-20T23:57:49.603988",
     "exception": false,
     "start_time": "2022-03-20T23:57:49.575316",
     "status": "completed"
    },
    "tags": []
   },
   "source": [
    "Handling missing values"
   ]
  },
  {
   "cell_type": "code",
   "execution_count": 14,
   "id": "c8ca720e",
   "metadata": {
    "execution": {
     "iopub.execute_input": "2022-03-20T23:57:49.667494Z",
     "iopub.status.busy": "2022-03-20T23:57:49.664299Z",
     "iopub.status.idle": "2022-03-20T23:57:50.910010Z",
     "shell.execute_reply": "2022-03-20T23:57:50.909496Z",
     "shell.execute_reply.started": "2022-03-20T23:54:09.378223Z"
    },
    "papermill": {
     "duration": 1.277437,
     "end_time": "2022-03-20T23:57:50.910159",
     "exception": false,
     "start_time": "2022-03-20T23:57:49.632722",
     "status": "completed"
    },
    "tags": []
   },
   "outputs": [],
   "source": [
    "from sklearn.impute import SimpleImputer\n",
    "#for features vector\n",
    "imputer = SimpleImputer(missing_values=np.nan,strategy='mean')\n",
    "imputer.fit(x[:,0:2])\n",
    "x[:,0:2] = imputer.transform(x[:,0:2])\n",
    "#for independent variable vector\n",
    "imputer = SimpleImputer(missing_values=np.nan,strategy='mean')\n",
    "imputer.fit([y])\n",
    "y = imputer.transform([y]).flatten()"
   ]
  },
  {
   "cell_type": "code",
   "execution_count": 15,
   "id": "d2ba2b1b",
   "metadata": {
    "execution": {
     "iopub.execute_input": "2022-03-20T23:57:50.973096Z",
     "iopub.status.busy": "2022-03-20T23:57:50.972462Z",
     "iopub.status.idle": "2022-03-20T23:57:50.978871Z",
     "shell.execute_reply": "2022-03-20T23:57:50.978378Z",
     "shell.execute_reply.started": "2022-03-20T23:54:14.837801Z"
    },
    "papermill": {
     "duration": 0.038233,
     "end_time": "2022-03-20T23:57:50.979022",
     "exception": false,
     "start_time": "2022-03-20T23:57:50.940789",
     "status": "completed"
    },
    "tags": []
   },
   "outputs": [
    {
     "name": "stdout",
     "output_type": "stream",
     "text": [
      "[[ 2.17  1.    0.   ...  0.    1.    1.  ]\n",
      " [ 2.33  1.    0.   ...  0.    1.    1.  ]\n",
      " [ 2.17  1.    0.   ...  0.    1.    1.  ]\n",
      " ...\n",
      " [13.83 49.    0.   ...  0.    0.    0.  ]\n",
      " [10.   49.    0.   ...  0.    0.    0.  ]\n",
      " [10.08 49.    0.   ...  0.    0.    0.  ]]\n"
     ]
    }
   ],
   "source": [
    "print(x)"
   ]
  },
  {
   "cell_type": "code",
   "execution_count": 16,
   "id": "d0f63826",
   "metadata": {
    "execution": {
     "iopub.execute_input": "2022-03-20T23:57:51.041525Z",
     "iopub.status.busy": "2022-03-20T23:57:51.040592Z",
     "iopub.status.idle": "2022-03-20T23:57:51.045833Z",
     "shell.execute_reply": "2022-03-20T23:57:51.045391Z",
     "shell.execute_reply.started": "2022-03-20T23:54:17.870159Z"
    },
    "papermill": {
     "duration": 0.03733,
     "end_time": "2022-03-20T23:57:51.045987",
     "exception": false,
     "start_time": "2022-03-20T23:57:51.008657",
     "status": "completed"
    },
    "tags": []
   },
   "outputs": [
    {
     "name": "stdout",
     "output_type": "stream",
     "text": [
      "[ 5953.  5953.  5956. ... 79099. 81585. 81585.]\n"
     ]
    }
   ],
   "source": [
    "print(y)"
   ]
  },
  {
   "cell_type": "markdown",
   "id": "b0a31bbd",
   "metadata": {
    "papermill": {
     "duration": 0.030415,
     "end_time": "2022-03-20T23:57:51.106161",
     "exception": false,
     "start_time": "2022-03-20T23:57:51.075746",
     "status": "completed"
    },
    "tags": []
   },
   "source": [
    "spliting dataset into train and test datasets"
   ]
  },
  {
   "cell_type": "code",
   "execution_count": 17,
   "id": "f1955925",
   "metadata": {
    "execution": {
     "iopub.execute_input": "2022-03-20T23:57:51.169456Z",
     "iopub.status.busy": "2022-03-20T23:57:51.168535Z",
     "iopub.status.idle": "2022-03-20T23:57:51.310439Z",
     "shell.execute_reply": "2022-03-20T23:57:51.310885Z",
     "shell.execute_reply.started": "2022-03-20T23:54:23.857350Z"
    },
    "papermill": {
     "duration": 0.175189,
     "end_time": "2022-03-20T23:57:51.311081",
     "exception": false,
     "start_time": "2022-03-20T23:57:51.135892",
     "status": "completed"
    },
    "tags": []
   },
   "outputs": [],
   "source": [
    "from sklearn.model_selection import train_test_split\n",
    "x_train, x_test, y_train, y_test = train_test_split(x, y, test_size=0.2, random_state=1)"
   ]
  },
  {
   "cell_type": "code",
   "execution_count": 18,
   "id": "833fc0a0",
   "metadata": {
    "execution": {
     "iopub.execute_input": "2022-03-20T23:57:51.373931Z",
     "iopub.status.busy": "2022-03-20T23:57:51.373342Z",
     "iopub.status.idle": "2022-03-20T23:57:51.378476Z",
     "shell.execute_reply": "2022-03-20T23:57:51.377844Z",
     "shell.execute_reply.started": "2022-03-20T23:54:27.649378Z"
    },
    "papermill": {
     "duration": 0.037772,
     "end_time": "2022-03-20T23:57:51.378610",
     "exception": false,
     "start_time": "2022-03-20T23:57:51.340838",
     "status": "completed"
    },
    "tags": []
   },
   "outputs": [
    {
     "name": "stdout",
     "output_type": "stream",
     "text": [
      "[[ 2.08 22.    0.   ...  0.    0.    1.  ]\n",
      " [17.25 40.    0.   ...  0.    0.    0.  ]\n",
      " [17.42 41.    0.   ...  0.    0.    0.  ]\n",
      " ...\n",
      " [ 5.67 23.    0.   ...  0.    0.    1.  ]\n",
      " [19.33  2.    1.   ...  0.    0.    0.  ]\n",
      " [11.25  6.    0.   ...  0.    1.    1.  ]]\n"
     ]
    }
   ],
   "source": [
    "print(x_train)"
   ]
  },
  {
   "cell_type": "code",
   "execution_count": 19,
   "id": "4fa76bf4",
   "metadata": {
    "execution": {
     "iopub.execute_input": "2022-03-20T23:57:51.444909Z",
     "iopub.status.busy": "2022-03-20T23:57:51.444254Z",
     "iopub.status.idle": "2022-03-20T23:57:51.446820Z",
     "shell.execute_reply": "2022-03-20T23:57:51.447308Z",
     "shell.execute_reply.started": "2022-03-20T23:54:31.743261Z"
    },
    "papermill": {
     "duration": 0.038204,
     "end_time": "2022-03-20T23:57:51.447471",
     "exception": false,
     "start_time": "2022-03-20T23:57:51.409267",
     "status": "completed"
    },
    "tags": []
   },
   "outputs": [
    {
     "name": "stdout",
     "output_type": "stream",
     "text": [
      "[[13.67 49.    1.   ...  0.    1.    1.  ]\n",
      " [ 6.08 11.    0.   ...  0.    1.    1.  ]\n",
      " [ 8.25 23.    0.   ...  1.    0.    1.  ]\n",
      " ...\n",
      " [ 5.92 31.    0.   ...  0.    0.    0.  ]\n",
      " [ 7.42 46.    0.   ...  0.    0.    1.  ]\n",
      " [26.58  6.    1.   ...  0.    1.    1.  ]]\n"
     ]
    }
   ],
   "source": [
    "print(x_test)"
   ]
  },
  {
   "cell_type": "code",
   "execution_count": 20,
   "id": "cab6141f",
   "metadata": {
    "execution": {
     "iopub.execute_input": "2022-03-20T23:57:51.514208Z",
     "iopub.status.busy": "2022-03-20T23:57:51.512160Z",
     "iopub.status.idle": "2022-03-20T23:57:51.517925Z",
     "shell.execute_reply": "2022-03-20T23:57:51.517449Z",
     "shell.execute_reply.started": "2022-03-20T23:54:35.666852Z"
    },
    "papermill": {
     "duration": 0.039469,
     "end_time": "2022-03-20T23:57:51.518070",
     "exception": false,
     "start_time": "2022-03-20T23:57:51.478601",
     "status": "completed"
    },
    "tags": []
   },
   "outputs": [
    {
     "name": "stdout",
     "output_type": "stream",
     "text": [
      "[ 2339. 37985. 68303. ...  3891. 40862.  7958.]\n"
     ]
    }
   ],
   "source": [
    "print(y_train)"
   ]
  },
  {
   "cell_type": "code",
   "execution_count": 21,
   "id": "b76f0df6",
   "metadata": {
    "execution": {
     "iopub.execute_input": "2022-03-20T23:57:51.585176Z",
     "iopub.status.busy": "2022-03-20T23:57:51.582785Z",
     "iopub.status.idle": "2022-03-20T23:57:51.589887Z",
     "shell.execute_reply": "2022-03-20T23:57:51.589156Z",
     "shell.execute_reply.started": "2022-03-20T23:54:39.625499Z"
    },
    "papermill": {
     "duration": 0.040597,
     "end_time": "2022-03-20T23:57:51.590100",
     "exception": false,
     "start_time": "2022-03-20T23:57:51.549503",
     "status": "completed"
    },
    "tags": []
   },
   "outputs": [
    {
     "name": "stdout",
     "output_type": "stream",
     "text": [
      "[ 6048. 13421.  2836. ... 50473.  4099. 10967.]\n"
     ]
    }
   ],
   "source": [
    "print(y_test)"
   ]
  },
  {
   "cell_type": "code",
   "execution_count": 22,
   "id": "572d7082",
   "metadata": {
    "execution": {
     "iopub.execute_input": "2022-03-20T23:57:51.658231Z",
     "iopub.status.busy": "2022-03-20T23:57:51.657563Z",
     "iopub.status.idle": "2022-03-20T23:58:02.462725Z",
     "shell.execute_reply": "2022-03-20T23:58:02.462037Z",
     "shell.execute_reply.started": "2022-03-20T23:54:43.890143Z"
    },
    "papermill": {
     "duration": 10.839714,
     "end_time": "2022-03-20T23:58:02.462888",
     "exception": false,
     "start_time": "2022-03-20T23:57:51.623174",
     "status": "completed"
    },
    "tags": []
   },
   "outputs": [
    {
     "name": "stdout",
     "output_type": "stream",
     "text": [
      "Collecting dmba\r\n",
      "  Downloading dmba-0.1.0-py3-none-any.whl (11.8 MB)\r\n",
      "     |████████████████████████████████| 11.8 MB 588 kB/s            \r\n",
      "\u001b[?25hInstalling collected packages: dmba\r\n",
      "Successfully installed dmba-0.1.0\r\n",
      "\u001b[33mWARNING: Running pip as the 'root' user can result in broken permissions and conflicting behaviour with the system package manager. It is recommended to use a virtual environment instead: https://pip.pypa.io/warnings/venv\u001b[0m\r\n"
     ]
    }
   ],
   "source": [
    "!pip install dmba"
   ]
  },
  {
   "cell_type": "markdown",
   "id": "5308cd89",
   "metadata": {
    "papermill": {
     "duration": 0.039576,
     "end_time": "2022-03-20T23:58:02.544370",
     "exception": false,
     "start_time": "2022-03-20T23:58:02.504794",
     "status": "completed"
    },
    "tags": []
   },
   "source": [
    "Training the Linear Regression Model"
   ]
  },
  {
   "cell_type": "code",
   "execution_count": 23,
   "id": "746d4f41",
   "metadata": {
    "execution": {
     "iopub.execute_input": "2022-03-20T23:58:02.629281Z",
     "iopub.status.busy": "2022-03-20T23:58:02.628381Z",
     "iopub.status.idle": "2022-03-20T23:58:02.665532Z",
     "shell.execute_reply": "2022-03-20T23:58:02.665950Z",
     "shell.execute_reply.started": "2022-03-20T23:55:18.337273Z"
    },
    "papermill": {
     "duration": 0.082401,
     "end_time": "2022-03-20T23:58:02.666170",
     "exception": false,
     "start_time": "2022-03-20T23:58:02.583769",
     "status": "completed"
    },
    "tags": []
   },
   "outputs": [
    {
     "name": "stdout",
     "output_type": "stream",
     "text": [
      "no display found. Using non-interactive Agg backend\n"
     ]
    }
   ],
   "source": [
    "from sklearn.linear_model import LinearRegression\n",
    "from sklearn.metrics import r2_score\n",
    "from dmba import regressionSummary, exhaustive_search\n",
    "from dmba import backward_elimination, forward_selection, stepwise_selection\n",
    "from dmba import adjusted_r2_score, AIC_score, BIC_score"
   ]
  },
  {
   "cell_type": "code",
   "execution_count": 24,
   "id": "15c08cb2",
   "metadata": {
    "execution": {
     "iopub.execute_input": "2022-03-20T23:58:02.748187Z",
     "iopub.status.busy": "2022-03-20T23:58:02.747531Z",
     "iopub.status.idle": "2022-03-20T23:58:03.097599Z",
     "shell.execute_reply": "2022-03-20T23:58:03.098496Z",
     "shell.execute_reply.started": "2022-03-20T23:55:36.772812Z"
    },
    "papermill": {
     "duration": 0.393156,
     "end_time": "2022-03-20T23:58:03.098798",
     "exception": false,
     "start_time": "2022-03-20T23:58:02.705642",
     "status": "completed"
    },
    "tags": []
   },
   "outputs": [
    {
     "name": "stdout",
     "output_type": "stream",
     "text": [
      "Linear Regression Model Details: \n",
      "\n",
      "Intercept:  52537.83\n",
      "                      Predictors  Coefficients\n",
      "0                       duration         41.75\n",
      "1                      days_left       -131.71\n",
      "2              airline_Air_India        122.28\n",
      "3               airline_GO_FIRST       1700.70\n",
      "4                 airline_Indigo       2103.92\n",
      "5               airline_SpiceJet       2291.61\n",
      "6                airline_Vistara       4083.93\n",
      "7            source_city_Chennai        -44.18\n",
      "8              source_city_Delhi      -1370.00\n",
      "9          source_city_Hyderabad      -1649.01\n",
      "10           source_city_Kolkata       1622.87\n",
      "11            source_city_Mumbai       -185.87\n",
      "12  departure_time_Early_Morning        876.44\n",
      "13        departure_time_Evening        759.04\n",
      "14     departure_time_Late_Night       1837.35\n",
      "15        departure_time_Morning        861.22\n",
      "16          departure_time_Night        721.35\n",
      "17             stops_two_or_more       2071.33\n",
      "18                    stops_zero      -7593.47\n",
      "19    arrival_time_Early_Morning       -792.43\n",
      "20          arrival_time_Evening        921.93\n",
      "21       arrival_time_Late_Night        952.33\n",
      "22          arrival_time_Morning        467.76\n",
      "23            arrival_time_Night       1147.23\n",
      "24      destination_city_Chennai       -227.51\n",
      "25        destination_city_Delhi      -1566.06\n",
      "26    destination_city_Hyderabad      -1706.48\n",
      "27      destination_city_Kolkata       1389.06\n",
      "28       destination_city_Mumbai        -52.29\n",
      "29          ticket_class_Economy     -44912.64\n"
     ]
    }
   ],
   "source": [
    "fp_lrm = LinearRegression()\n",
    "fp_lrm.fit(x_train,y_train)\n",
    "\n",
    "print('Linear Regression Model Details: ')\n",
    "print()\n",
    "print('Intercept: ', np.round(fp_lrm.intercept_,2))\n",
    "print(pd.DataFrame({'Predictors':Predictors,'Coefficients':np.round(fp_lrm.coef_,2)}))"
   ]
  },
  {
   "cell_type": "markdown",
   "id": "4be6227b",
   "metadata": {
    "papermill": {
     "duration": 0.040074,
     "end_time": "2022-03-20T23:58:03.205670",
     "exception": false,
     "start_time": "2022-03-20T23:58:03.165596",
     "status": "completed"
    },
    "tags": []
   },
   "source": [
    "Testing the model"
   ]
  },
  {
   "cell_type": "code",
   "execution_count": 25,
   "id": "d9a82f19",
   "metadata": {
    "execution": {
     "iopub.execute_input": "2022-03-20T23:58:03.292257Z",
     "iopub.status.busy": "2022-03-20T23:58:03.291624Z",
     "iopub.status.idle": "2022-03-20T23:58:03.320418Z",
     "shell.execute_reply": "2022-03-20T23:58:03.321216Z",
     "shell.execute_reply.started": "2022-03-20T23:55:42.878788Z"
    },
    "papermill": {
     "duration": 0.074838,
     "end_time": "2022-03-20T23:58:03.321477",
     "exception": false,
     "start_time": "2022-03-20T23:58:03.246639",
     "status": "completed"
    },
    "tags": []
   },
   "outputs": [
    {
     "name": "stdout",
     "output_type": "stream",
     "text": [
      "Prediction Outcome:\n",
      "\n"
     ]
    },
    {
     "data": {
      "text/html": [
       "<div>\n",
       "<style scoped>\n",
       "    .dataframe tbody tr th:only-of-type {\n",
       "        vertical-align: middle;\n",
       "    }\n",
       "\n",
       "    .dataframe tbody tr th {\n",
       "        vertical-align: top;\n",
       "    }\n",
       "\n",
       "    .dataframe thead th {\n",
       "        text-align: right;\n",
       "    }\n",
       "</style>\n",
       "<table border=\"1\" class=\"dataframe\">\n",
       "  <thead>\n",
       "    <tr style=\"text-align: right;\">\n",
       "      <th></th>\n",
       "      <th>Actual</th>\n",
       "      <th>Predicted</th>\n",
       "      <th>Residual</th>\n",
       "    </tr>\n",
       "  </thead>\n",
       "  <tbody>\n",
       "    <tr>\n",
       "      <th>0</th>\n",
       "      <td>6048.0</td>\n",
       "      <td>4624.12</td>\n",
       "      <td>1423.88</td>\n",
       "    </tr>\n",
       "    <tr>\n",
       "      <th>1</th>\n",
       "      <td>13421.0</td>\n",
       "      <td>9403.79</td>\n",
       "      <td>4017.21</td>\n",
       "    </tr>\n",
       "    <tr>\n",
       "      <th>2</th>\n",
       "      <td>2836.0</td>\n",
       "      <td>6072.41</td>\n",
       "      <td>-3236.41</td>\n",
       "    </tr>\n",
       "    <tr>\n",
       "      <th>3</th>\n",
       "      <td>1890.0</td>\n",
       "      <td>5647.43</td>\n",
       "      <td>-3757.43</td>\n",
       "    </tr>\n",
       "    <tr>\n",
       "      <th>4</th>\n",
       "      <td>56588.0</td>\n",
       "      <td>52543.28</td>\n",
       "      <td>4044.72</td>\n",
       "    </tr>\n",
       "    <tr>\n",
       "      <th>5</th>\n",
       "      <td>53152.0</td>\n",
       "      <td>54069.98</td>\n",
       "      <td>-917.98</td>\n",
       "    </tr>\n",
       "    <tr>\n",
       "      <th>6</th>\n",
       "      <td>4942.0</td>\n",
       "      <td>3397.24</td>\n",
       "      <td>1544.76</td>\n",
       "    </tr>\n",
       "    <tr>\n",
       "      <th>7</th>\n",
       "      <td>54841.0</td>\n",
       "      <td>53530.44</td>\n",
       "      <td>1310.56</td>\n",
       "    </tr>\n",
       "    <tr>\n",
       "      <th>8</th>\n",
       "      <td>41269.0</td>\n",
       "      <td>50352.36</td>\n",
       "      <td>-9083.36</td>\n",
       "    </tr>\n",
       "    <tr>\n",
       "      <th>9</th>\n",
       "      <td>5120.0</td>\n",
       "      <td>9128.42</td>\n",
       "      <td>-4008.42</td>\n",
       "    </tr>\n",
       "  </tbody>\n",
       "</table>\n",
       "</div>"
      ],
      "text/plain": [
       "    Actual  Predicted  Residual\n",
       "0   6048.0    4624.12   1423.88\n",
       "1  13421.0    9403.79   4017.21\n",
       "2   2836.0    6072.41  -3236.41\n",
       "3   1890.0    5647.43  -3757.43\n",
       "4  56588.0   52543.28   4044.72\n",
       "5  53152.0   54069.98   -917.98\n",
       "6   4942.0    3397.24   1544.76\n",
       "7  54841.0   53530.44   1310.56\n",
       "8  41269.0   50352.36  -9083.36\n",
       "9   5120.0    9128.42  -4008.42"
      ]
     },
     "execution_count": 25,
     "metadata": {},
     "output_type": "execute_result"
    }
   ],
   "source": [
    "fp_pred = fp_lrm.predict(x_test)\n",
    "\n",
    "print('Prediction Outcome:')\n",
    "print()\n",
    "result = round(pd.DataFrame({\n",
    "    'Actual': y_test,\n",
    "    'Predicted': fp_pred,\n",
    "    'Residual': y_test - fp_pred\n",
    "}),2)\n",
    "\n",
    "result.head(10)"
   ]
  },
  {
   "cell_type": "markdown",
   "id": "4d6dfcf6",
   "metadata": {
    "papermill": {
     "duration": 0.046431,
     "end_time": "2022-03-20T23:58:03.450156",
     "exception": false,
     "start_time": "2022-03-20T23:58:03.403725",
     "status": "completed"
    },
    "tags": []
   },
   "source": [
    "Checking model performance"
   ]
  },
  {
   "cell_type": "code",
   "execution_count": 26,
   "id": "c32740ff",
   "metadata": {
    "execution": {
     "iopub.execute_input": "2022-03-20T23:58:03.539912Z",
     "iopub.status.busy": "2022-03-20T23:58:03.539220Z",
     "iopub.status.idle": "2022-03-20T23:58:03.575079Z",
     "shell.execute_reply": "2022-03-20T23:58:03.575988Z",
     "shell.execute_reply.started": "2022-03-20T23:55:52.818377Z"
    },
    "papermill": {
     "duration": 0.085535,
     "end_time": "2022-03-20T23:58:03.576424",
     "exception": false,
     "start_time": "2022-03-20T23:58:03.490889",
     "status": "completed"
    },
    "tags": []
   },
   "outputs": [
    {
     "name": "stdout",
     "output_type": "stream",
     "text": [
      "Model Performance for training data:\n",
      "r2:  0.911\n",
      "adjusted_r2:  0.911\n",
      "aic:  4917060.821\n",
      "bic:  4917393.266\n",
      "\n",
      "Model Performance for testing data:\n",
      "r2:  0.912\n",
      "adjusted_r2:  0.912\n",
      "aic:  1228294.93\n",
      "bic:  1228583.014\n"
     ]
    }
   ],
   "source": [
    "fp_train_pred = fp_lrm.predict(x_train)\n",
    "\n",
    "#for training dataset\n",
    "r2 = round(r2_score(y_train,fp_train_pred),3)\n",
    "adjusted_r2 = round(adjusted_r2_score(y_train,fp_train_pred,fp_lrm),3)\n",
    "aic = round(AIC_score(y_train,fp_train_pred,fp_lrm),3)\n",
    "bic = round(BIC_score(y_train,fp_train_pred,fp_lrm),3)\n",
    "\n",
    "print('Model Performance for training data:')\n",
    "print('r2: ',r2)\n",
    "print('adjusted_r2: ',adjusted_r2)\n",
    "print('aic: ',aic)\n",
    "print('bic: ',bic)\n",
    "\n",
    "print()\n",
    "\n",
    "#for testing dataset\n",
    "r2 = round(r2_score(y_test,fp_pred),3)\n",
    "adjusted_r2 = round(adjusted_r2_score(y_test,fp_pred,fp_lrm),3)\n",
    "aic = round(AIC_score(y_test,fp_pred,fp_lrm),3)\n",
    "bic = round(BIC_score(y_test,fp_pred,fp_lrm),3)\n",
    "\n",
    "print('Model Performance for testing data:')\n",
    "print('r2: ',r2)\n",
    "print('adjusted_r2: ',adjusted_r2)\n",
    "print('aic: ',aic)\n",
    "print('bic: ',bic)"
   ]
  },
  {
   "cell_type": "markdown",
   "id": "9ff80546",
   "metadata": {
    "papermill": {
     "duration": 0.045515,
     "end_time": "2022-03-20T23:58:03.703558",
     "exception": false,
     "start_time": "2022-03-20T23:58:03.658043",
     "status": "completed"
    },
    "tags": []
   },
   "source": [
    "Checking model accuracy"
   ]
  },
  {
   "cell_type": "code",
   "execution_count": 27,
   "id": "5fb66e13",
   "metadata": {
    "execution": {
     "iopub.execute_input": "2022-03-20T23:58:03.810818Z",
     "iopub.status.busy": "2022-03-20T23:58:03.810151Z",
     "iopub.status.idle": "2022-03-20T23:58:03.977833Z",
     "shell.execute_reply": "2022-03-20T23:58:03.977152Z",
     "shell.execute_reply.started": "2022-03-20T23:56:08.400551Z"
    },
    "papermill": {
     "duration": 0.233763,
     "end_time": "2022-03-20T23:58:03.978004",
     "exception": false,
     "start_time": "2022-03-20T23:58:03.744241",
     "status": "completed"
    },
    "tags": []
   },
   "outputs": [
    {
     "name": "stdout",
     "output_type": "stream",
     "text": [
      "Model accuracy for training data:\n",
      "\n",
      "Regression statistics\n",
      "\n",
      "                      Mean Error (ME) : -0.0000\n",
      "       Root Mean Squared Error (RMSE) : 6765.5596\n",
      "            Mean Absolute Error (MAE) : 4572.2577\n",
      "          Mean Percentage Error (MPE) : -4.3324\n",
      "Mean Absolute Percentage Error (MAPE) : 46.4055\n",
      "\n",
      "Model accuracy for testing data:\n",
      "\n",
      "Regression statistics\n",
      "\n",
      "                      Mean Error (ME) : 32.6853\n",
      "       Root Mean Squared Error (RMSE) : 6707.8498\n",
      "            Mean Absolute Error (MAE) : 4547.3509\n",
      "          Mean Percentage Error (MPE) : -3.8712\n",
      "Mean Absolute Percentage Error (MAPE) : 46.3528\n"
     ]
    }
   ],
   "source": [
    "print('Model accuracy for training data:')\n",
    "regressionSummary(y_train,fp_train_pred)\n",
    "\n",
    "print()\n",
    "\n",
    "print('Model accuracy for testing data:')\n",
    "regressionSummary(y_test,fp_pred)"
   ]
  },
  {
   "cell_type": "markdown",
   "id": "f4800d93",
   "metadata": {
    "papermill": {
     "duration": 0.041533,
     "end_time": "2022-03-20T23:58:04.063573",
     "exception": false,
     "start_time": "2022-03-20T23:58:04.022040",
     "status": "completed"
    },
    "tags": []
   },
   "source": [
    "* Since there is not much difference in the model performance and accuracy for Training and Testin datasets this model is not an overfit.\n",
    "\n",
    "* Also since we are getting very high r2 and adjusted_r2 values for both training and testing dataset this is a very good model."
   ]
  }
 ],
 "metadata": {
  "kernelspec": {
   "display_name": "Python 3",
   "language": "python",
   "name": "python3"
  },
  "language_info": {
   "codemirror_mode": {
    "name": "ipython",
    "version": 3
   },
   "file_extension": ".py",
   "mimetype": "text/x-python",
   "name": "python",
   "nbconvert_exporter": "python",
   "pygments_lexer": "ipython3",
   "version": "3.7.12"
  },
  "papermill": {
   "default_parameters": {},
   "duration": 26.402569,
   "end_time": "2022-03-20T23:58:04.818096",
   "environment_variables": {},
   "exception": null,
   "input_path": "__notebook__.ipynb",
   "output_path": "__notebook__.ipynb",
   "parameters": {},
   "start_time": "2022-03-20T23:57:38.415527",
   "version": "2.3.3"
  }
 },
 "nbformat": 4,
 "nbformat_minor": 5
}
