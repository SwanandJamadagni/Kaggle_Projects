{
 "cells": [
  {
   "cell_type": "code",
   "execution_count": 1,
   "id": "a5a7353d",
   "metadata": {
    "_cell_guid": "b1076dfc-b9ad-4769-8c92-a6c4dae69d19",
    "_uuid": "8f2839f25d086af736a60e9eeb907d3b93b6e0e5",
    "execution": {
     "iopub.execute_input": "2022-09-06T00:45:44.850246Z",
     "iopub.status.busy": "2022-09-06T00:45:44.849399Z",
     "iopub.status.idle": "2022-09-06T00:45:44.871667Z",
     "shell.execute_reply": "2022-09-06T00:45:44.871026Z"
    },
    "papermill": {
     "duration": 0.063684,
     "end_time": "2022-09-06T00:45:44.874042",
     "exception": false,
     "start_time": "2022-09-06T00:45:44.810358",
     "status": "completed"
    },
    "tags": []
   },
   "outputs": [
    {
     "name": "stdout",
     "output_type": "stream",
     "text": [
      "/kaggle/input/nyc-jobs-openings-2022/NYC_Jobs.csv\n"
     ]
    }
   ],
   "source": [
    "# This Python 3 environment comes with many helpful analytics libraries installed\n",
    "# It is defined by the kaggle/python Docker image: https://github.com/kaggle/docker-python\n",
    "# For example, here's several helpful packages to load\n",
    "\n",
    "import numpy as np # linear algebra\n",
    "import pandas as pd # data processing, CSV file I/O (e.g. pd.read_csv)\n",
    "\n",
    "# Input data files are available in the read-only \"../input/\" directory\n",
    "# For example, running this (by clicking run or pressing Shift+Enter) will list all files under the input directory\n",
    "\n",
    "import os\n",
    "for dirname, _, filenames in os.walk('/kaggle/input'):\n",
    "    for filename in filenames:\n",
    "        print(os.path.join(dirname, filename))\n",
    "\n",
    "# You can write up to 20GB to the current directory (/kaggle/working/) that gets preserved as output when you create a version using \"Save & Run All\" \n",
    "# You can also write temporary files to /kaggle/temp/, but they won't be saved outside of the current session"
   ]
  },
  {
   "cell_type": "code",
   "execution_count": 2,
   "id": "022c7e38",
   "metadata": {
    "execution": {
     "iopub.execute_input": "2022-09-06T00:45:44.950705Z",
     "iopub.status.busy": "2022-09-06T00:45:44.949778Z",
     "iopub.status.idle": "2022-09-06T00:45:45.441686Z",
     "shell.execute_reply": "2022-09-06T00:45:45.440790Z"
    },
    "papermill": {
     "duration": 0.531629,
     "end_time": "2022-09-06T00:45:45.443878",
     "exception": false,
     "start_time": "2022-09-06T00:45:44.912249",
     "status": "completed"
    },
    "tags": []
   },
   "outputs": [
    {
     "data": {
      "text/html": [
       "<div>\n",
       "<style scoped>\n",
       "    .dataframe tbody tr th:only-of-type {\n",
       "        vertical-align: middle;\n",
       "    }\n",
       "\n",
       "    .dataframe tbody tr th {\n",
       "        vertical-align: top;\n",
       "    }\n",
       "\n",
       "    .dataframe thead th {\n",
       "        text-align: right;\n",
       "    }\n",
       "</style>\n",
       "<table border=\"1\" class=\"dataframe\">\n",
       "  <thead>\n",
       "    <tr style=\"text-align: right;\">\n",
       "      <th></th>\n",
       "      <th>Job ID</th>\n",
       "      <th>Agency</th>\n",
       "      <th>Posting Type</th>\n",
       "      <th># Of Positions</th>\n",
       "      <th>Business Title</th>\n",
       "      <th>Civil Service Title</th>\n",
       "      <th>Title Classification</th>\n",
       "      <th>Title Code No</th>\n",
       "      <th>Level</th>\n",
       "      <th>Job Category</th>\n",
       "      <th>...</th>\n",
       "      <th>Additional Information</th>\n",
       "      <th>To Apply</th>\n",
       "      <th>Hours/Shift</th>\n",
       "      <th>Work Location 1</th>\n",
       "      <th>Recruitment Contact</th>\n",
       "      <th>Residency Requirement</th>\n",
       "      <th>Posting Date</th>\n",
       "      <th>Post Until</th>\n",
       "      <th>Posting Updated</th>\n",
       "      <th>Process Date</th>\n",
       "    </tr>\n",
       "  </thead>\n",
       "  <tbody>\n",
       "    <tr>\n",
       "      <th>0</th>\n",
       "      <td>424339</td>\n",
       "      <td>DEPT OF HEALTH/MENTAL HYGIENE</td>\n",
       "      <td>External</td>\n",
       "      <td>1</td>\n",
       "      <td>Triage Nurse, Bureau of Public Health Clinics</td>\n",
       "      <td>PUBLIC HEALTH NURSE</td>\n",
       "      <td>Competitive-1</td>\n",
       "      <td>51011</td>\n",
       "      <td>03</td>\n",
       "      <td>Health</td>\n",
       "      <td>...</td>\n",
       "      <td>**IMPORTANT NOTES TO ALL CANDIDATES:   Please ...</td>\n",
       "      <td>Apply online with a cover letter to https://a1...</td>\n",
       "      <td>NaN</td>\n",
       "      <td>NaN</td>\n",
       "      <td>NaN</td>\n",
       "      <td>New York City Residency is not required for th...</td>\n",
       "      <td>03/01/2022</td>\n",
       "      <td>NaN</td>\n",
       "      <td>04/05/2022</td>\n",
       "      <td>04/12/2022</td>\n",
       "    </tr>\n",
       "    <tr>\n",
       "      <th>1</th>\n",
       "      <td>379094</td>\n",
       "      <td>NYC EMPLOYEES RETIREMENT SYS</td>\n",
       "      <td>External</td>\n",
       "      <td>1</td>\n",
       "      <td>CERTIFIED IT DEVELOPER (APPLICATIONS)</td>\n",
       "      <td>CERT IT DEVELOPER (APP)</td>\n",
       "      <td>Competitive-1</td>\n",
       "      <td>13643</td>\n",
       "      <td>02</td>\n",
       "      <td>Technology, Data &amp; Innovation</td>\n",
       "      <td>...</td>\n",
       "      <td>NaN</td>\n",
       "      <td>TO APPLY FOR CONSIDERATION, PLEASE FORWARD A C...</td>\n",
       "      <td>NaN</td>\n",
       "      <td>NaN</td>\n",
       "      <td>NaN</td>\n",
       "      <td>New York City Residency is not required for th...</td>\n",
       "      <td>01/07/2019</td>\n",
       "      <td>NaN</td>\n",
       "      <td>01/07/2019</td>\n",
       "      <td>04/12/2022</td>\n",
       "    </tr>\n",
       "    <tr>\n",
       "      <th>2</th>\n",
       "      <td>520417</td>\n",
       "      <td>NYC HOUSING AUTHORITY</td>\n",
       "      <td>External</td>\n",
       "      <td>1</td>\n",
       "      <td>Chief of Settlement</td>\n",
       "      <td>EXECUTIVE AGENCY COUNSEL</td>\n",
       "      <td>Non-Competitive-5</td>\n",
       "      <td>95005</td>\n",
       "      <td>M2</td>\n",
       "      <td>Legal Affairs</td>\n",
       "      <td>...</td>\n",
       "      <td>1.  Resume and cover letter must also include ...</td>\n",
       "      <td>Click the Apply Now button.</td>\n",
       "      <td>NaN</td>\n",
       "      <td>NaN</td>\n",
       "      <td>NaN</td>\n",
       "      <td>NYCHA has no residency requirements.</td>\n",
       "      <td>03/28/2022</td>\n",
       "      <td>NaN</td>\n",
       "      <td>03/28/2022</td>\n",
       "      <td>04/12/2022</td>\n",
       "    </tr>\n",
       "    <tr>\n",
       "      <th>3</th>\n",
       "      <td>233549</td>\n",
       "      <td>NYC EMPLOYEES RETIREMENT SYS</td>\n",
       "      <td>External</td>\n",
       "      <td>1</td>\n",
       "      <td>CERTIFIED IT ADMINISTRATOR (LAN/WAN), LEVEL 4</td>\n",
       "      <td>CERTIFIED IT ADMINISTRATOR (LA</td>\n",
       "      <td>Competitive-1</td>\n",
       "      <td>13652</td>\n",
       "      <td>04</td>\n",
       "      <td>Information Technology &amp; Telecommunications</td>\n",
       "      <td>...</td>\n",
       "      <td>NaN</td>\n",
       "      <td>Click the 'apply now' button to apply.  Please...</td>\n",
       "      <td>NaN</td>\n",
       "      <td>NaN</td>\n",
       "      <td>NaN</td>\n",
       "      <td>New York City Residency is not required for th...</td>\n",
       "      <td>03/01/2016</td>\n",
       "      <td>NaN</td>\n",
       "      <td>03/01/2016</td>\n",
       "      <td>04/12/2022</td>\n",
       "    </tr>\n",
       "    <tr>\n",
       "      <th>4</th>\n",
       "      <td>510256</td>\n",
       "      <td>HUMAN RIGHTS COMMISSION</td>\n",
       "      <td>External</td>\n",
       "      <td>5</td>\n",
       "      <td>Associate Human Rights Specialist</td>\n",
       "      <td>ASSOCIATE HUMAN RIGHTS SPECIAL</td>\n",
       "      <td>Competitive-1</td>\n",
       "      <td>55038</td>\n",
       "      <td>01</td>\n",
       "      <td>Constituent Services &amp; Community Programs</td>\n",
       "      <td>...</td>\n",
       "      <td>NaN</td>\n",
       "      <td>For City employees: Go to Employee Self-Servic...</td>\n",
       "      <td>: DAY, 9-5; ON OCCASION, CANDIDATES MAY BE REQ...</td>\n",
       "      <td>22 Reade St, Ny</td>\n",
       "      <td>NaN</td>\n",
       "      <td>New York City residency is generally required ...</td>\n",
       "      <td>12/16/2021</td>\n",
       "      <td>NaN</td>\n",
       "      <td>12/16/2021</td>\n",
       "      <td>04/12/2022</td>\n",
       "    </tr>\n",
       "  </tbody>\n",
       "</table>\n",
       "<p>5 rows × 30 columns</p>\n",
       "</div>"
      ],
      "text/plain": [
       "   Job ID                         Agency Posting Type  # Of Positions  \\\n",
       "0  424339  DEPT OF HEALTH/MENTAL HYGIENE     External               1   \n",
       "1  379094   NYC EMPLOYEES RETIREMENT SYS     External               1   \n",
       "2  520417          NYC HOUSING AUTHORITY     External               1   \n",
       "3  233549   NYC EMPLOYEES RETIREMENT SYS     External               1   \n",
       "4  510256        HUMAN RIGHTS COMMISSION     External               5   \n",
       "\n",
       "                                  Business Title  \\\n",
       "0  Triage Nurse, Bureau of Public Health Clinics   \n",
       "1          CERTIFIED IT DEVELOPER (APPLICATIONS)   \n",
       "2                            Chief of Settlement   \n",
       "3  CERTIFIED IT ADMINISTRATOR (LAN/WAN), LEVEL 4   \n",
       "4              Associate Human Rights Specialist   \n",
       "\n",
       "              Civil Service Title Title Classification Title Code No Level  \\\n",
       "0             PUBLIC HEALTH NURSE        Competitive-1         51011    03   \n",
       "1         CERT IT DEVELOPER (APP)        Competitive-1         13643    02   \n",
       "2        EXECUTIVE AGENCY COUNSEL    Non-Competitive-5         95005    M2   \n",
       "3  CERTIFIED IT ADMINISTRATOR (LA        Competitive-1         13652    04   \n",
       "4  ASSOCIATE HUMAN RIGHTS SPECIAL        Competitive-1         55038    01   \n",
       "\n",
       "                                  Job Category  ...  \\\n",
       "0                                       Health  ...   \n",
       "1                Technology, Data & Innovation  ...   \n",
       "2                                Legal Affairs  ...   \n",
       "3  Information Technology & Telecommunications  ...   \n",
       "4    Constituent Services & Community Programs  ...   \n",
       "\n",
       "                              Additional Information  \\\n",
       "0  **IMPORTANT NOTES TO ALL CANDIDATES:   Please ...   \n",
       "1                                                NaN   \n",
       "2  1.  Resume and cover letter must also include ...   \n",
       "3                                                NaN   \n",
       "4                                                NaN   \n",
       "\n",
       "                                            To Apply  \\\n",
       "0  Apply online with a cover letter to https://a1...   \n",
       "1  TO APPLY FOR CONSIDERATION, PLEASE FORWARD A C...   \n",
       "2                        Click the Apply Now button.   \n",
       "3  Click the 'apply now' button to apply.  Please...   \n",
       "4  For City employees: Go to Employee Self-Servic...   \n",
       "\n",
       "                                         Hours/Shift  Work Location 1  \\\n",
       "0                                                NaN              NaN   \n",
       "1                                                NaN              NaN   \n",
       "2                                                NaN              NaN   \n",
       "3                                                NaN              NaN   \n",
       "4  : DAY, 9-5; ON OCCASION, CANDIDATES MAY BE REQ...  22 Reade St, Ny   \n",
       "\n",
       "  Recruitment Contact                              Residency Requirement  \\\n",
       "0                 NaN  New York City Residency is not required for th...   \n",
       "1                 NaN  New York City Residency is not required for th...   \n",
       "2                 NaN               NYCHA has no residency requirements.   \n",
       "3                 NaN  New York City Residency is not required for th...   \n",
       "4                 NaN  New York City residency is generally required ...   \n",
       "\n",
       "  Posting Date Post Until Posting Updated Process Date  \n",
       "0   03/01/2022        NaN      04/05/2022   04/12/2022  \n",
       "1   01/07/2019        NaN      01/07/2019   04/12/2022  \n",
       "2   03/28/2022        NaN      03/28/2022   04/12/2022  \n",
       "3   03/01/2016        NaN      03/01/2016   04/12/2022  \n",
       "4   12/16/2021        NaN      12/16/2021   04/12/2022  \n",
       "\n",
       "[5 rows x 30 columns]"
      ]
     },
     "execution_count": 2,
     "metadata": {},
     "output_type": "execute_result"
    }
   ],
   "source": [
    "nyc_jobs_df = pd.read_csv('/kaggle/input/nyc-jobs-openings-2022/NYC_Jobs.csv')\n",
    "nyc_jobs_df.head()"
   ]
  },
  {
   "cell_type": "code",
   "execution_count": 3,
   "id": "efdcfba1",
   "metadata": {
    "execution": {
     "iopub.execute_input": "2022-09-06T00:45:45.520643Z",
     "iopub.status.busy": "2022-09-06T00:45:45.519702Z",
     "iopub.status.idle": "2022-09-06T00:45:45.525604Z",
     "shell.execute_reply": "2022-09-06T00:45:45.525062Z"
    },
    "papermill": {
     "duration": 0.046031,
     "end_time": "2022-09-06T00:45:45.527336",
     "exception": false,
     "start_time": "2022-09-06T00:45:45.481305",
     "status": "completed"
    },
    "tags": []
   },
   "outputs": [
    {
     "data": {
      "text/plain": [
       "Index(['Job ID', 'Agency', 'Posting Type', '# Of Positions', 'Business Title',\n",
       "       'Civil Service Title', 'Title Classification', 'Title Code No', 'Level',\n",
       "       'Job Category', 'Full-Time/Part-Time indicator', 'Career Level',\n",
       "       'Salary Range From', 'Salary Range To', 'Salary Frequency',\n",
       "       'Work Location', 'Division/Work Unit', 'Job Description',\n",
       "       'Minimum Qual Requirements', 'Preferred Skills',\n",
       "       'Additional Information', 'To Apply', 'Hours/Shift', 'Work Location 1',\n",
       "       'Recruitment Contact', 'Residency Requirement', 'Posting Date',\n",
       "       'Post Until', 'Posting Updated', 'Process Date'],\n",
       "      dtype='object')"
      ]
     },
     "execution_count": 3,
     "metadata": {},
     "output_type": "execute_result"
    }
   ],
   "source": [
    "nyc_jobs_df.columns"
   ]
  },
  {
   "cell_type": "code",
   "execution_count": 4,
   "id": "8262da8b",
   "metadata": {
    "execution": {
     "iopub.execute_input": "2022-09-06T00:45:45.607753Z",
     "iopub.status.busy": "2022-09-06T00:45:45.607257Z",
     "iopub.status.idle": "2022-09-06T00:45:45.616685Z",
     "shell.execute_reply": "2022-09-06T00:45:45.615743Z"
    },
    "papermill": {
     "duration": 0.052368,
     "end_time": "2022-09-06T00:45:45.619048",
     "exception": false,
     "start_time": "2022-09-06T00:45:45.566680",
     "status": "completed"
    },
    "tags": []
   },
   "outputs": [],
   "source": [
    "nyc_jobs_df = nyc_jobs_df.drop(columns=['Job ID','Business Title','Title Classification','Title Code No','Job Description','Minimum Qual Requirements',\n",
    "                                        'Additional Information','To Apply','Hours/Shift','Work Location 1','Recruitment Contact','Posting Date',\n",
    "                                        'Post Until', 'Posting Updated', 'Process Date'])"
   ]
  },
  {
   "cell_type": "code",
   "execution_count": 5,
   "id": "ca967243",
   "metadata": {
    "execution": {
     "iopub.execute_input": "2022-09-06T00:45:45.696175Z",
     "iopub.status.busy": "2022-09-06T00:45:45.695596Z",
     "iopub.status.idle": "2022-09-06T00:45:45.701529Z",
     "shell.execute_reply": "2022-09-06T00:45:45.700665Z"
    },
    "papermill": {
     "duration": 0.047071,
     "end_time": "2022-09-06T00:45:45.703711",
     "exception": false,
     "start_time": "2022-09-06T00:45:45.656640",
     "status": "completed"
    },
    "tags": []
   },
   "outputs": [
    {
     "data": {
      "text/plain": [
       "(3773, 15)"
      ]
     },
     "execution_count": 5,
     "metadata": {},
     "output_type": "execute_result"
    }
   ],
   "source": [
    "nyc_jobs_df.shape"
   ]
  },
  {
   "cell_type": "code",
   "execution_count": 6,
   "id": "a02f6195",
   "metadata": {
    "execution": {
     "iopub.execute_input": "2022-09-06T00:45:45.782664Z",
     "iopub.status.busy": "2022-09-06T00:45:45.782350Z",
     "iopub.status.idle": "2022-09-06T00:45:45.802381Z",
     "shell.execute_reply": "2022-09-06T00:45:45.801531Z"
    },
    "papermill": {
     "duration": 0.061965,
     "end_time": "2022-09-06T00:45:45.804463",
     "exception": false,
     "start_time": "2022-09-06T00:45:45.742498",
     "status": "completed"
    },
    "tags": []
   },
   "outputs": [
    {
     "data": {
      "text/html": [
       "<div>\n",
       "<style scoped>\n",
       "    .dataframe tbody tr th:only-of-type {\n",
       "        vertical-align: middle;\n",
       "    }\n",
       "\n",
       "    .dataframe tbody tr th {\n",
       "        vertical-align: top;\n",
       "    }\n",
       "\n",
       "    .dataframe thead th {\n",
       "        text-align: right;\n",
       "    }\n",
       "</style>\n",
       "<table border=\"1\" class=\"dataframe\">\n",
       "  <thead>\n",
       "    <tr style=\"text-align: right;\">\n",
       "      <th></th>\n",
       "      <th>Agency</th>\n",
       "      <th>Posting Type</th>\n",
       "      <th># Of Positions</th>\n",
       "      <th>Civil Service Title</th>\n",
       "      <th>Level</th>\n",
       "      <th>Job Category</th>\n",
       "      <th>Full-Time/Part-Time indicator</th>\n",
       "      <th>Career Level</th>\n",
       "      <th>Salary Range From</th>\n",
       "      <th>Salary Range To</th>\n",
       "      <th>Salary Frequency</th>\n",
       "      <th>Work Location</th>\n",
       "      <th>Division/Work Unit</th>\n",
       "      <th>Preferred Skills</th>\n",
       "      <th>Residency Requirement</th>\n",
       "    </tr>\n",
       "  </thead>\n",
       "  <tbody>\n",
       "    <tr>\n",
       "      <th>0</th>\n",
       "      <td>DEPT OF HEALTH/MENTAL HYGIENE</td>\n",
       "      <td>External</td>\n",
       "      <td>1</td>\n",
       "      <td>PUBLIC HEALTH NURSE</td>\n",
       "      <td>03</td>\n",
       "      <td>Health</td>\n",
       "      <td>F</td>\n",
       "      <td>Experienced (non-manager)</td>\n",
       "      <td>84252.0</td>\n",
       "      <td>84252.0</td>\n",
       "      <td>Annual</td>\n",
       "      <td>NYC - All Boroughs</td>\n",
       "      <td>PHC Administration</td>\n",
       "      <td>NaN</td>\n",
       "      <td>New York City Residency is not required for th...</td>\n",
       "    </tr>\n",
       "    <tr>\n",
       "      <th>1</th>\n",
       "      <td>NYC EMPLOYEES RETIREMENT SYS</td>\n",
       "      <td>External</td>\n",
       "      <td>1</td>\n",
       "      <td>CERT IT DEVELOPER (APP)</td>\n",
       "      <td>02</td>\n",
       "      <td>Technology, Data &amp; Innovation</td>\n",
       "      <td>F</td>\n",
       "      <td>Experienced (non-manager)</td>\n",
       "      <td>82884.0</td>\n",
       "      <td>116391.0</td>\n",
       "      <td>Annual</td>\n",
       "      <td>335 Adams Street, Brooklyn Ny</td>\n",
       "      <td>Executive Management</td>\n",
       "      <td>Â·\\tExperience with testing /deployment tools ...</td>\n",
       "      <td>New York City Residency is not required for th...</td>\n",
       "    </tr>\n",
       "    <tr>\n",
       "      <th>2</th>\n",
       "      <td>NYC HOUSING AUTHORITY</td>\n",
       "      <td>External</td>\n",
       "      <td>1</td>\n",
       "      <td>EXECUTIVE AGENCY COUNSEL</td>\n",
       "      <td>M2</td>\n",
       "      <td>Legal Affairs</td>\n",
       "      <td>F</td>\n",
       "      <td>Manager</td>\n",
       "      <td>105000.0</td>\n",
       "      <td>125000.0</td>\n",
       "      <td>Annual</td>\n",
       "      <td>Law-Tort Division</td>\n",
       "      <td>Law Dept-Litigation</td>\n",
       "      <td>1.  Thorough knowledge of tort substantive and...</td>\n",
       "      <td>NYCHA has no residency requirements.</td>\n",
       "    </tr>\n",
       "    <tr>\n",
       "      <th>3</th>\n",
       "      <td>NYC EMPLOYEES RETIREMENT SYS</td>\n",
       "      <td>External</td>\n",
       "      <td>1</td>\n",
       "      <td>CERTIFIED IT ADMINISTRATOR (LA</td>\n",
       "      <td>04</td>\n",
       "      <td>Information Technology &amp; Telecommunications</td>\n",
       "      <td>F</td>\n",
       "      <td>Experienced (non-manager)</td>\n",
       "      <td>87203.0</td>\n",
       "      <td>131623.0</td>\n",
       "      <td>Annual</td>\n",
       "      <td>335 Adams Street, Brooklyn Ny</td>\n",
       "      <td>Executive Management</td>\n",
       "      <td>Minimum 5 years of experience planning, design...</td>\n",
       "      <td>New York City Residency is not required for th...</td>\n",
       "    </tr>\n",
       "    <tr>\n",
       "      <th>4</th>\n",
       "      <td>HUMAN RIGHTS COMMISSION</td>\n",
       "      <td>External</td>\n",
       "      <td>5</td>\n",
       "      <td>ASSOCIATE HUMAN RIGHTS SPECIAL</td>\n",
       "      <td>01</td>\n",
       "      <td>Constituent Services &amp; Community Programs</td>\n",
       "      <td>F</td>\n",
       "      <td>Experienced (non-manager)</td>\n",
       "      <td>58449.0</td>\n",
       "      <td>67216.0</td>\n",
       "      <td>Annual</td>\n",
       "      <td>22 Reade St, Ny</td>\n",
       "      <td>Comm.Rel.Bureau-Central</td>\n",
       "      <td>â¢\\tStrong oral and written communication ski...</td>\n",
       "      <td>New York City residency is generally required ...</td>\n",
       "    </tr>\n",
       "  </tbody>\n",
       "</table>\n",
       "</div>"
      ],
      "text/plain": [
       "                          Agency Posting Type  # Of Positions  \\\n",
       "0  DEPT OF HEALTH/MENTAL HYGIENE     External               1   \n",
       "1   NYC EMPLOYEES RETIREMENT SYS     External               1   \n",
       "2          NYC HOUSING AUTHORITY     External               1   \n",
       "3   NYC EMPLOYEES RETIREMENT SYS     External               1   \n",
       "4        HUMAN RIGHTS COMMISSION     External               5   \n",
       "\n",
       "              Civil Service Title Level  \\\n",
       "0             PUBLIC HEALTH NURSE    03   \n",
       "1         CERT IT DEVELOPER (APP)    02   \n",
       "2        EXECUTIVE AGENCY COUNSEL    M2   \n",
       "3  CERTIFIED IT ADMINISTRATOR (LA    04   \n",
       "4  ASSOCIATE HUMAN RIGHTS SPECIAL    01   \n",
       "\n",
       "                                  Job Category Full-Time/Part-Time indicator  \\\n",
       "0                                       Health                             F   \n",
       "1                Technology, Data & Innovation                             F   \n",
       "2                                Legal Affairs                             F   \n",
       "3  Information Technology & Telecommunications                             F   \n",
       "4    Constituent Services & Community Programs                             F   \n",
       "\n",
       "                Career Level  Salary Range From  Salary Range To  \\\n",
       "0  Experienced (non-manager)            84252.0          84252.0   \n",
       "1  Experienced (non-manager)            82884.0         116391.0   \n",
       "2                    Manager           105000.0         125000.0   \n",
       "3  Experienced (non-manager)            87203.0         131623.0   \n",
       "4  Experienced (non-manager)            58449.0          67216.0   \n",
       "\n",
       "  Salary Frequency                  Work Location       Division/Work Unit  \\\n",
       "0           Annual             NYC - All Boroughs       PHC Administration   \n",
       "1           Annual  335 Adams Street, Brooklyn Ny     Executive Management   \n",
       "2           Annual              Law-Tort Division      Law Dept-Litigation   \n",
       "3           Annual  335 Adams Street, Brooklyn Ny     Executive Management   \n",
       "4           Annual                22 Reade St, Ny  Comm.Rel.Bureau-Central   \n",
       "\n",
       "                                    Preferred Skills  \\\n",
       "0                                                NaN   \n",
       "1  Â·\\tExperience with testing /deployment tools ...   \n",
       "2  1.  Thorough knowledge of tort substantive and...   \n",
       "3  Minimum 5 years of experience planning, design...   \n",
       "4  â¢\\tStrong oral and written communication ski...   \n",
       "\n",
       "                               Residency Requirement  \n",
       "0  New York City Residency is not required for th...  \n",
       "1  New York City Residency is not required for th...  \n",
       "2               NYCHA has no residency requirements.  \n",
       "3  New York City Residency is not required for th...  \n",
       "4  New York City residency is generally required ...  "
      ]
     },
     "execution_count": 6,
     "metadata": {},
     "output_type": "execute_result"
    }
   ],
   "source": [
    "nyc_jobs_df.head()"
   ]
  },
  {
   "cell_type": "code",
   "execution_count": 7,
   "id": "af37cfc8",
   "metadata": {
    "execution": {
     "iopub.execute_input": "2022-09-06T00:45:45.886838Z",
     "iopub.status.busy": "2022-09-06T00:45:45.886524Z",
     "iopub.status.idle": "2022-09-06T00:45:45.944467Z",
     "shell.execute_reply": "2022-09-06T00:45:45.943492Z"
    },
    "papermill": {
     "duration": 0.102647,
     "end_time": "2022-09-06T00:45:45.947338",
     "exception": false,
     "start_time": "2022-09-06T00:45:45.844691",
     "status": "completed"
    },
    "tags": []
   },
   "outputs": [
    {
     "name": "stdout",
     "output_type": "stream",
     "text": [
      "Agency\n",
      "count                               3773\n",
      "unique                                56\n",
      "top       DEPT OF ENVIRONMENT PROTECTION\n",
      "freq                                 588\n",
      "Name: Agency, dtype: object\n",
      "\n",
      "Posting Type\n",
      "count         3773\n",
      "unique           2\n",
      "top       Internal\n",
      "freq          2139\n",
      "Name: Posting Type, dtype: object\n",
      "\n",
      "# Of Positions\n",
      "count    3773.000000\n",
      "mean        2.614365\n",
      "std         9.781737\n",
      "min         1.000000\n",
      "25%         1.000000\n",
      "50%         1.000000\n",
      "75%         1.000000\n",
      "max       250.000000\n",
      "Name: # Of Positions, dtype: float64\n",
      "\n",
      "Civil Service Title\n",
      "count                      3773\n",
      "unique                      349\n",
      "top       SUMMER COLLEGE INTERN\n",
      "freq                        240\n",
      "Name: Civil Service Title, dtype: object\n",
      "\n",
      "Level\n",
      "count     3773\n",
      "unique      17\n",
      "top         00\n",
      "freq      1588\n",
      "Name: Level, dtype: object\n",
      "\n",
      "Job Category\n",
      "count                                      3771\n",
      "unique                                      133\n",
      "top       Engineering, Architecture, & Planning\n",
      "freq                                        496\n",
      "Name: Job Category, dtype: object\n",
      "\n",
      "Full-Time/Part-Time indicator\n",
      "count     3610\n",
      "unique       2\n",
      "top          F\n",
      "freq      3379\n",
      "Name: Full-Time/Part-Time indicator, dtype: object\n",
      "\n",
      "Career Level\n",
      "count                          3771\n",
      "unique                            5\n",
      "top       Experienced (non-manager)\n",
      "freq                           2359\n",
      "Name: Career Level, dtype: object\n",
      "\n",
      "Salary Range From\n",
      "count      3773.000000\n",
      "mean      57657.939466\n",
      "std       36629.729583\n",
      "min           0.000000\n",
      "25%       40017.000000\n",
      "50%       58700.000000\n",
      "75%       75000.000000\n",
      "max      250000.000000\n",
      "Name: Salary Range From, dtype: float64\n",
      "\n",
      "Salary Range To\n",
      "count      3773.000000\n",
      "mean      79660.249595\n",
      "std       51101.248638\n",
      "min          15.000000\n",
      "25%       54228.000000\n",
      "50%       80000.000000\n",
      "75%      109409.000000\n",
      "max      265000.000000\n",
      "Name: Salary Range To, dtype: float64\n",
      "\n",
      "Salary Frequency\n",
      "count       3773\n",
      "unique         3\n",
      "top       Annual\n",
      "freq        3130\n",
      "Name: Salary Frequency, dtype: object\n",
      "\n",
      "Work Location\n",
      "count                            3773\n",
      "unique                            282\n",
      "top       96-05 Horace Harding Expway\n",
      "freq                              273\n",
      "Name: Work Location, dtype: object\n",
      "\n",
      "Division/Work Unit\n",
      "count                     3773\n",
      "unique                     855\n",
      "top       Executive Management\n",
      "freq                        76\n",
      "Name: Division/Work Unit, dtype: object\n",
      "\n",
      "Preferred Skills\n",
      "count                                                  3365\n",
      "unique                                                 1598\n",
      "top       â¢\\tMinimum experience of 5 years as an Accou...\n",
      "freq                                                     18\n",
      "Name: Preferred Skills, dtype: object\n",
      "\n",
      "Residency Requirement\n",
      "count                                                  3773\n",
      "unique                                                   66\n",
      "top       New York City residency is generally required ...\n",
      "freq                                                   2182\n",
      "Name: Residency Requirement, dtype: object\n",
      "\n"
     ]
    }
   ],
   "source": [
    "for c in nyc_jobs_df.columns:\n",
    "    print(c)\n",
    "    print(nyc_jobs_df[c].describe())\n",
    "    print()"
   ]
  },
  {
   "cell_type": "code",
   "execution_count": 8,
   "id": "8ae11b18",
   "metadata": {
    "execution": {
     "iopub.execute_input": "2022-09-06T00:45:46.027986Z",
     "iopub.status.busy": "2022-09-06T00:45:46.027659Z",
     "iopub.status.idle": "2022-09-06T00:45:46.036911Z",
     "shell.execute_reply": "2022-09-06T00:45:46.035992Z"
    },
    "papermill": {
     "duration": 0.052338,
     "end_time": "2022-09-06T00:45:46.039148",
     "exception": false,
     "start_time": "2022-09-06T00:45:45.986810",
     "status": "completed"
    },
    "tags": []
   },
   "outputs": [
    {
     "name": "stdout",
     "output_type": "stream",
     "text": [
      "Index(['Agency', 'Posting_Type', '#_Of_Positions', 'Civil_Service_Title',\n",
      "       'Level', 'Job_Category', 'Full_Time_Part_Time_indicator',\n",
      "       'Career_Level', 'Salary_Range_From', 'Salary_Range_To',\n",
      "       'Salary_Frequency', 'Work_Location', 'Division_Work_Unit',\n",
      "       'Preferred_Skills', 'Residency_Requirement'],\n",
      "      dtype='object')\n"
     ]
    }
   ],
   "source": [
    "nyc_jobs_df.columns = [c.strip().replace(' ','_') for c in nyc_jobs_df.columns]\n",
    "nyc_jobs_df = nyc_jobs_df.rename(columns={\n",
    "    'Full-Time/Part-Time_indicator':'Full_Time_Part_Time_indicator', \n",
    "    'Division/Work_Unit':'Division_Work_Unit'})\n",
    "print(nyc_jobs_df.columns)"
   ]
  },
  {
   "cell_type": "code",
   "execution_count": 9,
   "id": "3f08be84",
   "metadata": {
    "execution": {
     "iopub.execute_input": "2022-09-06T00:45:46.120828Z",
     "iopub.status.busy": "2022-09-06T00:45:46.120549Z",
     "iopub.status.idle": "2022-09-06T00:45:46.127213Z",
     "shell.execute_reply": "2022-09-06T00:45:46.126001Z"
    },
    "papermill": {
     "duration": 0.050975,
     "end_time": "2022-09-06T00:45:46.129742",
     "exception": false,
     "start_time": "2022-09-06T00:45:46.078767",
     "status": "completed"
    },
    "tags": []
   },
   "outputs": [
    {
     "name": "stdout",
     "output_type": "stream",
     "text": [
      "Agency\n",
      "Posting_Type\n",
      "Civil_Service_Title\n",
      "Level\n",
      "Job_Category\n",
      "Full_Time_Part_Time_indicator\n",
      "Career_Level\n",
      "Salary_Frequency\n",
      "Work_Location\n",
      "Division_Work_Unit\n",
      "Preferred_Skills\n",
      "Residency_Requirement\n"
     ]
    }
   ],
   "source": [
    "dataTypesDict = dict(nyc_jobs_df.dtypes)\n",
    "for k in dataTypesDict.keys():\n",
    "    if str(dataTypesDict[k]) == 'object':\n",
    "        print(k)"
   ]
  },
  {
   "cell_type": "code",
   "execution_count": 10,
   "id": "fcf101d5",
   "metadata": {
    "execution": {
     "iopub.execute_input": "2022-09-06T00:45:46.213865Z",
     "iopub.status.busy": "2022-09-06T00:45:46.213539Z",
     "iopub.status.idle": "2022-09-06T00:45:46.242288Z",
     "shell.execute_reply": "2022-09-06T00:45:46.241503Z"
    },
    "papermill": {
     "duration": 0.073236,
     "end_time": "2022-09-06T00:45:46.244687",
     "exception": false,
     "start_time": "2022-09-06T00:45:46.171451",
     "status": "completed"
    },
    "tags": []
   },
   "outputs": [],
   "source": [
    "nyc_jobs_df.Agency = nyc_jobs_df.Agency.astype('category')\n",
    "nyc_jobs_df.Posting_Type = nyc_jobs_df.Posting_Type.astype('category')\n",
    "nyc_jobs_df.Civil_Service_Title = nyc_jobs_df.Civil_Service_Title.astype('category')\n",
    "nyc_jobs_df.Level = nyc_jobs_df.Level.astype('category')\n",
    "nyc_jobs_df.Job_Category = nyc_jobs_df.Job_Category.astype('category')\n",
    "nyc_jobs_df.Full_Time_Part_Time_indicator = nyc_jobs_df.Full_Time_Part_Time_indicator.astype('category')\n",
    "nyc_jobs_df.Career_Level = nyc_jobs_df.Career_Level.astype('category')\n",
    "nyc_jobs_df.Salary_Frequency = nyc_jobs_df.Salary_Frequency.astype('category')\n",
    "nyc_jobs_df.Work_Location = nyc_jobs_df.Work_Location.astype('category')\n",
    "nyc_jobs_df.Division_Work_Unit = nyc_jobs_df.Division_Work_Unit.astype('category')\n",
    "nyc_jobs_df.Preferred_Skills = nyc_jobs_df.Preferred_Skills.astype('category')\n",
    "nyc_jobs_df.Residency_Requirement = nyc_jobs_df.Residency_Requirement.astype('category')"
   ]
  },
  {
   "cell_type": "code",
   "execution_count": 11,
   "id": "a3386a24",
   "metadata": {
    "execution": {
     "iopub.execute_input": "2022-09-06T00:45:46.326017Z",
     "iopub.status.busy": "2022-09-06T00:45:46.325710Z",
     "iopub.status.idle": "2022-09-06T00:45:46.333288Z",
     "shell.execute_reply": "2022-09-06T00:45:46.332374Z"
    },
    "papermill": {
     "duration": 0.050913,
     "end_time": "2022-09-06T00:45:46.335337",
     "exception": false,
     "start_time": "2022-09-06T00:45:46.284424",
     "status": "completed"
    },
    "tags": []
   },
   "outputs": [
    {
     "data": {
      "text/plain": [
       "Agency                           category\n",
       "Posting_Type                     category\n",
       "#_Of_Positions                      int64\n",
       "Civil_Service_Title              category\n",
       "Level                            category\n",
       "Job_Category                     category\n",
       "Full_Time_Part_Time_indicator    category\n",
       "Career_Level                     category\n",
       "Salary_Range_From                 float64\n",
       "Salary_Range_To                   float64\n",
       "Salary_Frequency                 category\n",
       "Work_Location                    category\n",
       "Division_Work_Unit               category\n",
       "Preferred_Skills                 category\n",
       "Residency_Requirement            category\n",
       "dtype: object"
      ]
     },
     "execution_count": 11,
     "metadata": {},
     "output_type": "execute_result"
    }
   ],
   "source": [
    "nyc_jobs_df.dtypes"
   ]
  },
  {
   "cell_type": "code",
   "execution_count": 12,
   "id": "feff4048",
   "metadata": {
    "execution": {
     "iopub.execute_input": "2022-09-06T00:45:46.417135Z",
     "iopub.status.busy": "2022-09-06T00:45:46.416703Z",
     "iopub.status.idle": "2022-09-06T00:45:46.428003Z",
     "shell.execute_reply": "2022-09-06T00:45:46.427158Z"
    },
    "papermill": {
     "duration": 0.054457,
     "end_time": "2022-09-06T00:45:46.429904",
     "exception": false,
     "start_time": "2022-09-06T00:45:46.375447",
     "status": "completed"
    },
    "tags": []
   },
   "outputs": [
    {
     "data": {
      "text/plain": [
       "(3231, 15)"
      ]
     },
     "execution_count": 12,
     "metadata": {},
     "output_type": "execute_result"
    }
   ],
   "source": [
    "nyc_jobs_df = nyc_jobs_df.dropna()\n",
    "nyc_jobs_df.shape"
   ]
  },
  {
   "cell_type": "code",
   "execution_count": 13,
   "id": "f6beeb37",
   "metadata": {
    "execution": {
     "iopub.execute_input": "2022-09-06T00:45:46.512626Z",
     "iopub.status.busy": "2022-09-06T00:45:46.511919Z",
     "iopub.status.idle": "2022-09-06T00:45:46.517076Z",
     "shell.execute_reply": "2022-09-06T00:45:46.516438Z"
    },
    "papermill": {
     "duration": 0.049077,
     "end_time": "2022-09-06T00:45:46.519136",
     "exception": false,
     "start_time": "2022-09-06T00:45:46.470059",
     "status": "completed"
    },
    "tags": []
   },
   "outputs": [],
   "source": [
    "predictors = list(nyc_jobs_df.drop(columns=['Career_Level']).columns)\n",
    "outcome = 'Career_Level'"
   ]
  },
  {
   "cell_type": "code",
   "execution_count": 14,
   "id": "0e5ba1d5",
   "metadata": {
    "execution": {
     "iopub.execute_input": "2022-09-06T00:45:46.603352Z",
     "iopub.status.busy": "2022-09-06T00:45:46.602603Z",
     "iopub.status.idle": "2022-09-06T00:45:46.607757Z",
     "shell.execute_reply": "2022-09-06T00:45:46.607187Z"
    },
    "papermill": {
     "duration": 0.050171,
     "end_time": "2022-09-06T00:45:46.609824",
     "exception": false,
     "start_time": "2022-09-06T00:45:46.559653",
     "status": "completed"
    },
    "tags": []
   },
   "outputs": [
    {
     "data": {
      "text/plain": [
       "['Agency',\n",
       " 'Posting_Type',\n",
       " '#_Of_Positions',\n",
       " 'Civil_Service_Title',\n",
       " 'Level',\n",
       " 'Job_Category',\n",
       " 'Full_Time_Part_Time_indicator',\n",
       " 'Salary_Range_From',\n",
       " 'Salary_Range_To',\n",
       " 'Salary_Frequency',\n",
       " 'Work_Location',\n",
       " 'Division_Work_Unit',\n",
       " 'Preferred_Skills',\n",
       " 'Residency_Requirement']"
      ]
     },
     "execution_count": 14,
     "metadata": {},
     "output_type": "execute_result"
    }
   ],
   "source": [
    "predictors"
   ]
  },
  {
   "cell_type": "code",
   "execution_count": 15,
   "id": "ca24c074",
   "metadata": {
    "execution": {
     "iopub.execute_input": "2022-09-06T00:45:46.695450Z",
     "iopub.status.busy": "2022-09-06T00:45:46.695119Z",
     "iopub.status.idle": "2022-09-06T00:45:46.700387Z",
     "shell.execute_reply": "2022-09-06T00:45:46.699699Z"
    },
    "papermill": {
     "duration": 0.049181,
     "end_time": "2022-09-06T00:45:46.702251",
     "exception": false,
     "start_time": "2022-09-06T00:45:46.653070",
     "status": "completed"
    },
    "tags": []
   },
   "outputs": [
    {
     "data": {
      "text/plain": [
       "'Career_Level'"
      ]
     },
     "execution_count": 15,
     "metadata": {},
     "output_type": "execute_result"
    }
   ],
   "source": [
    "outcome"
   ]
  },
  {
   "cell_type": "code",
   "execution_count": 16,
   "id": "63dd8f6b",
   "metadata": {
    "execution": {
     "iopub.execute_input": "2022-09-06T00:45:46.788673Z",
     "iopub.status.busy": "2022-09-06T00:45:46.788223Z",
     "iopub.status.idle": "2022-09-06T00:45:46.792545Z",
     "shell.execute_reply": "2022-09-06T00:45:46.792006Z"
    },
    "papermill": {
     "duration": 0.050474,
     "end_time": "2022-09-06T00:45:46.794382",
     "exception": false,
     "start_time": "2022-09-06T00:45:46.743908",
     "status": "completed"
    },
    "tags": []
   },
   "outputs": [],
   "source": [
    "x = nyc_jobs_df[predictors]\n",
    "y = nyc_jobs_df[outcome]"
   ]
  },
  {
   "cell_type": "code",
   "execution_count": 17,
   "id": "c069e270",
   "metadata": {
    "execution": {
     "iopub.execute_input": "2022-09-06T00:45:46.880442Z",
     "iopub.status.busy": "2022-09-06T00:45:46.879986Z",
     "iopub.status.idle": "2022-09-06T00:45:59.063902Z",
     "shell.execute_reply": "2022-09-06T00:45:59.063072Z"
    },
    "papermill": {
     "duration": 12.229263,
     "end_time": "2022-09-06T00:45:59.066617",
     "exception": false,
     "start_time": "2022-09-06T00:45:46.837354",
     "status": "completed"
    },
    "tags": []
   },
   "outputs": [
    {
     "name": "stdout",
     "output_type": "stream",
     "text": [
      "Requirement already satisfied: category_encoders in /opt/conda/lib/python3.7/site-packages (2.4.0)\r\n",
      "Requirement already satisfied: scipy>=1.0.0 in /opt/conda/lib/python3.7/site-packages (from category_encoders) (1.7.3)\r\n",
      "Requirement already satisfied: scikit-learn>=0.20.0 in /opt/conda/lib/python3.7/site-packages (from category_encoders) (1.0.2)\r\n",
      "Requirement already satisfied: pandas>=0.21.1 in /opt/conda/lib/python3.7/site-packages (from category_encoders) (1.3.5)\r\n",
      "Requirement already satisfied: statsmodels>=0.9.0 in /opt/conda/lib/python3.7/site-packages (from category_encoders) (0.13.2)\r\n",
      "Requirement already satisfied: patsy>=0.5.1 in /opt/conda/lib/python3.7/site-packages (from category_encoders) (0.5.2)\r\n",
      "Requirement already satisfied: numpy>=1.14.0 in /opt/conda/lib/python3.7/site-packages (from category_encoders) (1.21.6)\r\n",
      "Requirement already satisfied: python-dateutil>=2.7.3 in /opt/conda/lib/python3.7/site-packages (from pandas>=0.21.1->category_encoders) (2.8.2)\r\n",
      "Requirement already satisfied: pytz>=2017.3 in /opt/conda/lib/python3.7/site-packages (from pandas>=0.21.1->category_encoders) (2021.3)\r\n",
      "Requirement already satisfied: six in /opt/conda/lib/python3.7/site-packages (from patsy>=0.5.1->category_encoders) (1.16.0)\r\n",
      "Requirement already satisfied: threadpoolctl>=2.0.0 in /opt/conda/lib/python3.7/site-packages (from scikit-learn>=0.20.0->category_encoders) (3.1.0)\r\n",
      "Requirement already satisfied: joblib>=0.11 in /opt/conda/lib/python3.7/site-packages (from scikit-learn>=0.20.0->category_encoders) (1.0.1)\r\n",
      "Requirement already satisfied: packaging>=21.3 in /opt/conda/lib/python3.7/site-packages (from statsmodels>=0.9.0->category_encoders) (21.3)\r\n",
      "Requirement already satisfied: pyparsing!=3.0.5,>=2.0.2 in /opt/conda/lib/python3.7/site-packages (from packaging>=21.3->statsmodels>=0.9.0->category_encoders) (3.0.7)\r\n",
      "\u001b[33mWARNING: Running pip as the 'root' user can result in broken permissions and conflicting behaviour with the system package manager. It is recommended to use a virtual environment instead: https://pip.pypa.io/warnings/venv\u001b[0m\u001b[33m\r\n",
      "\u001b[0m"
     ]
    }
   ],
   "source": [
    "!pip install category_encoders"
   ]
  },
  {
   "cell_type": "code",
   "execution_count": 18,
   "id": "6e4df76d",
   "metadata": {
    "execution": {
     "iopub.execute_input": "2022-09-06T00:45:59.155851Z",
     "iopub.status.busy": "2022-09-06T00:45:59.155551Z",
     "iopub.status.idle": "2022-09-06T00:46:00.398378Z",
     "shell.execute_reply": "2022-09-06T00:46:00.397357Z"
    },
    "papermill": {
     "duration": 1.290802,
     "end_time": "2022-09-06T00:46:00.400976",
     "exception": false,
     "start_time": "2022-09-06T00:45:59.110174",
     "status": "completed"
    },
    "tags": []
   },
   "outputs": [],
   "source": [
    "import category_encoders as ce"
   ]
  },
  {
   "cell_type": "code",
   "execution_count": 19,
   "id": "cd9be2d2",
   "metadata": {
    "execution": {
     "iopub.execute_input": "2022-09-06T00:46:00.488673Z",
     "iopub.status.busy": "2022-09-06T00:46:00.488211Z",
     "iopub.status.idle": "2022-09-06T00:46:00.687306Z",
     "shell.execute_reply": "2022-09-06T00:46:00.686273Z"
    },
    "papermill": {
     "duration": 0.245916,
     "end_time": "2022-09-06T00:46:00.689934",
     "exception": false,
     "start_time": "2022-09-06T00:46:00.444018",
     "status": "completed"
    },
    "tags": []
   },
   "outputs": [],
   "source": [
    "encoder1 = ce.BaseNEncoder(cols=['Agency','Posting_Type','Civil_Service_Title','Level','Job_Category',\n",
    "                                'Full_Time_Part_Time_indicator','Salary_Frequency','Work_Location',\n",
    "                                'Division_Work_Unit','Preferred_Skills','Residency_Requirement']\n",
    "                          ,return_df=True,base=12)\n",
    "x = encoder1.fit_transform(x)\n",
    "\n",
    "encoder2 = ce.OrdinalEncoder(cols=['Career_Level'],return_df=True,\n",
    "                           mapping=[{'col':'Career_Level',\n",
    "'mapping':{'Student':1,'Entry-Level':2,'Experienced (non-manager)':3,'Manager':4,'Executive':5}}])\n",
    "y = encoder2.fit_transform(y)"
   ]
  },
  {
   "cell_type": "code",
   "execution_count": 20,
   "id": "59c6880c",
   "metadata": {
    "execution": {
     "iopub.execute_input": "2022-09-06T00:46:00.779260Z",
     "iopub.status.busy": "2022-09-06T00:46:00.778786Z",
     "iopub.status.idle": "2022-09-06T00:46:00.799834Z",
     "shell.execute_reply": "2022-09-06T00:46:00.799027Z"
    },
    "papermill": {
     "duration": 0.068001,
     "end_time": "2022-09-06T00:46:00.802104",
     "exception": false,
     "start_time": "2022-09-06T00:46:00.734103",
     "status": "completed"
    },
    "tags": []
   },
   "outputs": [
    {
     "data": {
      "text/html": [
       "<div>\n",
       "<style scoped>\n",
       "    .dataframe tbody tr th:only-of-type {\n",
       "        vertical-align: middle;\n",
       "    }\n",
       "\n",
       "    .dataframe tbody tr th {\n",
       "        vertical-align: top;\n",
       "    }\n",
       "\n",
       "    .dataframe thead th {\n",
       "        text-align: right;\n",
       "    }\n",
       "</style>\n",
       "<table border=\"1\" class=\"dataframe\">\n",
       "  <thead>\n",
       "    <tr style=\"text-align: right;\">\n",
       "      <th></th>\n",
       "      <th>Agency_0</th>\n",
       "      <th>Agency_1</th>\n",
       "      <th>Posting_Type_0</th>\n",
       "      <th>#_Of_Positions</th>\n",
       "      <th>Civil_Service_Title_0</th>\n",
       "      <th>Civil_Service_Title_1</th>\n",
       "      <th>Civil_Service_Title_2</th>\n",
       "      <th>Level_0</th>\n",
       "      <th>Level_1</th>\n",
       "      <th>Job_Category_0</th>\n",
       "      <th>...</th>\n",
       "      <th>Work_Location_1</th>\n",
       "      <th>Work_Location_2</th>\n",
       "      <th>Division_Work_Unit_0</th>\n",
       "      <th>Division_Work_Unit_1</th>\n",
       "      <th>Division_Work_Unit_2</th>\n",
       "      <th>Preferred_Skills_0</th>\n",
       "      <th>Preferred_Skills_1</th>\n",
       "      <th>Preferred_Skills_2</th>\n",
       "      <th>Residency_Requirement_0</th>\n",
       "      <th>Residency_Requirement_1</th>\n",
       "    </tr>\n",
       "  </thead>\n",
       "  <tbody>\n",
       "    <tr>\n",
       "      <th>1</th>\n",
       "      <td>0</td>\n",
       "      <td>1</td>\n",
       "      <td>1</td>\n",
       "      <td>1</td>\n",
       "      <td>0</td>\n",
       "      <td>0</td>\n",
       "      <td>1</td>\n",
       "      <td>0</td>\n",
       "      <td>1</td>\n",
       "      <td>0</td>\n",
       "      <td>...</td>\n",
       "      <td>0</td>\n",
       "      <td>1</td>\n",
       "      <td>0</td>\n",
       "      <td>0</td>\n",
       "      <td>1</td>\n",
       "      <td>0</td>\n",
       "      <td>0</td>\n",
       "      <td>1</td>\n",
       "      <td>0</td>\n",
       "      <td>1</td>\n",
       "    </tr>\n",
       "    <tr>\n",
       "      <th>2</th>\n",
       "      <td>0</td>\n",
       "      <td>2</td>\n",
       "      <td>1</td>\n",
       "      <td>1</td>\n",
       "      <td>0</td>\n",
       "      <td>0</td>\n",
       "      <td>2</td>\n",
       "      <td>0</td>\n",
       "      <td>2</td>\n",
       "      <td>0</td>\n",
       "      <td>...</td>\n",
       "      <td>0</td>\n",
       "      <td>2</td>\n",
       "      <td>0</td>\n",
       "      <td>0</td>\n",
       "      <td>2</td>\n",
       "      <td>0</td>\n",
       "      <td>0</td>\n",
       "      <td>2</td>\n",
       "      <td>0</td>\n",
       "      <td>2</td>\n",
       "    </tr>\n",
       "    <tr>\n",
       "      <th>3</th>\n",
       "      <td>0</td>\n",
       "      <td>1</td>\n",
       "      <td>1</td>\n",
       "      <td>1</td>\n",
       "      <td>0</td>\n",
       "      <td>0</td>\n",
       "      <td>3</td>\n",
       "      <td>0</td>\n",
       "      <td>3</td>\n",
       "      <td>0</td>\n",
       "      <td>...</td>\n",
       "      <td>0</td>\n",
       "      <td>1</td>\n",
       "      <td>0</td>\n",
       "      <td>0</td>\n",
       "      <td>1</td>\n",
       "      <td>0</td>\n",
       "      <td>0</td>\n",
       "      <td>3</td>\n",
       "      <td>0</td>\n",
       "      <td>1</td>\n",
       "    </tr>\n",
       "    <tr>\n",
       "      <th>4</th>\n",
       "      <td>0</td>\n",
       "      <td>3</td>\n",
       "      <td>1</td>\n",
       "      <td>5</td>\n",
       "      <td>0</td>\n",
       "      <td>0</td>\n",
       "      <td>4</td>\n",
       "      <td>0</td>\n",
       "      <td>4</td>\n",
       "      <td>0</td>\n",
       "      <td>...</td>\n",
       "      <td>0</td>\n",
       "      <td>3</td>\n",
       "      <td>0</td>\n",
       "      <td>0</td>\n",
       "      <td>3</td>\n",
       "      <td>0</td>\n",
       "      <td>0</td>\n",
       "      <td>4</td>\n",
       "      <td>0</td>\n",
       "      <td>3</td>\n",
       "    </tr>\n",
       "    <tr>\n",
       "      <th>5</th>\n",
       "      <td>0</td>\n",
       "      <td>4</td>\n",
       "      <td>2</td>\n",
       "      <td>1</td>\n",
       "      <td>0</td>\n",
       "      <td>0</td>\n",
       "      <td>5</td>\n",
       "      <td>0</td>\n",
       "      <td>5</td>\n",
       "      <td>0</td>\n",
       "      <td>...</td>\n",
       "      <td>0</td>\n",
       "      <td>4</td>\n",
       "      <td>0</td>\n",
       "      <td>0</td>\n",
       "      <td>4</td>\n",
       "      <td>0</td>\n",
       "      <td>0</td>\n",
       "      <td>5</td>\n",
       "      <td>0</td>\n",
       "      <td>4</td>\n",
       "    </tr>\n",
       "    <tr>\n",
       "      <th>...</th>\n",
       "      <td>...</td>\n",
       "      <td>...</td>\n",
       "      <td>...</td>\n",
       "      <td>...</td>\n",
       "      <td>...</td>\n",
       "      <td>...</td>\n",
       "      <td>...</td>\n",
       "      <td>...</td>\n",
       "      <td>...</td>\n",
       "      <td>...</td>\n",
       "      <td>...</td>\n",
       "      <td>...</td>\n",
       "      <td>...</td>\n",
       "      <td>...</td>\n",
       "      <td>...</td>\n",
       "      <td>...</td>\n",
       "      <td>...</td>\n",
       "      <td>...</td>\n",
       "      <td>...</td>\n",
       "      <td>...</td>\n",
       "      <td>...</td>\n",
       "    </tr>\n",
       "    <tr>\n",
       "      <th>3767</th>\n",
       "      <td>1</td>\n",
       "      <td>0</td>\n",
       "      <td>2</td>\n",
       "      <td>1</td>\n",
       "      <td>0</td>\n",
       "      <td>1</td>\n",
       "      <td>4</td>\n",
       "      <td>0</td>\n",
       "      <td>4</td>\n",
       "      <td>1</td>\n",
       "      <td>...</td>\n",
       "      <td>1</td>\n",
       "      <td>1</td>\n",
       "      <td>0</td>\n",
       "      <td>3</td>\n",
       "      <td>0</td>\n",
       "      <td>0</td>\n",
       "      <td>3</td>\n",
       "      <td>2</td>\n",
       "      <td>0</td>\n",
       "      <td>3</td>\n",
       "    </tr>\n",
       "    <tr>\n",
       "      <th>3769</th>\n",
       "      <td>0</td>\n",
       "      <td>7</td>\n",
       "      <td>2</td>\n",
       "      <td>1</td>\n",
       "      <td>0</td>\n",
       "      <td>0</td>\n",
       "      <td>8</td>\n",
       "      <td>0</td>\n",
       "      <td>5</td>\n",
       "      <td>0</td>\n",
       "      <td>...</td>\n",
       "      <td>0</td>\n",
       "      <td>7</td>\n",
       "      <td>2</td>\n",
       "      <td>3</td>\n",
       "      <td>1</td>\n",
       "      <td>3</td>\n",
       "      <td>3</td>\n",
       "      <td>1</td>\n",
       "      <td>0</td>\n",
       "      <td>3</td>\n",
       "    </tr>\n",
       "    <tr>\n",
       "      <th>3770</th>\n",
       "      <td>3</td>\n",
       "      <td>0</td>\n",
       "      <td>2</td>\n",
       "      <td>1</td>\n",
       "      <td>0</td>\n",
       "      <td>6</td>\n",
       "      <td>11</td>\n",
       "      <td>0</td>\n",
       "      <td>5</td>\n",
       "      <td>0</td>\n",
       "      <td>...</td>\n",
       "      <td>4</td>\n",
       "      <td>4</td>\n",
       "      <td>4</td>\n",
       "      <td>3</td>\n",
       "      <td>5</td>\n",
       "      <td>7</td>\n",
       "      <td>11</td>\n",
       "      <td>7</td>\n",
       "      <td>0</td>\n",
       "      <td>7</td>\n",
       "    </tr>\n",
       "    <tr>\n",
       "      <th>3771</th>\n",
       "      <td>1</td>\n",
       "      <td>7</td>\n",
       "      <td>2</td>\n",
       "      <td>2</td>\n",
       "      <td>0</td>\n",
       "      <td>2</td>\n",
       "      <td>8</td>\n",
       "      <td>0</td>\n",
       "      <td>4</td>\n",
       "      <td>0</td>\n",
       "      <td>...</td>\n",
       "      <td>4</td>\n",
       "      <td>6</td>\n",
       "      <td>4</td>\n",
       "      <td>2</td>\n",
       "      <td>11</td>\n",
       "      <td>7</td>\n",
       "      <td>10</td>\n",
       "      <td>3</td>\n",
       "      <td>0</td>\n",
       "      <td>3</td>\n",
       "    </tr>\n",
       "    <tr>\n",
       "      <th>3772</th>\n",
       "      <td>0</td>\n",
       "      <td>3</td>\n",
       "      <td>1</td>\n",
       "      <td>1</td>\n",
       "      <td>0</td>\n",
       "      <td>1</td>\n",
       "      <td>10</td>\n",
       "      <td>0</td>\n",
       "      <td>5</td>\n",
       "      <td>0</td>\n",
       "      <td>...</td>\n",
       "      <td>0</td>\n",
       "      <td>3</td>\n",
       "      <td>0</td>\n",
       "      <td>2</td>\n",
       "      <td>0</td>\n",
       "      <td>0</td>\n",
       "      <td>2</td>\n",
       "      <td>1</td>\n",
       "      <td>0</td>\n",
       "      <td>3</td>\n",
       "    </tr>\n",
       "  </tbody>\n",
       "</table>\n",
       "<p>3231 rows × 26 columns</p>\n",
       "</div>"
      ],
      "text/plain": [
       "      Agency_0  Agency_1  Posting_Type_0  #_Of_Positions  \\\n",
       "1            0         1               1               1   \n",
       "2            0         2               1               1   \n",
       "3            0         1               1               1   \n",
       "4            0         3               1               5   \n",
       "5            0         4               2               1   \n",
       "...        ...       ...             ...             ...   \n",
       "3767         1         0               2               1   \n",
       "3769         0         7               2               1   \n",
       "3770         3         0               2               1   \n",
       "3771         1         7               2               2   \n",
       "3772         0         3               1               1   \n",
       "\n",
       "      Civil_Service_Title_0  Civil_Service_Title_1  Civil_Service_Title_2  \\\n",
       "1                         0                      0                      1   \n",
       "2                         0                      0                      2   \n",
       "3                         0                      0                      3   \n",
       "4                         0                      0                      4   \n",
       "5                         0                      0                      5   \n",
       "...                     ...                    ...                    ...   \n",
       "3767                      0                      1                      4   \n",
       "3769                      0                      0                      8   \n",
       "3770                      0                      6                     11   \n",
       "3771                      0                      2                      8   \n",
       "3772                      0                      1                     10   \n",
       "\n",
       "      Level_0  Level_1  Job_Category_0  ...  Work_Location_1  Work_Location_2  \\\n",
       "1           0        1               0  ...                0                1   \n",
       "2           0        2               0  ...                0                2   \n",
       "3           0        3               0  ...                0                1   \n",
       "4           0        4               0  ...                0                3   \n",
       "5           0        5               0  ...                0                4   \n",
       "...       ...      ...             ...  ...              ...              ...   \n",
       "3767        0        4               1  ...                1                1   \n",
       "3769        0        5               0  ...                0                7   \n",
       "3770        0        5               0  ...                4                4   \n",
       "3771        0        4               0  ...                4                6   \n",
       "3772        0        5               0  ...                0                3   \n",
       "\n",
       "      Division_Work_Unit_0  Division_Work_Unit_1  Division_Work_Unit_2  \\\n",
       "1                        0                     0                     1   \n",
       "2                        0                     0                     2   \n",
       "3                        0                     0                     1   \n",
       "4                        0                     0                     3   \n",
       "5                        0                     0                     4   \n",
       "...                    ...                   ...                   ...   \n",
       "3767                     0                     3                     0   \n",
       "3769                     2                     3                     1   \n",
       "3770                     4                     3                     5   \n",
       "3771                     4                     2                    11   \n",
       "3772                     0                     2                     0   \n",
       "\n",
       "      Preferred_Skills_0  Preferred_Skills_1  Preferred_Skills_2  \\\n",
       "1                      0                   0                   1   \n",
       "2                      0                   0                   2   \n",
       "3                      0                   0                   3   \n",
       "4                      0                   0                   4   \n",
       "5                      0                   0                   5   \n",
       "...                  ...                 ...                 ...   \n",
       "3767                   0                   3                   2   \n",
       "3769                   3                   3                   1   \n",
       "3770                   7                  11                   7   \n",
       "3771                   7                  10                   3   \n",
       "3772                   0                   2                   1   \n",
       "\n",
       "      Residency_Requirement_0  Residency_Requirement_1  \n",
       "1                           0                        1  \n",
       "2                           0                        2  \n",
       "3                           0                        1  \n",
       "4                           0                        3  \n",
       "5                           0                        4  \n",
       "...                       ...                      ...  \n",
       "3767                        0                        3  \n",
       "3769                        0                        3  \n",
       "3770                        0                        7  \n",
       "3771                        0                        3  \n",
       "3772                        0                        3  \n",
       "\n",
       "[3231 rows x 26 columns]"
      ]
     },
     "execution_count": 20,
     "metadata": {},
     "output_type": "execute_result"
    }
   ],
   "source": [
    "x"
   ]
  },
  {
   "cell_type": "code",
   "execution_count": 21,
   "id": "3e34d52e",
   "metadata": {
    "execution": {
     "iopub.execute_input": "2022-09-06T00:46:00.893085Z",
     "iopub.status.busy": "2022-09-06T00:46:00.892607Z",
     "iopub.status.idle": "2022-09-06T00:46:00.897590Z",
     "shell.execute_reply": "2022-09-06T00:46:00.897010Z"
    },
    "papermill": {
     "duration": 0.05311,
     "end_time": "2022-09-06T00:46:00.899556",
     "exception": false,
     "start_time": "2022-09-06T00:46:00.846446",
     "status": "completed"
    },
    "tags": []
   },
   "outputs": [],
   "source": [
    "y.Career_Level = y.Career_Level.astype('int64')\n",
    "y = y.squeeze()"
   ]
  },
  {
   "cell_type": "code",
   "execution_count": 22,
   "id": "7f0227e2",
   "metadata": {
    "execution": {
     "iopub.execute_input": "2022-09-06T00:46:00.990744Z",
     "iopub.status.busy": "2022-09-06T00:46:00.990291Z",
     "iopub.status.idle": "2022-09-06T00:46:00.997224Z",
     "shell.execute_reply": "2022-09-06T00:46:00.996304Z"
    },
    "papermill": {
     "duration": 0.055247,
     "end_time": "2022-09-06T00:46:00.999232",
     "exception": false,
     "start_time": "2022-09-06T00:46:00.943985",
     "status": "completed"
    },
    "tags": []
   },
   "outputs": [
    {
     "data": {
      "text/plain": [
       "1       3\n",
       "2       4\n",
       "3       3\n",
       "4       3\n",
       "5       1\n",
       "       ..\n",
       "3767    1\n",
       "3769    3\n",
       "3770    3\n",
       "3771    3\n",
       "3772    2\n",
       "Name: Career_Level, Length: 3231, dtype: int64"
      ]
     },
     "execution_count": 22,
     "metadata": {},
     "output_type": "execute_result"
    }
   ],
   "source": [
    "y"
   ]
  },
  {
   "cell_type": "code",
   "execution_count": 23,
   "id": "fb154504",
   "metadata": {
    "execution": {
     "iopub.execute_input": "2022-09-06T00:46:01.090363Z",
     "iopub.status.busy": "2022-09-06T00:46:01.089427Z",
     "iopub.status.idle": "2022-09-06T00:46:01.179761Z",
     "shell.execute_reply": "2022-09-06T00:46:01.178820Z"
    },
    "papermill": {
     "duration": 0.138608,
     "end_time": "2022-09-06T00:46:01.182284",
     "exception": false,
     "start_time": "2022-09-06T00:46:01.043676",
     "status": "completed"
    },
    "tags": []
   },
   "outputs": [],
   "source": [
    "from sklearn.model_selection import train_test_split"
   ]
  },
  {
   "cell_type": "code",
   "execution_count": 24,
   "id": "83c2a9a6",
   "metadata": {
    "execution": {
     "iopub.execute_input": "2022-09-06T00:46:01.273081Z",
     "iopub.status.busy": "2022-09-06T00:46:01.272638Z",
     "iopub.status.idle": "2022-09-06T00:46:01.280360Z",
     "shell.execute_reply": "2022-09-06T00:46:01.279487Z"
    },
    "papermill": {
     "duration": 0.055068,
     "end_time": "2022-09-06T00:46:01.282557",
     "exception": false,
     "start_time": "2022-09-06T00:46:01.227489",
     "status": "completed"
    },
    "tags": []
   },
   "outputs": [],
   "source": [
    "train_x, valid_x, train_y, valid_y = train_test_split(x, y, test_size=0.4, random_state=1)"
   ]
  },
  {
   "cell_type": "markdown",
   "id": "7522c3f0",
   "metadata": {
    "papermill": {
     "duration": 0.043828,
     "end_time": "2022-09-06T00:46:01.370689",
     "exception": false,
     "start_time": "2022-09-06T00:46:01.326861",
     "status": "completed"
    },
    "tags": []
   },
   "source": [
    "Logistic Regression for classification."
   ]
  },
  {
   "cell_type": "code",
   "execution_count": 25,
   "id": "20b4c8c5",
   "metadata": {
    "execution": {
     "iopub.execute_input": "2022-09-06T00:46:01.461462Z",
     "iopub.status.busy": "2022-09-06T00:46:01.460681Z",
     "iopub.status.idle": "2022-09-06T00:46:15.053347Z",
     "shell.execute_reply": "2022-09-06T00:46:15.051808Z"
    },
    "papermill": {
     "duration": 13.640523,
     "end_time": "2022-09-06T00:46:15.056024",
     "exception": false,
     "start_time": "2022-09-06T00:46:01.415501",
     "status": "completed"
    },
    "tags": []
   },
   "outputs": [
    {
     "name": "stdout",
     "output_type": "stream",
     "text": [
      "Collecting mord\r\n",
      "  Downloading mord-0.6.tar.gz (4.7 kB)\r\n",
      "  Preparing metadata (setup.py) ... \u001b[?25l-\b \bdone\r\n",
      "\u001b[?25hBuilding wheels for collected packages: mord\r\n",
      "  Building wheel for mord (setup.py) ... \u001b[?25l-\b \b\\\b \bdone\r\n",
      "\u001b[?25h  Created wheel for mord: filename=mord-0.6-py3-none-any.whl size=6006 sha256=e4781b1ee7c66b994da4cbc603edf625549e30b3e6250eb800366bd8e0120b88\r\n",
      "  Stored in directory: /root/.cache/pip/wheels/80/1d/8a/bef1a01b6a3c91494905d161d5426c181819f9730a773141eb\r\n",
      "Successfully built mord\r\n",
      "Installing collected packages: mord\r\n",
      "Successfully installed mord-0.6\r\n",
      "\u001b[33mWARNING: Running pip as the 'root' user can result in broken permissions and conflicting behaviour with the system package manager. It is recommended to use a virtual environment instead: https://pip.pypa.io/warnings/venv\u001b[0m\u001b[33m\r\n",
      "\u001b[0m"
     ]
    }
   ],
   "source": [
    "!pip install mord"
   ]
  },
  {
   "cell_type": "code",
   "execution_count": 26,
   "id": "352bb706",
   "metadata": {
    "execution": {
     "iopub.execute_input": "2022-09-06T00:46:15.159488Z",
     "iopub.status.busy": "2022-09-06T00:46:15.158558Z",
     "iopub.status.idle": "2022-09-06T00:46:15.253354Z",
     "shell.execute_reply": "2022-09-06T00:46:15.252264Z"
    },
    "papermill": {
     "duration": 0.149483,
     "end_time": "2022-09-06T00:46:15.256868",
     "exception": false,
     "start_time": "2022-09-06T00:46:15.107385",
     "status": "completed"
    },
    "tags": []
   },
   "outputs": [],
   "source": [
    "from mord import LogisticIT"
   ]
  },
  {
   "cell_type": "code",
   "execution_count": 27,
   "id": "fed7f675",
   "metadata": {
    "execution": {
     "iopub.execute_input": "2022-09-06T00:46:15.383600Z",
     "iopub.status.busy": "2022-09-06T00:46:15.382787Z",
     "iopub.status.idle": "2022-09-06T00:46:17.970151Z",
     "shell.execute_reply": "2022-09-06T00:46:17.969009Z"
    },
    "papermill": {
     "duration": 2.648867,
     "end_time": "2022-09-06T00:46:17.974215",
     "exception": false,
     "start_time": "2022-09-06T00:46:15.325348",
     "status": "completed"
    },
    "tags": []
   },
   "outputs": [
    {
     "name": "stdout",
     "output_type": "stream",
     "text": [
      "Intercept:  [0.334 1.278 5.88  8.75 ]\n",
      "\n",
      "Coefficient:  [-0.086  0.035 -0.448  0.012  0.451  0.047 -0.026  0.1    0.088 -0.001\n",
      "  0.071 -0.434  0.     0.    -0.521  0.061  0.04   0.021  0.209 -0.04\n",
      "  0.071 -0.047  0.015  0.008 -0.387  0.016]\n"
     ]
    }
   ],
   "source": [
    "logit_ord = LogisticIT(alpha=0)\n",
    "logit_ord.fit(train_x,train_y)\n",
    "\n",
    "print('Intercept: ',np.round(logit_ord.theta_, 3))\n",
    "print()\n",
    "print('Coefficient: ',np.round(logit_ord.coef_, 3))"
   ]
  },
  {
   "cell_type": "code",
   "execution_count": 28,
   "id": "3bc140a1",
   "metadata": {
    "execution": {
     "iopub.execute_input": "2022-09-06T00:46:18.140764Z",
     "iopub.status.busy": "2022-09-06T00:46:18.140206Z",
     "iopub.status.idle": "2022-09-06T00:46:18.231351Z",
     "shell.execute_reply": "2022-09-06T00:46:18.230071Z"
    },
    "papermill": {
     "duration": 0.145339,
     "end_time": "2022-09-06T00:46:18.234760",
     "exception": false,
     "start_time": "2022-09-06T00:46:18.089421",
     "status": "completed"
    },
    "tags": []
   },
   "outputs": [
    {
     "data": {
      "text/html": [
       "<div>\n",
       "<style scoped>\n",
       "    .dataframe tbody tr th:only-of-type {\n",
       "        vertical-align: middle;\n",
       "    }\n",
       "\n",
       "    .dataframe tbody tr th {\n",
       "        vertical-align: top;\n",
       "    }\n",
       "\n",
       "    .dataframe thead th {\n",
       "        text-align: right;\n",
       "    }\n",
       "</style>\n",
       "<table border=\"1\" class=\"dataframe\">\n",
       "  <thead>\n",
       "    <tr style=\"text-align: right;\">\n",
       "      <th></th>\n",
       "      <th>Actual</th>\n",
       "      <th>Classification</th>\n",
       "      <th>P(1)</th>\n",
       "      <th>P(2)</th>\n",
       "      <th>P(3)</th>\n",
       "      <th>P(4)</th>\n",
       "      <th>P(5)</th>\n",
       "    </tr>\n",
       "  </thead>\n",
       "  <tbody>\n",
       "    <tr>\n",
       "      <th>1910</th>\n",
       "      <td>3</td>\n",
       "      <td>3</td>\n",
       "      <td>0.0634</td>\n",
       "      <td>0.0848</td>\n",
       "      <td>0.7973</td>\n",
       "      <td>0.0512</td>\n",
       "      <td>0.0033</td>\n",
       "    </tr>\n",
       "    <tr>\n",
       "      <th>2020</th>\n",
       "      <td>3</td>\n",
       "      <td>3</td>\n",
       "      <td>0.0876</td>\n",
       "      <td>0.1104</td>\n",
       "      <td>0.7629</td>\n",
       "      <td>0.0367</td>\n",
       "      <td>0.0023</td>\n",
       "    </tr>\n",
       "    <tr>\n",
       "      <th>3394</th>\n",
       "      <td>1</td>\n",
       "      <td>1</td>\n",
       "      <td>0.7911</td>\n",
       "      <td>0.1158</td>\n",
       "      <td>0.0921</td>\n",
       "      <td>0.0010</td>\n",
       "      <td>0.0001</td>\n",
       "    </tr>\n",
       "    <tr>\n",
       "      <th>2456</th>\n",
       "      <td>3</td>\n",
       "      <td>4</td>\n",
       "      <td>0.0029</td>\n",
       "      <td>0.0045</td>\n",
       "      <td>0.4207</td>\n",
       "      <td>0.5014</td>\n",
       "      <td>0.0704</td>\n",
       "    </tr>\n",
       "    <tr>\n",
       "      <th>2793</th>\n",
       "      <td>2</td>\n",
       "      <td>3</td>\n",
       "      <td>0.0608</td>\n",
       "      <td>0.0819</td>\n",
       "      <td>0.8004</td>\n",
       "      <td>0.0534</td>\n",
       "      <td>0.0034</td>\n",
       "    </tr>\n",
       "    <tr>\n",
       "      <th>...</th>\n",
       "      <td>...</td>\n",
       "      <td>...</td>\n",
       "      <td>...</td>\n",
       "      <td>...</td>\n",
       "      <td>...</td>\n",
       "      <td>...</td>\n",
       "      <td>...</td>\n",
       "    </tr>\n",
       "    <tr>\n",
       "      <th>2</th>\n",
       "      <td>4</td>\n",
       "      <td>3</td>\n",
       "      <td>0.0103</td>\n",
       "      <td>0.0157</td>\n",
       "      <td>0.7008</td>\n",
       "      <td>0.2524</td>\n",
       "      <td>0.0209</td>\n",
       "    </tr>\n",
       "    <tr>\n",
       "      <th>763</th>\n",
       "      <td>2</td>\n",
       "      <td>3</td>\n",
       "      <td>0.0965</td>\n",
       "      <td>0.1190</td>\n",
       "      <td>0.7493</td>\n",
       "      <td>0.0332</td>\n",
       "      <td>0.0021</td>\n",
       "    </tr>\n",
       "    <tr>\n",
       "      <th>447</th>\n",
       "      <td>3</td>\n",
       "      <td>3</td>\n",
       "      <td>0.0795</td>\n",
       "      <td>0.1022</td>\n",
       "      <td>0.7751</td>\n",
       "      <td>0.0407</td>\n",
       "      <td>0.0026</td>\n",
       "    </tr>\n",
       "    <tr>\n",
       "      <th>1918</th>\n",
       "      <td>3</td>\n",
       "      <td>3</td>\n",
       "      <td>0.0274</td>\n",
       "      <td>0.0401</td>\n",
       "      <td>0.8108</td>\n",
       "      <td>0.1140</td>\n",
       "      <td>0.0078</td>\n",
       "    </tr>\n",
       "    <tr>\n",
       "      <th>3133</th>\n",
       "      <td>3</td>\n",
       "      <td>3</td>\n",
       "      <td>0.0354</td>\n",
       "      <td>0.0509</td>\n",
       "      <td>0.8177</td>\n",
       "      <td>0.0900</td>\n",
       "      <td>0.0060</td>\n",
       "    </tr>\n",
       "  </tbody>\n",
       "</table>\n",
       "<p>1293 rows × 7 columns</p>\n",
       "</div>"
      ],
      "text/plain": [
       "      Actual  Classification    P(1)    P(2)    P(3)    P(4)    P(5)\n",
       "1910       3               3  0.0634  0.0848  0.7973  0.0512  0.0033\n",
       "2020       3               3  0.0876  0.1104  0.7629  0.0367  0.0023\n",
       "3394       1               1  0.7911  0.1158  0.0921  0.0010  0.0001\n",
       "2456       3               4  0.0029  0.0045  0.4207  0.5014  0.0704\n",
       "2793       2               3  0.0608  0.0819  0.8004  0.0534  0.0034\n",
       "...      ...             ...     ...     ...     ...     ...     ...\n",
       "2          4               3  0.0103  0.0157  0.7008  0.2524  0.0209\n",
       "763        2               3  0.0965  0.1190  0.7493  0.0332  0.0021\n",
       "447        3               3  0.0795  0.1022  0.7751  0.0407  0.0026\n",
       "1918       3               3  0.0274  0.0401  0.8108  0.1140  0.0078\n",
       "3133       3               3  0.0354  0.0509  0.8177  0.0900  0.0060\n",
       "\n",
       "[1293 rows x 7 columns]"
      ]
     },
     "execution_count": 28,
     "metadata": {},
     "output_type": "execute_result"
    }
   ],
   "source": [
    "pred_cl = logit_ord.predict(valid_x)\n",
    "pred_cl_proba = np.round(logit_ord.predict_proba(valid_x), 4)\n",
    "\n",
    "logistic_result = pd.DataFrame({\n",
    "    'Actual': valid_y,\n",
    "    'Classification': pred_cl,\n",
    "    'P(1)': [P[0] for P in pred_cl_proba],\n",
    "    'P(2)': [P[1] for P in pred_cl_proba],\n",
    "    'P(3)': [P[2] for P in pred_cl_proba],\n",
    "    'P(4)': [P[3] for P in pred_cl_proba],\n",
    "    'P(5)': [P[4] for P in pred_cl_proba]\n",
    "})\n",
    "\n",
    "logistic_result"
   ]
  },
  {
   "cell_type": "code",
   "execution_count": 29,
   "id": "c1d3e057",
   "metadata": {
    "execution": {
     "iopub.execute_input": "2022-09-06T00:46:18.365770Z",
     "iopub.status.busy": "2022-09-06T00:46:18.365053Z",
     "iopub.status.idle": "2022-09-06T00:46:32.114257Z",
     "shell.execute_reply": "2022-09-06T00:46:32.113177Z"
    },
    "papermill": {
     "duration": 13.801339,
     "end_time": "2022-09-06T00:46:32.116801",
     "exception": false,
     "start_time": "2022-09-06T00:46:18.315462",
     "status": "completed"
    },
    "tags": []
   },
   "outputs": [
    {
     "name": "stdout",
     "output_type": "stream",
     "text": [
      "Collecting dmba\r\n",
      "  Downloading dmba-0.1.0-py3-none-any.whl (11.8 MB)\r\n",
      "\u001b[2K     \u001b[90m━━━━━━━━━━━━━━━━━━━━━━━━━━━━━━━━━━━━━━━━\u001b[0m \u001b[32m11.8/11.8 MB\u001b[0m \u001b[31m11.7 MB/s\u001b[0m eta \u001b[36m0:00:00\u001b[0m\r\n",
      "\u001b[?25hInstalling collected packages: dmba\r\n",
      "Successfully installed dmba-0.1.0\r\n",
      "\u001b[33mWARNING: Running pip as the 'root' user can result in broken permissions and conflicting behaviour with the system package manager. It is recommended to use a virtual environment instead: https://pip.pypa.io/warnings/venv\u001b[0m\u001b[33m\r\n",
      "\u001b[0m"
     ]
    }
   ],
   "source": [
    "!pip install dmba"
   ]
  },
  {
   "cell_type": "code",
   "execution_count": 30,
   "id": "0f74d8e5",
   "metadata": {
    "execution": {
     "iopub.execute_input": "2022-09-06T00:46:32.247770Z",
     "iopub.status.busy": "2022-09-06T00:46:32.247449Z",
     "iopub.status.idle": "2022-09-06T00:46:32.341577Z",
     "shell.execute_reply": "2022-09-06T00:46:32.340679Z"
    },
    "papermill": {
     "duration": 0.162614,
     "end_time": "2022-09-06T00:46:32.344047",
     "exception": false,
     "start_time": "2022-09-06T00:46:32.181433",
     "status": "completed"
    },
    "tags": []
   },
   "outputs": [
    {
     "name": "stdout",
     "output_type": "stream",
     "text": [
      "no display found. Using non-interactive Agg backend\n"
     ]
    }
   ],
   "source": [
    "from dmba import classificationSummary"
   ]
  },
  {
   "cell_type": "code",
   "execution_count": 31,
   "id": "63c26078",
   "metadata": {
    "execution": {
     "iopub.execute_input": "2022-09-06T00:46:32.475058Z",
     "iopub.status.busy": "2022-09-06T00:46:32.474474Z",
     "iopub.status.idle": "2022-09-06T00:46:32.508670Z",
     "shell.execute_reply": "2022-09-06T00:46:32.507534Z"
    },
    "papermill": {
     "duration": 0.106916,
     "end_time": "2022-09-06T00:46:32.515830",
     "exception": false,
     "start_time": "2022-09-06T00:46:32.408914",
     "status": "completed"
    },
    "tags": []
   },
   "outputs": [
    {
     "name": "stdout",
     "output_type": "stream",
     "text": [
      "Training Pratition\n",
      "Confusion Matrix (Accuracy 0.7564)\n",
      "\n",
      "       Prediction\n",
      "Actual    0    1    2    3    4\n",
      "     0  215    2    0    0    0\n",
      "     1   32   14  152    0    0\n",
      "     2   51   17 1078   47    1\n",
      "     3    0    0  132  138    7\n",
      "     4    0    0    8   23   21\n",
      "\n",
      "Valid Pratition\n",
      "Confusion Matrix (Accuracy 0.7510)\n",
      "\n",
      "       Prediction\n",
      "Actual   0   1   2   3   4\n",
      "     0 140   1   0   0   0\n",
      "     1  25  10 110   0   0\n",
      "     2  15  17 732  38   1\n",
      "     3   0   0  94  78   5\n",
      "     4   0   0   5  11  11\n"
     ]
    }
   ],
   "source": [
    "print('Training Pratition')\n",
    "classificationSummary(train_y,logit_ord.predict(train_x))\n",
    "print()\n",
    "print('Valid Pratition')\n",
    "classificationSummary(valid_y,logit_ord.predict(valid_x))"
   ]
  },
  {
   "cell_type": "markdown",
   "id": "924ccfca",
   "metadata": {
    "papermill": {
     "duration": 0.064887,
     "end_time": "2022-09-06T00:46:32.709214",
     "exception": false,
     "start_time": "2022-09-06T00:46:32.644327",
     "status": "completed"
    },
    "tags": []
   },
   "source": [
    "Neural Network for classification."
   ]
  },
  {
   "cell_type": "code",
   "execution_count": 32,
   "id": "1345e329",
   "metadata": {
    "execution": {
     "iopub.execute_input": "2022-09-06T00:46:32.850543Z",
     "iopub.status.busy": "2022-09-06T00:46:32.850253Z",
     "iopub.status.idle": "2022-09-06T00:46:32.862366Z",
     "shell.execute_reply": "2022-09-06T00:46:32.861431Z"
    },
    "papermill": {
     "duration": 0.083694,
     "end_time": "2022-09-06T00:46:32.864788",
     "exception": false,
     "start_time": "2022-09-06T00:46:32.781094",
     "status": "completed"
    },
    "tags": []
   },
   "outputs": [],
   "source": [
    "from sklearn.neural_network import MLPClassifier\n",
    "from sklearn.model_selection import cross_val_score, GridSearchCV\n",
    "from sklearn.preprocessing import StandardScaler"
   ]
  },
  {
   "cell_type": "code",
   "execution_count": 33,
   "id": "9436f605",
   "metadata": {
    "execution": {
     "iopub.execute_input": "2022-09-06T00:46:32.996411Z",
     "iopub.status.busy": "2022-09-06T00:46:32.995787Z",
     "iopub.status.idle": "2022-09-06T00:46:33.010328Z",
     "shell.execute_reply": "2022-09-06T00:46:33.009479Z"
    },
    "papermill": {
     "duration": 0.082651,
     "end_time": "2022-09-06T00:46:33.012541",
     "exception": false,
     "start_time": "2022-09-06T00:46:32.929890",
     "status": "completed"
    },
    "tags": []
   },
   "outputs": [],
   "source": [
    "scaler = StandardScaler()\n",
    "scaler.fit(train_x)\n",
    "\n",
    "train_x_norm = scaler.transform(train_x)\n",
    "valid_x_norm = scaler.transform(valid_x)"
   ]
  },
  {
   "cell_type": "code",
   "execution_count": 34,
   "id": "57ec4399",
   "metadata": {
    "execution": {
     "iopub.execute_input": "2022-09-06T00:46:33.148480Z",
     "iopub.status.busy": "2022-09-06T00:46:33.147889Z",
     "iopub.status.idle": "2022-09-06T00:47:53.198310Z",
     "shell.execute_reply": "2022-09-06T00:47:53.197032Z"
    },
    "papermill": {
     "duration": 80.284705,
     "end_time": "2022-09-06T00:47:53.361882",
     "exception": false,
     "start_time": "2022-09-06T00:46:33.077177",
     "status": "completed"
    },
    "tags": []
   },
   "outputs": [
    {
     "name": "stdout",
     "output_type": "stream",
     "text": [
      "Best score:0.8178\n",
      "Best parameter:  {'hidden_layer_sizes': 18}\n"
     ]
    }
   ],
   "source": [
    "param_grid = {\n",
    "    'hidden_layer_sizes': list(range(2, 20)), \n",
    "}\n",
    "\n",
    "gridSearch = GridSearchCV(MLPClassifier(solver='lbfgs', max_iter=10000, random_state=1), \n",
    "                          param_grid, cv=5, n_jobs=-1, return_train_score=True)\n",
    "gridSearch.fit(train_x_norm, train_y)\n",
    "\n",
    "\n",
    "print(f'Best score:{gridSearch.best_score_:.4f}')\n",
    "print('Best parameter: ', gridSearch.best_params_)"
   ]
  },
  {
   "cell_type": "code",
   "execution_count": 35,
   "id": "75ab0993",
   "metadata": {
    "execution": {
     "iopub.execute_input": "2022-09-06T00:47:53.529928Z",
     "iopub.status.busy": "2022-09-06T00:47:53.529592Z",
     "iopub.status.idle": "2022-09-06T00:48:36.002923Z",
     "shell.execute_reply": "2022-09-06T00:48:36.001579Z"
    },
    "papermill": {
     "duration": 42.681839,
     "end_time": "2022-09-06T00:48:36.134957",
     "exception": false,
     "start_time": "2022-09-06T00:47:53.453118",
     "status": "completed"
    },
    "tags": []
   },
   "outputs": [
    {
     "name": "stdout",
     "output_type": "stream",
     "text": [
      "Model Intercepts\n",
      "[array([ 0.00507978, -0.07163746,  0.27911718,  0.02829587,  0.1485567 ,\n",
      "       -0.0575213 ,  0.18473421, -0.27733254,  0.06192487,  0.15264087,\n",
      "       -0.25341178, -0.09259927, -0.07589828,  0.10335735, -0.22609044,\n",
      "        0.04578277,  0.10797954, -0.02739304]), array([-0.62266801,  0.04638484,  0.99955742, -0.17148264, -0.12520529])]\n",
      "\n",
      "Model Weights\n",
      "[array([[-4.23387402e-02,  9.60332886e-02, -1.17981506e-01,\n",
      "         4.20143410e-02,  4.14963412e-02, -2.45138652e-01,\n",
      "        -1.34338830e-01, -1.20450179e-01, -7.09682283e-02,\n",
      "        -2.22768470e-02, -6.42541766e-02, -1.63361107e-01,\n",
      "        -1.22611634e-01,  1.07157013e-01, -4.99857295e-01,\n",
      "         5.63765659e-03,  1.02185659e-01, -3.28169595e-02],\n",
      "       [-2.01428430e-01, -1.22638562e-01,  5.71555867e-01,\n",
      "        -1.79035542e-01, -1.79794546e-01, -3.85863812e-02,\n",
      "         1.43374539e-01, -2.93391368e-01, -3.11808316e-01,\n",
      "        -1.80183167e-01, -4.21243375e-01,  5.85043027e-03,\n",
      "        -1.76788408e-01,  1.52809176e-02, -8.78294436e-01,\n",
      "        -1.01795903e-01,  3.74857321e-01, -5.18698717e-01],\n",
      "       [ 6.51340174e-02,  1.43963738e-01, -4.78195060e-02,\n",
      "         1.93805395e-01,  4.56420295e-01,  1.53075122e-02,\n",
      "        -9.73641020e-02,  8.30238615e-03, -2.14814996e-01,\n",
      "        -4.82213927e-02,  9.77509253e-02, -2.41069057e-01,\n",
      "        -9.23149661e-02, -2.20937015e-01, -5.63794092e-01,\n",
      "         2.89162601e-02,  7.31822542e-02, -2.26224753e-01],\n",
      "       [-7.93862068e-02, -8.76050113e-01,  2.14726171e-01,\n",
      "        -4.71401380e-01, -7.86311188e-01,  2.05515244e-01,\n",
      "        -1.74182081e-01, -2.82303041e-01, -2.78599024e-01,\n",
      "        -3.98135276e-02, -9.60766912e-02, -1.32952553e+00,\n",
      "        -2.03712428e-01,  9.32830508e-01,  1.80704601e-02,\n",
      "         5.52807665e-01,  7.34538498e-01, -3.40526271e-01],\n",
      "       [-1.53831983e-01,  1.31846757e-01, -4.12983551e-02,\n",
      "        -1.84902811e-01,  7.85675823e-02, -4.98013579e-02,\n",
      "         1.06776991e-01,  9.73797618e-02,  1.62509360e-01,\n",
      "         5.26973529e-02,  1.05407305e-01,  6.42559998e-03,\n",
      "        -9.70803936e-02,  1.93154401e-01, -1.28538808e-02,\n",
      "         2.03572485e-01,  5.42661157e-02,  5.13453707e-02],\n",
      "       [-1.73183222e-01,  7.86034393e-02,  1.72691456e-01,\n",
      "        -4.95866675e-01, -5.89415475e-01, -8.67213756e-03,\n",
      "         1.67239022e-01, -2.30515425e-02, -2.51100757e-01,\n",
      "         1.72426406e-02,  2.26562926e-02,  3.27022310e-01,\n",
      "         1.49121720e-01,  3.09734877e-01,  1.07755102e-01,\n",
      "         7.80683360e-02,  3.43743230e-02,  1.32402227e-01],\n",
      "       [ 2.73411195e-02,  2.23058643e-01,  4.13285308e-01,\n",
      "         4.78435871e-01,  1.34216082e+00, -2.93867936e-01,\n",
      "        -1.96818949e-01, -2.86854143e-01, -4.08949628e-02,\n",
      "         1.02606765e-01, -2.52833628e-01, -7.28629902e-01,\n",
      "        -1.99389519e-01, -4.67262928e-01, -1.63098388e+00,\n",
      "        -2.09261110e-01,  8.53040546e-01, -4.12949127e-01],\n",
      "       [ 2.25229881e-02,  1.45840007e-01, -1.60250338e-01,\n",
      "        -9.41549407e-02,  3.65672719e-02,  2.00233298e-01,\n",
      "         2.60229347e-02, -2.05246029e-01,  1.28188044e-01,\n",
      "        -1.13858235e-01,  1.30720346e-01, -4.78160583e-02,\n",
      "         1.55012157e-01,  1.05371248e-01,  2.39805125e-02,\n",
      "        -1.55013562e-01, -1.87648455e-01, -1.61533738e-01],\n",
      "       [-2.37686324e-01, -1.37475635e-01,  3.71934059e-01,\n",
      "         5.15323840e-01,  7.95857678e-01, -4.84875230e-01,\n",
      "        -1.94283047e-01, -1.67864413e-01, -1.17099435e-01,\n",
      "        -1.95341921e-01, -3.92107999e-01, -4.50893673e-02,\n",
      "        -1.45099402e-01, -1.90770890e-01, -7.86144411e-01,\n",
      "         3.07039064e-02,  3.71687200e-01, -3.97815799e-01],\n",
      "       [ 3.86978471e-02,  1.07918616e-01,  2.77042446e-02,\n",
      "        -1.86017896e-01,  1.34682869e-02, -1.69426105e-01,\n",
      "         3.85469005e-02, -5.22590448e-02, -1.09412798e-01,\n",
      "         1.83919126e-01, -3.49473947e-02, -1.06121376e-01,\n",
      "         1.58738294e-02, -7.54300752e-02, -2.67628989e-01,\n",
      "        -1.86954410e-01,  4.04870707e-02, -2.13330633e-01],\n",
      "       [-5.81043633e-03, -1.11100937e-01,  6.86239323e-01,\n",
      "        -3.93450368e-01, -1.54515159e-01,  2.07709606e-02,\n",
      "        -1.39097156e-01, -3.47315120e-01, -1.85213774e-01,\n",
      "         2.34069342e-02, -2.95541828e-01, -4.85194763e-01,\n",
      "         1.15361685e-01, -2.44755052e-03, -8.57020288e-01,\n",
      "         7.01730148e-02,  5.48602280e-01, -5.89746028e-01],\n",
      "       [ 3.76945456e-02,  2.02078137e-01,  3.33128899e-01,\n",
      "         9.68913529e-02,  3.79008203e-01, -2.65773833e-03,\n",
      "        -4.96903826e-02, -1.00984006e-01,  6.57739437e-03,\n",
      "         1.00750989e-03,  1.24642421e-01, -2.15107744e-02,\n",
      "        -4.17863443e-02,  1.57715384e-01, -4.70782512e-01,\n",
      "        -2.19235379e-01,  3.93355176e-03, -9.71712429e-02],\n",
      "       [-3.49398761e-01,  2.50170953e-01,  1.34144100e+00,\n",
      "        -2.99377510e-01, -2.23787658e-01,  6.69106250e-01,\n",
      "        -1.95723340e-01, -9.88045370e-01, -5.51193193e-01,\n",
      "        -6.55830013e-02, -1.44924377e-01,  1.36232671e+00,\n",
      "         1.56885519e-01,  4.42217735e-01,  1.53349213e+00,\n",
      "        -2.57775051e-01,  6.59498983e-02, -3.05095748e-01],\n",
      "       [-1.65252979e-01,  1.22857175e-01,  1.46915611e+00,\n",
      "         1.40231681e-01, -3.00925146e-01,  7.54099064e-01,\n",
      "        -1.19705003e-01, -1.04772995e+00, -5.19581197e-01,\n",
      "        -3.78368346e-01,  1.28943947e-01, -7.55440958e-01,\n",
      "        -1.81885526e-01, -2.56090184e-01,  8.46636225e-01,\n",
      "         1.13862297e-01, -6.62676725e-02,  2.39933384e-01],\n",
      "       [-7.11654088e-02,  2.16966620e-01,  2.52007933e-01,\n",
      "         3.10608828e-01,  3.85121291e-01, -6.67202267e-02,\n",
      "        -9.62442419e-02, -1.17619462e-01,  4.55033106e-02,\n",
      "         1.24595184e-01,  3.75401591e-04, -1.10807596e-01,\n",
      "         1.52011794e-01, -1.75499099e-01, -4.18914587e-01,\n",
      "        -9.16265615e-02,  1.92473133e-01, -2.02184016e-01],\n",
      "       [-4.21386771e-02, -7.56374381e-02,  5.43397157e-02,\n",
      "        -5.78809771e-02,  1.75646790e-01,  7.54172309e-02,\n",
      "        -1.28580799e-01, -3.28651817e-02, -6.75503575e-02,\n",
      "         1.27420600e-01,  1.61029547e-01,  1.73365388e-01,\n",
      "         6.93806058e-02, -7.36824210e-02, -1.15617097e-01,\n",
      "         1.52362099e-01,  1.21281324e-02,  1.27003887e-01],\n",
      "       [-4.62290393e-03, -4.05036826e-02,  2.89029480e-01,\n",
      "        -7.89072789e-02, -8.54759466e-02,  9.54378578e-03,\n",
      "        -7.18546936e-02, -3.83636961e-01, -1.31296418e-01,\n",
      "        -2.03438038e-01,  1.62699345e-01,  2.77620277e-01,\n",
      "         1.42366335e-01,  2.61586478e-01, -2.49726775e-01,\n",
      "         8.03685684e-02,  1.35733893e-01, -1.86335213e-01],\n",
      "       [-1.06792480e-01, -9.11937861e-02,  4.71601269e-01,\n",
      "        -1.98833282e-01, -3.24630984e-01,  2.61445320e-01,\n",
      "        -1.12787350e-01, -5.72309235e-01, -2.42822506e-01,\n",
      "         3.58875512e-02,  6.87962945e-02, -1.14338123e-02,\n",
      "        -1.20937173e-01,  2.03550543e-01, -8.02824527e-01,\n",
      "         8.94778255e-02,  3.60600979e-01, -5.61468291e-01],\n",
      "       [-6.92507722e-03, -2.99274410e-02,  1.53709740e-02,\n",
      "         4.92612007e-03,  1.23653105e-01, -4.63513860e-02,\n",
      "        -1.55005134e-01, -5.55249042e-03, -1.53571779e-01,\n",
      "         9.80226771e-03,  2.82394299e-02, -3.08853527e-01,\n",
      "        -7.58795179e-02,  1.50633761e-01, -2.30697902e-01,\n",
      "        -3.99314983e-02,  2.88323136e-01,  5.48153679e-02],\n",
      "       [ 7.19497831e-02,  2.93255664e-01,  4.56351924e-01,\n",
      "         3.35799551e-01,  2.14940673e-03, -2.79429028e-01,\n",
      "         1.17458307e-01, -7.11048818e-01, -9.80930166e-02,\n",
      "        -1.90948327e-02, -4.48700661e-01,  1.58542622e-01,\n",
      "         4.21208392e-02, -2.38203018e-01, -1.14672269e+00,\n",
      "        -1.65727127e-01,  6.77233134e-01, -2.23487404e-01],\n",
      "       [-1.20906882e-01,  5.07319022e-03,  5.28386879e-01,\n",
      "        -2.95560632e-01, -6.84286516e-01,  5.07391946e-02,\n",
      "         1.93489252e-01, -3.53927920e-01, -1.35007966e-01,\n",
      "        -1.31098238e-01, -2.77603585e-01, -6.03105984e-01,\n",
      "        -1.54801538e-01,  5.52079521e-01, -1.36015540e+00,\n",
      "        -9.95202010e-02,  3.52894846e-01, -2.89240268e-01],\n",
      "       [ 4.33154158e-02,  4.94848731e-02,  4.30426055e-01,\n",
      "        -3.18441355e-02,  5.97020907e-02, -4.32989768e-01,\n",
      "        -1.16957911e-01, -4.67641844e-01, -2.41632053e-02,\n",
      "        -3.48093124e-02, -5.32694808e-01, -1.65849058e-01,\n",
      "        -1.23390676e-01,  4.25251691e-02, -1.04690355e+00,\n",
      "        -4.09834951e-01,  3.15732635e-01, -2.17440984e-01],\n",
      "       [-8.07977534e-02,  2.42219890e-01,  4.93038263e-01,\n",
      "         1.35095806e-01,  7.68944148e-02, -2.77831920e-02,\n",
      "        -2.07628177e-01, -2.51339939e-01, -1.71637751e-01,\n",
      "         1.47866067e-02, -4.51066625e-01,  3.86818583e-01,\n",
      "        -1.83745413e-01, -3.79148069e-02, -1.19339397e+00,\n",
      "        -1.04567107e-01,  4.02053982e-01, -3.34782986e-01],\n",
      "       [ 5.17554523e-02, -1.25783013e-01,  5.45387616e-01,\n",
      "         8.56692561e-02,  4.67382688e-01, -9.62463640e-02,\n",
      "        -1.60272288e-01, -6.40899881e-01, -3.13203737e-01,\n",
      "        -1.51350815e-01, -1.90479925e-01,  1.38043540e-02,\n",
      "        -2.28774092e-01,  4.43258257e-02, -9.39923893e-01,\n",
      "         1.49238966e-01,  3.17143963e-01, -4.25391040e-01],\n",
      "       [-1.28674667e-02, -6.34741076e-03,  1.70840747e-01,\n",
      "         5.76567463e-03,  3.15919461e-01, -2.53182542e-01,\n",
      "         1.14473345e-01, -2.08168600e-01,  3.27077891e-02,\n",
      "        -2.14855793e-01, -3.50007413e-02, -3.01281411e-01,\n",
      "         1.89432455e-01,  9.94939633e-02, -9.92402834e-04,\n",
      "         1.46862797e-01, -8.91598958e-02, -2.04463757e-01],\n",
      "       [-1.77341072e-01,  3.71301766e-02,  6.06130722e-01,\n",
      "         5.54332953e-01,  7.90203030e-01, -2.59557871e-01,\n",
      "         1.57261346e-01, -4.80068739e-01, -2.51683786e-01,\n",
      "        -1.92466145e-01, -4.98378059e-01, -2.80546493e-01,\n",
      "        -1.65745593e-01, -5.46222054e-01, -1.08079926e+00,\n",
      "        -1.66490706e-01,  6.88047678e-01, -5.71448438e-01]]), array([[-3.94218353e-02, -2.93477197e-01, -1.11117595e-02,\n",
      "        -1.27272430e-01,  2.37449330e-03],\n",
      "       [ 3.45184059e-01, -1.55792484e+00,  1.05263894e+00,\n",
      "         2.17832563e-01,  1.74298646e-01],\n",
      "       [ 2.45064771e+00, -2.03094245e-01, -4.12860267e+00,\n",
      "         1.26396063e+00,  9.21867985e-01],\n",
      "       [ 2.01314611e+00, -1.62713213e+00, -1.09284336e+00,\n",
      "         3.86017743e-01, -1.29095303e-01],\n",
      "       [ 5.73217402e+00, -1.01149767e-01, -3.01302497e+00,\n",
      "        -1.80908777e+00, -7.98335296e-01],\n",
      "       [-1.13722603e+00,  5.51073518e-02,  7.73695250e-01,\n",
      "         9.65166594e-02, -2.03213005e-01],\n",
      "       [ 7.49771517e-02, -2.04789553e-01,  1.00441884e-02,\n",
      "         2.80368221e-01,  1.80303951e-01],\n",
      "       [-7.34154351e-01,  9.45979597e-01,  9.64839977e-01,\n",
      "         2.35482329e-01, -1.05831727e+00],\n",
      "       [-1.33370281e-01, -1.56866941e-01, -8.59601221e-02,\n",
      "        -2.13553760e-01,  2.72146915e-01],\n",
      "       [-1.35263094e-01,  4.52634467e-01, -1.08376191e-01,\n",
      "         1.62749039e-01,  1.38454985e-01],\n",
      "       [-2.07065430e+00,  1.24206204e+00,  1.42592994e+00,\n",
      "        -8.06207840e-01, -8.37504002e-02],\n",
      "       [-3.48622096e+00,  7.34038342e-01,  1.35054737e+00,\n",
      "         7.74907469e-01,  2.16654930e-01],\n",
      "       [ 1.70313549e-01, -2.89233450e-02,  2.24049012e-01,\n",
      "        -1.86097233e-01, -1.07652901e-01],\n",
      "       [-1.41612409e+00,  1.97825001e+00,  1.16182970e+00,\n",
      "        -1.11582394e+00, -7.96872308e-01],\n",
      "       [-3.79802994e+00, -2.68882113e-01,  1.45386826e+00,\n",
      "         1.71528869e+00,  6.62895252e-01],\n",
      "       [-6.71952612e-01,  3.73435074e-01,  4.29291762e-01,\n",
      "         9.18248637e-02, -1.04085545e-01],\n",
      "       [ 2.21443676e+00,  7.21277867e-01,  7.34244557e-01,\n",
      "        -2.43276462e+00, -1.23833586e+00],\n",
      "       [-1.93911098e+00,  1.53996302e+00,  1.32732879e+00,\n",
      "         5.51228608e-02, -3.39836795e-01]])]\n"
     ]
    }
   ],
   "source": [
    "nn_classifier = MLPClassifier(hidden_layer_sizes=(18), activation='logistic', \n",
    "                    solver='lbfgs', max_iter=10000, random_state=1)\n",
    "\n",
    "nn_classifier.fit(train_x, train_y)\n",
    "\n",
    "print('Model Intercepts')\n",
    "print(nn_classifier.intercepts_)\n",
    "print()\n",
    "print('Model Weights')\n",
    "print(nn_classifier.coefs_)"
   ]
  },
  {
   "cell_type": "code",
   "execution_count": 36,
   "id": "98d9e9ba",
   "metadata": {
    "execution": {
     "iopub.execute_input": "2022-09-06T00:48:36.271190Z",
     "iopub.status.busy": "2022-09-06T00:48:36.270875Z",
     "iopub.status.idle": "2022-09-06T00:48:36.330849Z",
     "shell.execute_reply": "2022-09-06T00:48:36.329672Z"
    },
    "papermill": {
     "duration": 0.130733,
     "end_time": "2022-09-06T00:48:36.334635",
     "exception": false,
     "start_time": "2022-09-06T00:48:36.203902",
     "status": "completed"
    },
    "tags": []
   },
   "outputs": [
    {
     "data": {
      "text/html": [
       "<div>\n",
       "<style scoped>\n",
       "    .dataframe tbody tr th:only-of-type {\n",
       "        vertical-align: middle;\n",
       "    }\n",
       "\n",
       "    .dataframe tbody tr th {\n",
       "        vertical-align: top;\n",
       "    }\n",
       "\n",
       "    .dataframe thead th {\n",
       "        text-align: right;\n",
       "    }\n",
       "</style>\n",
       "<table border=\"1\" class=\"dataframe\">\n",
       "  <thead>\n",
       "    <tr style=\"text-align: right;\">\n",
       "      <th></th>\n",
       "      <th>Actual</th>\n",
       "      <th>Classification</th>\n",
       "      <th>P(1)</th>\n",
       "      <th>P(2)</th>\n",
       "      <th>P(3)</th>\n",
       "      <th>P(4)</th>\n",
       "      <th>P(5)</th>\n",
       "    </tr>\n",
       "  </thead>\n",
       "  <tbody>\n",
       "    <tr>\n",
       "      <th>1910</th>\n",
       "      <td>3</td>\n",
       "      <td>3</td>\n",
       "      <td>0.0000</td>\n",
       "      <td>0.0989</td>\n",
       "      <td>0.7790</td>\n",
       "      <td>0.0940</td>\n",
       "      <td>0.0281</td>\n",
       "    </tr>\n",
       "    <tr>\n",
       "      <th>2020</th>\n",
       "      <td>3</td>\n",
       "      <td>3</td>\n",
       "      <td>0.0000</td>\n",
       "      <td>0.0989</td>\n",
       "      <td>0.7790</td>\n",
       "      <td>0.0940</td>\n",
       "      <td>0.0281</td>\n",
       "    </tr>\n",
       "    <tr>\n",
       "      <th>3394</th>\n",
       "      <td>1</td>\n",
       "      <td>1</td>\n",
       "      <td>0.9998</td>\n",
       "      <td>0.0001</td>\n",
       "      <td>0.0000</td>\n",
       "      <td>0.0000</td>\n",
       "      <td>0.0000</td>\n",
       "    </tr>\n",
       "    <tr>\n",
       "      <th>2456</th>\n",
       "      <td>3</td>\n",
       "      <td>4</td>\n",
       "      <td>0.0001</td>\n",
       "      <td>0.0227</td>\n",
       "      <td>0.3186</td>\n",
       "      <td>0.5851</td>\n",
       "      <td>0.0735</td>\n",
       "    </tr>\n",
       "    <tr>\n",
       "      <th>2793</th>\n",
       "      <td>2</td>\n",
       "      <td>3</td>\n",
       "      <td>0.0000</td>\n",
       "      <td>0.1312</td>\n",
       "      <td>0.8349</td>\n",
       "      <td>0.0282</td>\n",
       "      <td>0.0057</td>\n",
       "    </tr>\n",
       "    <tr>\n",
       "      <th>...</th>\n",
       "      <td>...</td>\n",
       "      <td>...</td>\n",
       "      <td>...</td>\n",
       "      <td>...</td>\n",
       "      <td>...</td>\n",
       "      <td>...</td>\n",
       "      <td>...</td>\n",
       "    </tr>\n",
       "    <tr>\n",
       "      <th>2</th>\n",
       "      <td>4</td>\n",
       "      <td>3</td>\n",
       "      <td>0.0000</td>\n",
       "      <td>0.0989</td>\n",
       "      <td>0.7790</td>\n",
       "      <td>0.0940</td>\n",
       "      <td>0.0281</td>\n",
       "    </tr>\n",
       "    <tr>\n",
       "      <th>763</th>\n",
       "      <td>2</td>\n",
       "      <td>4</td>\n",
       "      <td>0.0000</td>\n",
       "      <td>0.0625</td>\n",
       "      <td>0.4097</td>\n",
       "      <td>0.4609</td>\n",
       "      <td>0.0668</td>\n",
       "    </tr>\n",
       "    <tr>\n",
       "      <th>447</th>\n",
       "      <td>3</td>\n",
       "      <td>3</td>\n",
       "      <td>0.0000</td>\n",
       "      <td>0.0989</td>\n",
       "      <td>0.7790</td>\n",
       "      <td>0.0940</td>\n",
       "      <td>0.0281</td>\n",
       "    </tr>\n",
       "    <tr>\n",
       "      <th>1918</th>\n",
       "      <td>3</td>\n",
       "      <td>3</td>\n",
       "      <td>0.0000</td>\n",
       "      <td>0.1312</td>\n",
       "      <td>0.8349</td>\n",
       "      <td>0.0282</td>\n",
       "      <td>0.0057</td>\n",
       "    </tr>\n",
       "    <tr>\n",
       "      <th>3133</th>\n",
       "      <td>3</td>\n",
       "      <td>3</td>\n",
       "      <td>0.0001</td>\n",
       "      <td>0.1234</td>\n",
       "      <td>0.8191</td>\n",
       "      <td>0.0388</td>\n",
       "      <td>0.0186</td>\n",
       "    </tr>\n",
       "  </tbody>\n",
       "</table>\n",
       "<p>1293 rows × 7 columns</p>\n",
       "</div>"
      ],
      "text/plain": [
       "      Actual  Classification    P(1)    P(2)    P(3)    P(4)    P(5)\n",
       "1910       3               3  0.0000  0.0989  0.7790  0.0940  0.0281\n",
       "2020       3               3  0.0000  0.0989  0.7790  0.0940  0.0281\n",
       "3394       1               1  0.9998  0.0001  0.0000  0.0000  0.0000\n",
       "2456       3               4  0.0001  0.0227  0.3186  0.5851  0.0735\n",
       "2793       2               3  0.0000  0.1312  0.8349  0.0282  0.0057\n",
       "...      ...             ...     ...     ...     ...     ...     ...\n",
       "2          4               3  0.0000  0.0989  0.7790  0.0940  0.0281\n",
       "763        2               4  0.0000  0.0625  0.4097  0.4609  0.0668\n",
       "447        3               3  0.0000  0.0989  0.7790  0.0940  0.0281\n",
       "1918       3               3  0.0000  0.1312  0.8349  0.0282  0.0057\n",
       "3133       3               3  0.0001  0.1234  0.8191  0.0388  0.0186\n",
       "\n",
       "[1293 rows x 7 columns]"
      ]
     },
     "execution_count": 36,
     "metadata": {},
     "output_type": "execute_result"
    }
   ],
   "source": [
    "nn_pred_cl = nn_classifier.predict(valid_x)\n",
    "nn_pred_cl_proba = np.round(nn_classifier.predict_proba(valid_x), 4)\n",
    "\n",
    "nn_result = pd.DataFrame({\n",
    "    'Actual': valid_y,\n",
    "    'Classification': nn_pred_cl,\n",
    "    'P(1)': [P[0] for P in nn_pred_cl_proba],\n",
    "    'P(2)': [P[1] for P in nn_pred_cl_proba],\n",
    "    'P(3)': [P[2] for P in nn_pred_cl_proba],\n",
    "    'P(4)': [P[3] for P in nn_pred_cl_proba],\n",
    "    'P(5)': [P[4] for P in nn_pred_cl_proba]\n",
    "})\n",
    "\n",
    "nn_result"
   ]
  },
  {
   "cell_type": "code",
   "execution_count": 37,
   "id": "8fee1ec8",
   "metadata": {
    "execution": {
     "iopub.execute_input": "2022-09-06T00:48:36.514920Z",
     "iopub.status.busy": "2022-09-06T00:48:36.514638Z",
     "iopub.status.idle": "2022-09-06T00:48:36.552387Z",
     "shell.execute_reply": "2022-09-06T00:48:36.551160Z"
    },
    "papermill": {
     "duration": 0.11251,
     "end_time": "2022-09-06T00:48:36.558393",
     "exception": false,
     "start_time": "2022-09-06T00:48:36.445883",
     "status": "completed"
    },
    "tags": []
   },
   "outputs": [
    {
     "name": "stdout",
     "output_type": "stream",
     "text": [
      "Training Pratition\n",
      "Confusion Matrix (Accuracy 0.7580)\n",
      "\n",
      "       Prediction\n",
      "Actual    0    1    2    3    4\n",
      "     0  216    1    0    0    0\n",
      "     1    6   30  153    9    0\n",
      "     2    9    3 1050  132    0\n",
      "     3    0    0  104  173    0\n",
      "     4    0    0   20   32    0\n",
      "\n",
      "Valid Pratition\n",
      "Confusion Matrix (Accuracy 0.7440)\n",
      "\n",
      "       Prediction\n",
      "Actual   0   1   2   3   4\n",
      "     0 136   4   1   0   0\n",
      "     1   6  19 113   7   0\n",
      "     2   4   6 690 103   0\n",
      "     3   0   0  60 117   0\n",
      "     4   0   0   7  20   0\n"
     ]
    }
   ],
   "source": [
    "print('Training Pratition')\n",
    "classificationSummary(train_y,nn_classifier.predict(train_x))\n",
    "print()\n",
    "print('Valid Pratition')\n",
    "classificationSummary(valid_y,nn_classifier.predict(valid_x))"
   ]
  },
  {
   "cell_type": "code",
   "execution_count": null,
   "id": "7b5c9e1c",
   "metadata": {
    "papermill": {
     "duration": 0.069852,
     "end_time": "2022-09-06T00:48:36.755856",
     "exception": false,
     "start_time": "2022-09-06T00:48:36.686004",
     "status": "completed"
    },
    "tags": []
   },
   "outputs": [],
   "source": []
  }
 ],
 "metadata": {
  "kernelspec": {
   "display_name": "Python 3",
   "language": "python",
   "name": "python3"
  },
  "language_info": {
   "codemirror_mode": {
    "name": "ipython",
    "version": 3
   },
   "file_extension": ".py",
   "mimetype": "text/x-python",
   "name": "python",
   "nbconvert_exporter": "python",
   "pygments_lexer": "ipython3",
   "version": "3.7.12"
  },
  "papermill": {
   "default_parameters": {},
   "duration": 184.526947,
   "end_time": "2022-09-06T00:48:39.443564",
   "environment_variables": {},
   "exception": null,
   "input_path": "__notebook__.ipynb",
   "output_path": "__notebook__.ipynb",
   "parameters": {},
   "start_time": "2022-09-06T00:45:34.916617",
   "version": "2.3.4"
  }
 },
 "nbformat": 4,
 "nbformat_minor": 5
}
